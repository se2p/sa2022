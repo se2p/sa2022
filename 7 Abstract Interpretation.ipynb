{
 "cells": [
  {
   "cell_type": "markdown",
   "id": "97409467",
   "metadata": {
    "slideshow": {
     "slide_type": "slide"
    }
   },
   "source": [
    "# Abstract Interpretation"
   ]
  },
  {
   "cell_type": "markdown",
   "id": "fc89341d",
   "metadata": {
    "slideshow": {
     "slide_type": "skip"
    }
   },
   "source": [
    "In the previous chapter we considered basic dataflow analysis; in this chapter we are going to generalize the iterative framework introduced to a lattice based one, which allows us to perform abstract interpretation of programs. The latteice-based framework also provides a single formal model that we can use to describe all data flow analyses, and it allows us to define notions of correctness or termination."
   ]
  },
  {
   "cell_type": "markdown",
   "id": "e29dc1bd",
   "metadata": {
    "slideshow": {
     "slide_type": "skip"
    }
   },
   "source": [
    "(This chapter is work in progress; happy to receive fixes or suggestions)"
   ]
  },
  {
   "cell_type": "markdown",
   "id": "b456f227",
   "metadata": {
    "slideshow": {
     "slide_type": "slide"
    }
   },
   "source": [
    "## Prerequisites"
   ]
  },
  {
   "cell_type": "markdown",
   "id": "87264220",
   "metadata": {
    "slideshow": {
     "slide_type": "skip"
    }
   },
   "source": [
    "As usual we first need to start by adding our CFG and helper classes and functions."
   ]
  },
  {
   "cell_type": "code",
   "execution_count": 1,
   "id": "e29a2478",
   "metadata": {
    "slideshow": {
     "slide_type": "fragment"
    }
   },
   "outputs": [],
   "source": [
    "import javalang"
   ]
  },
  {
   "cell_type": "code",
   "execution_count": 2,
   "id": "7cb560b4",
   "metadata": {
    "slideshow": {
     "slide_type": "fragment"
    }
   },
   "outputs": [],
   "source": [
    "def parse_method(code):\n",
    "    class_code = \"class Dummy {\\n\" + code + \"\\n}\";\n",
    "    tokens = javalang.tokenizer.tokenize(class_code)\n",
    "    parser = javalang.parser.Parser(tokens)\n",
    "    ast = parser.parse()\n",
    "    _, node = list(ast.filter(javalang.tree.MethodDeclaration))[0]\n",
    "    return node"
   ]
  },
  {
   "cell_type": "code",
   "execution_count": 3,
   "id": "bf86f0cd",
   "metadata": {
    "slideshow": {
     "slide_type": "fragment"
    }
   },
   "outputs": [],
   "source": [
    "class CFGNode:\n",
    "    def __init__(self, ast_node):\n",
    "        self.ast_node = ast_node\n",
    "    \n",
    "    def __str__(self):\n",
    "        if type(self.ast_node) == str:\n",
    "            return self.ast_node\n",
    "        else:\n",
    "            return str(self.ast_node.position.line - 1)"
   ]
  },
  {
   "cell_type": "code",
   "execution_count": 4,
   "id": "80f6d4d9",
   "metadata": {
    "slideshow": {
     "slide_type": "slide"
    }
   },
   "outputs": [],
   "source": [
    "from dataclasses import dataclass"
   ]
  },
  {
   "cell_type": "code",
   "execution_count": 5,
   "id": "e64fd71f",
   "metadata": {
    "slideshow": {
     "slide_type": "fragment"
    }
   },
   "outputs": [],
   "source": [
    "@dataclass(frozen=True, eq=True)\n",
    "class Definition:\n",
    "    name: str\n",
    "    node: CFGNode\n",
    "        \n",
    "    def __str__(self):\n",
    "        return f\"Def: {self.name} in line {self.node.ast_node.position.line - 1}\""
   ]
  },
  {
   "cell_type": "code",
   "execution_count": 6,
   "id": "02134f7b",
   "metadata": {
    "slideshow": {
     "slide_type": "fragment"
    }
   },
   "outputs": [],
   "source": [
    "@dataclass(frozen=True, eq=True)\n",
    "class Use:\n",
    "    name: str\n",
    "    node: CFGNode\n",
    "        \n",
    "    def __str__(self):\n",
    "        if isinstance(self.node.ast_node, str):\n",
    "            return f\"Use: {self.name} in {self.node.ast_node}\"\n",
    "        \n",
    "        return f\"Use: {self.name} in line {self.node.ast_node.position.line - 1}\""
   ]
  },
  {
   "cell_type": "code",
   "execution_count": 7,
   "id": "892513a5",
   "metadata": {
    "slideshow": {
     "slide_type": "slide"
    }
   },
   "outputs": [],
   "source": [
    "@dataclass(frozen=True, eq=True)\n",
    "class Expression:\n",
    "    expression: javalang.tree.BinaryOperation\n",
    "    node: CFGNode\n",
    "\n",
    "    def variables(self):\n",
    "        variables = set()\n",
    "        if not self.expression or isinstance(self.expression, str):\n",
    "            return variables\n",
    "        \n",
    "        # Do not check children that contain other statements\n",
    "        root = self.expression\n",
    "        if isinstance(self.expression, javalang.tree.ForStatement):\n",
    "            root = self.expression.control\n",
    "        elif hasattr(self.expression, \"condition\"):\n",
    "            root = self.expression.condition\n",
    "        elif isinstance(self.expression, javalang.tree.StatementExpression):\n",
    "            # Assignment: lhs only if it is a +=, -=, etc\n",
    "            if isinstance(self.expression.expression, javalang.tree.Assignment):\n",
    "                if len(self.expression.expression.type) > 1:\n",
    "                    root = self.expression.expression\n",
    "                else:\n",
    "                    root = self.expression.expression.value\n",
    "            \n",
    "        for _, node in root.filter(javalang.tree.MemberReference):\n",
    "            variables.add(node.member)\n",
    "        return variables\n",
    "    \n",
    "    def __str__(self):\n",
    "        return f\"Expression: {self.expression} in line {self.node.ast_node.position.line - 1}\""
   ]
  },
  {
   "cell_type": "code",
   "execution_count": 8,
   "id": "248a0e1f",
   "metadata": {
    "slideshow": {
     "slide_type": "slide"
    }
   },
   "outputs": [],
   "source": [
    "class CFGNode(CFGNode):\n",
    "    def expressions(self):\n",
    "        expressions = set()\n",
    "        if not self.ast_node or isinstance(self.ast_node, str):\n",
    "            return expressions\n",
    "        \n",
    "        for node in get_children(self.ast_node):\n",
    "            if isinstance(node, javalang.tree.BinaryOperation):\n",
    "                expressions.add(Expression(node, self))\n",
    "                \n",
    "        return expressions"
   ]
  },
  {
   "cell_type": "code",
   "execution_count": 9,
   "id": "94e0f505",
   "metadata": {
    "slideshow": {
     "slide_type": "slide"
    }
   },
   "outputs": [],
   "source": [
    "class CFGNode(CFGNode):\n",
    "    def definitions(self):\n",
    "        definitions = set()\n",
    "        if not self.ast_node or isinstance(self.ast_node, str):\n",
    "            return definitions\n",
    "        \n",
    "        # Do not check children that contain other statements\n",
    "        root = self.ast_node\n",
    "        if isinstance(self.ast_node, javalang.tree.ForStatement):\n",
    "            root = self.ast_node.control\n",
    "        elif hasattr(self.ast_node, \"condition\"):\n",
    "            root = self.ast_node.condition\n",
    "                    \n",
    "        for _, node in root.filter(javalang.tree.LocalVariableDeclaration):\n",
    "            decl = node.declarators[0]\n",
    "            definitions.add(Definition(decl.name, self))\n",
    "        for _, node in root.filter(javalang.tree.Assignment):\n",
    "            memberref = node.expressionl\n",
    "            definitions.add(Definition(memberref.member, self))\n",
    "        for _, node in root.filter(javalang.tree.MemberReference):\n",
    "            if node.prefix_operators or node.postfix_operators:\n",
    "                definitions.add(Definition(node.member, self))\n",
    "        return definitions"
   ]
  },
  {
   "cell_type": "code",
   "execution_count": 10,
   "id": "0200ea2a",
   "metadata": {
    "slideshow": {
     "slide_type": "slide"
    }
   },
   "outputs": [],
   "source": [
    "class CFGNode(CFGNode):\n",
    "    def uses(self):\n",
    "        uses = set()\n",
    "        if not self.ast_node or isinstance(self.ast_node, str):\n",
    "            return uses\n",
    "        \n",
    "        # Do not check children that contain other statements\n",
    "        root = self.ast_node\n",
    "        if isinstance(self.ast_node, javalang.tree.ForStatement):\n",
    "            root = self.ast_node.control\n",
    "        elif hasattr(self.ast_node, \"condition\"):\n",
    "            root = self.ast_node.condition\n",
    "        elif isinstance(self.ast_node, javalang.tree.StatementExpression):\n",
    "            # Assignment: lhs only if it is a +=, -=, etc\n",
    "            if isinstance(self.ast_node.expression, javalang.tree.Assignment):\n",
    "                if len(self.ast_node.expression.type) > 1:\n",
    "                    root = self.ast_node.expression\n",
    "                else:\n",
    "                    root = self.ast_node.expression.value\n",
    "            \n",
    "        for _, node in root.filter(javalang.tree.MemberReference):\n",
    "            uses.add(Use(node.member, self))\n",
    "        for _, node in root.filter(javalang.tree.MethodInvocation):\n",
    "            uses.add(Use(node.qualifier, self)) # Only works for non-static methods\n",
    "        return uses"
   ]
  },
  {
   "cell_type": "code",
   "execution_count": 11,
   "id": "d0c4e3a0",
   "metadata": {
    "slideshow": {
     "slide_type": "slide"
    }
   },
   "outputs": [],
   "source": [
    "class StartNode(CFGNode):\n",
    "    def __init__(self, method_node):\n",
    "        self.ast_node = method_node\n",
    "        \n",
    "    def definitions(self):\n",
    "        definitions = set()\n",
    "        \n",
    "        for _, node in self.ast_node.filter(javalang.tree.FormalParameter):\n",
    "            definitions.add(Definition(node.name, self))\n",
    "        \n",
    "        return definitions\n",
    "    \n",
    "    def expressions(self):\n",
    "        return set()\n",
    "        \n",
    "    def __str__(self):\n",
    "        return \"Start\""
   ]
  },
  {
   "cell_type": "code",
   "execution_count": 12,
   "id": "ca8366ac",
   "metadata": {
    "slideshow": {
     "slide_type": "slide"
    }
   },
   "outputs": [],
   "source": [
    "class ProgramGraph:\n",
    "    def __init__(self, graph, start, end):\n",
    "        self.graph = graph\n",
    "        self.start = start\n",
    "        self.end   = end\n",
    "        \n",
    "    def nodes(self):\n",
    "        return self.graph.nodes()\n",
    "    \n",
    "    def edges(self):\n",
    "        return self.graph.edges()\n",
    "    \n",
    "    def successors(self, node):\n",
    "        return self.graph.successors(node)\n",
    "    \n",
    "    def predecessors(self, node):\n",
    "        return self.graph.predecessors(node)\n",
    "    \n",
    "    def is_branch(self, node):\n",
    "        return self.graph.out_degree(node) > 1\n",
    "    \n",
    "    def is_merge(self, node):\n",
    "        return self.graph.in_degree(node) > 1\n",
    "    \n",
    "    def reverse(self):\n",
    "        reverse_cfg = self.graph.reverse()\n",
    "        return ProgramGraph(reverse_cfg, self.end, self.start)    \n",
    "\n",
    "    def postorder(self):\n",
    "        return list(nx.dfs_postorder_nodes(self.graph, self.start))\n",
    "    \n",
    "    def reverse_postorder(self):\n",
    "        return self.postorder()[::-1]\n",
    "    \n",
    "    def node_for_line(self, line_no):\n",
    "        for node in self.nodes():\n",
    "            if str(node) == str(line_no):\n",
    "                return node\n",
    "        return None    \n",
    "    \n",
    "    def plot(self):\n",
    "        pos = nx.nx_agraph.graphviz_layout(self.graph, prog=\"dot\")\n",
    "        nx.draw_networkx_nodes(self.graph, pos=pos, node_size=800, node_color='#FFFFFF', edgecolors='#000000')\n",
    "        nx.draw_networkx_edges(self.graph, pos=pos, connectionstyle=\"arc\", arrowsize=20)\n",
    "        nx.draw_networkx_labels(self.graph, pos=pos)\n",
    "        nx.draw_networkx_edge_labels(self.graph, pos=pos, edge_labels=nx.get_edge_attributes(self.graph,'label'))"
   ]
  },
  {
   "cell_type": "code",
   "execution_count": 13,
   "id": "d9478855",
   "metadata": {
    "slideshow": {
     "slide_type": "slide"
    }
   },
   "outputs": [],
   "source": [
    "from functools import singledispatchmethod"
   ]
  },
  {
   "cell_type": "code",
   "execution_count": 14,
   "id": "d1eef9dc",
   "metadata": {
    "slideshow": {
     "slide_type": "fragment"
    }
   },
   "outputs": [],
   "source": [
    "import networkx as nx"
   ]
  },
  {
   "cell_type": "code",
   "execution_count": 15,
   "id": "87cd8b16",
   "metadata": {
    "slideshow": {
     "slide_type": "fragment"
    }
   },
   "outputs": [],
   "source": [
    "class CFGBuilder:\n",
    "    def __init__(self, method_declaration):\n",
    "        # create graph\n",
    "        self.graph = nx.DiGraph()\n",
    "        \n",
    "        # create entry/end node\n",
    "        self.start = StartNode(method_declaration)\n",
    "        self.end   = CFGNode(\"End\")\n",
    "        self.graph.add_node(self.start)\n",
    "        self.graph.add_node(self.end)\n",
    "        \n",
    "        # set entry as current target\n",
    "        self.frontier = [ self.start ]\n",
    "        \n",
    "        for node in method_declaration.body:\n",
    "            self.add_node(node)\n",
    "            \n",
    "        # Add edges from last nodes to end node\n",
    "        for parent in self.frontier:\n",
    "            self.graph.add_edge(parent, self.end)\n",
    "\n",
    "    def create_graph(self):\n",
    "        return ProgramGraph(self.graph, self.start, self.end)\n",
    "    \n",
    "    @singledispatchmethod\n",
    "    def add_node(self, node):\n",
    "        pass\n",
    "    \n",
    "    @add_node.register        \n",
    "    def add_block_node(self, block_node: javalang.tree.BlockStatement):\n",
    "        for node in block_node.statements:\n",
    "            self.add_node(node)            \n",
    "    \n",
    "    @add_node.register\n",
    "    def add_statement_node(self, node: javalang.tree.StatementExpression):\n",
    "        cfg_node = CFGNode(node)\n",
    "        self.graph.add_node(cfg_node)\n",
    "        for parent in self.frontier:\n",
    "            self.graph.add_edge(parent, cfg_node)\n",
    "        self.frontier = [ cfg_node ]\n",
    "        \n",
    "    @add_node.register\n",
    "    def add_declaration_node(self, node: javalang.tree.LocalVariableDeclaration):\n",
    "        self.add_statement_node(node)\n",
    "        \n",
    "    @add_node.register\n",
    "    def add_if_node(self, if_node: javalang.tree.IfStatement):\n",
    "        cfg_node = CFGNode(if_node)\n",
    "        self.graph.add_node(cfg_node)\n",
    "\n",
    "        for parent in self.frontier:\n",
    "            self.graph.add_edge(parent, cfg_node)\n",
    "        self.frontier = [cfg_node]\n",
    "        self.add_node(if_node.then_statement)\n",
    "        \n",
    "        if if_node.else_statement:\n",
    "            current_frontier = self.frontier[:]\n",
    "            self.frontier = [cfg_node]\n",
    "            self.add_node(if_node.else_statement)\n",
    "            self.frontier.extend(current_frontier)\n",
    "        else:\n",
    "            self.frontier.append(cfg_node)\n",
    "            \n",
    "    @add_node.register\n",
    "    def add_while_node(self, while_node: javalang.tree.WhileStatement):\n",
    "        cfg_node = CFGNode(while_node)\n",
    "        self.graph.add_node(cfg_node)\n",
    "        for parent in self.frontier:\n",
    "            self.graph.add_edge(parent, cfg_node)\n",
    "        self.frontier = [cfg_node]\n",
    "        self.add_node(while_node.body)\n",
    "        for parent in self.frontier:\n",
    "            self.graph.add_edge(parent, cfg_node)\n",
    "        self.frontier = [cfg_node]\n",
    "\n",
    "    @add_node.register\n",
    "    def add_return_node(self, return_node: javalang.tree.ReturnStatement):\n",
    "        cfg_node = CFGNode(return_node)\n",
    "        self.graph.add_node(cfg_node)\n",
    "        for parent in self.frontier:\n",
    "            self.graph.add_edge(parent, cfg_node)\n",
    "        self.graph.add_edge(cfg_node, self.end)\n",
    "        self.frontier = [] "
   ]
  },
  {
   "cell_type": "markdown",
   "id": "bcf25f94",
   "metadata": {
    "slideshow": {
     "slide_type": "slide"
    }
   },
   "source": [
    "## Lattices"
   ]
  },
  {
   "cell_type": "markdown",
   "id": "2da9716e",
   "metadata": {
    "slideshow": {
     "slide_type": "skip"
    }
   },
   "source": [
    "The foundation for our dataflow analysis framework is the concept of lattices, so let's start by implementing a lattice datastructure. A lattice is a partially ordered set in which every two elements have a unique supremum and a unique infimum. We will specifically consider complete lattices, where meet and join are defined for all subsets, and we thus have a unique top element (the unique greatest element of the partially ordered set) and a unique bottom element (the unique smallest element of the partially ordered set)."
   ]
  },
  {
   "cell_type": "markdown",
   "id": "ad641e88",
   "metadata": {
    "slideshow": {
     "slide_type": "skip"
    }
   },
   "source": [
    "The following implementation is based on the [Python Lattice](https://pypi.org/project/python-lattice/) project."
   ]
  },
  {
   "cell_type": "code",
   "execution_count": 16,
   "id": "0831c767",
   "metadata": {
    "slideshow": {
     "slide_type": "slide"
    }
   },
   "outputs": [],
   "source": [
    "from graphviz import Digraph"
   ]
  },
  {
   "cell_type": "code",
   "execution_count": 17,
   "id": "8b54f398",
   "metadata": {
    "slideshow": {
     "slide_type": "fragment"
    }
   },
   "outputs": [],
   "source": [
    "class Lattice(object):\n",
    "    def __init__(self, elements, join_func, meet_func):\n",
    "        self.elements = elements\n",
    "        self.join = join_func\n",
    "        self.meet = meet_func\n",
    "\n",
    "    def wrap(self, object):\n",
    "        return LatticeElement(self, object)\n",
    "\n",
    "    def element_by_index(self, index):\n",
    "        return LatticeElement(self, self.elements[index])\n",
    "\n",
    "    @property\n",
    "    def top(self):\n",
    "        top = self.wrap(self.elements[0])\n",
    "        for element in self.elements[1:]:\n",
    "            top |= self.wrap(element)\n",
    "        return top\n",
    "\n",
    "    @property\n",
    "    def bottom(self):\n",
    "        bottom = self.wrap(self.elements[0])\n",
    "        for element in self.elements[1:]:\n",
    "            bottom &= self.wrap(element)\n",
    "        return bottom\n",
    "    \n",
    "    def plot(self):\n",
    "        dot = Digraph()\n",
    "        \n",
    "        graph = dict()\n",
    "        for indexS, elementS in enumerate(self.elements):\n",
    "            graph[indexS] = []\n",
    "            for indexD, elementD in enumerate(self.elements):\n",
    "                if self.wrap(elementS) <= self.wrap(elementD):\n",
    "                    if not bool( sum([ int(self.element_by_index(x) <= self.wrap(elementD)) for x in graph[indexS]])) and not elementS == elementD:\n",
    "                        graph[indexS] += [indexD]\n",
    "        dot.node(str(self.top.unwrap))\n",
    "        dot.node(str(self.bottom.unwrap))\n",
    "        for s, ds in graph.items():\n",
    "            for d in ds:\n",
    "                dot.edge(str(self.element_by_index(s)), str(self.element_by_index(d)))\n",
    "\n",
    "        return dot\n",
    "\n",
    "    def __repr__(self):\n",
    "        \"\"\"Represents the lattice as an instance of Lattice.\"\"\"\n",
    "        return 'Lattice(%s,%s,%s)' % (self.elements,self.join,self.meet)"
   ]
  },
  {
   "cell_type": "markdown",
   "id": "117fd735",
   "metadata": {
    "slideshow": {
     "slide_type": "skip"
    }
   },
   "source": [
    "A `Lattice` is a powerset lattice that consists of the set of elements `elements`, and calculates `top` and `bottom` by calculating set intersection/union of the elements. To allow us to compare elemtents according to the partial order, the set elements are wrapped in a class `LatticeElement`."
   ]
  },
  {
   "cell_type": "code",
   "execution_count": 18,
   "id": "ddc3ded1",
   "metadata": {
    "slideshow": {
     "slide_type": "slide"
    }
   },
   "outputs": [],
   "source": [
    "class LatticeElement():\n",
    "    def __init__(self, lattice, element):\n",
    "        if element not in lattice.elements: raise ValueError('The given value is not a lattice element')\n",
    "        self.lattice = lattice\n",
    "        self.index = lattice.elements.index(element)\n",
    "\n",
    "    @property\n",
    "    def unwrap(self):\n",
    "        return self.lattice.elements[self.index]\n",
    "\n",
    "    def __and__(self, b):\n",
    "        # a.__and__(b) <=> a & b <=> meet(a,b)\n",
    "        return LatticeElement(self.lattice, self.lattice.meet(self.unwrap, b.unwrap))\n",
    "\n",
    "    def __or__(self, b):\n",
    "        # a.__or__(b) <=> a | b <=> join(a,b)\n",
    "        return LatticeElement(self.lattice, self.lattice.join(self.unwrap, b.unwrap))\n",
    "\n",
    "    def __eq__(self, b):\n",
    "        # a.__eq__(b) <=> a = b <=> join(a,b)\n",
    "        return self.unwrap == b.unwrap\n",
    "\n",
    "    def __le__(self, b):\n",
    "        # a <= b if and only if a = a & b,\n",
    "        # or\n",
    "        # a <= b if and only if b = a | b,\n",
    "        a = self\n",
    "        return ( a == a & b ) or ( b == a | b )\n",
    "\n",
    "    def __str__(self):\n",
    "        return str(self.unwrap)\n",
    "\n",
    "    def __repr__(self):\n",
    "        return \"LatticeElement(L, %s)\" % str(self)"
   ]
  },
  {
   "cell_type": "markdown",
   "id": "f483a0ae",
   "metadata": {
    "slideshow": {
     "slide_type": "skip"
    }
   },
   "source": [
    "For dataflow analysis we will mostly use powerset lattices, defined over sets of dataflow facts. Here is an example powerset lattice for the set of values `x`, `y`, and `z`."
   ]
  },
  {
   "cell_type": "code",
   "execution_count": 19,
   "id": "9a2c0ad2",
   "metadata": {
    "slideshow": {
     "slide_type": "slide"
    }
   },
   "outputs": [],
   "source": [
    "powerset = [set(),set(['x']),set(['y']),set(['z']),set(['x','y']),set(['x','z']),set(['y','z']),set(['x','y','z'])]"
   ]
  },
  {
   "cell_type": "markdown",
   "id": "c6b6c312",
   "metadata": {
    "slideshow": {
     "slide_type": "skip"
    }
   },
   "source": [
    "We define meet and join in terms of set union and intersection."
   ]
  },
  {
   "cell_type": "code",
   "execution_count": 20,
   "id": "81112382",
   "metadata": {
    "slideshow": {
     "slide_type": "fragment"
    }
   },
   "outputs": [],
   "source": [
    "def intersection(a,b):\n",
    "    return a & b \n",
    "\n",
    "def union(a,b):\n",
    "    return a | b "
   ]
  },
  {
   "cell_type": "code",
   "execution_count": 21,
   "id": "b9e43853",
   "metadata": {
    "slideshow": {
     "slide_type": "fragment"
    }
   },
   "outputs": [],
   "source": [
    "L = Lattice(powerset, union, intersection)"
   ]
  },
  {
   "cell_type": "code",
   "execution_count": 22,
   "id": "99b0ece3",
   "metadata": {
    "slideshow": {
     "slide_type": "fragment"
    }
   },
   "outputs": [
    {
     "data": {
      "text/plain": [
       "LatticeElement(L, {'x', 'y', 'z'})"
      ]
     },
     "execution_count": 22,
     "metadata": {},
     "output_type": "execute_result"
    }
   ],
   "source": [
    "L.top"
   ]
  },
  {
   "cell_type": "code",
   "execution_count": 23,
   "id": "fdeb73f8",
   "metadata": {
    "slideshow": {
     "slide_type": "fragment"
    }
   },
   "outputs": [
    {
     "data": {
      "text/plain": [
       "LatticeElement(L, set())"
      ]
     },
     "execution_count": 23,
     "metadata": {},
     "output_type": "execute_result"
    }
   ],
   "source": [
    "L.bottom"
   ]
  },
  {
   "cell_type": "code",
   "execution_count": 24,
   "id": "04e942fe",
   "metadata": {
    "scrolled": true,
    "slideshow": {
     "slide_type": "fragment"
    }
   },
   "outputs": [
    {
     "data": {
      "image/svg+xml": [
       "<?xml version=\"1.0\" encoding=\"UTF-8\" standalone=\"no\"?>\n",
       "<!DOCTYPE svg PUBLIC \"-//W3C//DTD SVG 1.1//EN\"\n",
       " \"http://www.w3.org/Graphics/SVG/1.1/DTD/svg11.dtd\">\n",
       "<!-- Generated by graphviz version 3.0.0 (20220226.1711)\n",
       " -->\n",
       "<!-- Pages: 1 -->\n",
       "<svg width=\"275pt\" height=\"260pt\"\n",
       " viewBox=\"0.00 0.00 275.34 260.00\" xmlns=\"http://www.w3.org/2000/svg\" xmlns:xlink=\"http://www.w3.org/1999/xlink\">\n",
       "<g id=\"graph0\" class=\"graph\" transform=\"scale(1 1) rotate(0) translate(4 256)\">\n",
       "<polygon fill=\"white\" stroke=\"transparent\" points=\"-4,4 -4,-256 271.34,-256 271.34,4 -4,4\"/>\n",
       "<!-- {&#39;x&#39;, &#39;y&#39;, &#39;z&#39;} -->\n",
       "<g id=\"node1\" class=\"node\">\n",
       "<title>{&#39;x&#39;, &#39;y&#39;, &#39;z&#39;}</title>\n",
       "<ellipse fill=\"none\" stroke=\"black\" cx=\"134\" cy=\"-18\" rx=\"50.89\" ry=\"18\"/>\n",
       "<text text-anchor=\"middle\" x=\"134\" y=\"-14.3\" font-family=\"Times,serif\" font-size=\"14.00\">{&#39;x&#39;, &#39;y&#39;, &#39;z&#39;}</text>\n",
       "</g>\n",
       "<!-- set() -->\n",
       "<g id=\"node2\" class=\"node\">\n",
       "<title>set()</title>\n",
       "<ellipse fill=\"none\" stroke=\"black\" cx=\"134\" cy=\"-234\" rx=\"27\" ry=\"18\"/>\n",
       "<text text-anchor=\"middle\" x=\"134\" y=\"-230.3\" font-family=\"Times,serif\" font-size=\"14.00\">set()</text>\n",
       "</g>\n",
       "<!-- {&#39;x&#39;} -->\n",
       "<g id=\"node3\" class=\"node\">\n",
       "<title>{&#39;x&#39;}</title>\n",
       "<ellipse fill=\"none\" stroke=\"black\" cx=\"62\" cy=\"-162\" rx=\"27\" ry=\"18\"/>\n",
       "<text text-anchor=\"middle\" x=\"62\" y=\"-158.3\" font-family=\"Times,serif\" font-size=\"14.00\">{&#39;x&#39;}</text>\n",
       "</g>\n",
       "<!-- set()&#45;&gt;{&#39;x&#39;} -->\n",
       "<g id=\"edge1\" class=\"edge\">\n",
       "<title>set()&#45;&gt;{&#39;x&#39;}</title>\n",
       "<path fill=\"none\" stroke=\"black\" d=\"M119.43,-218.83C109.25,-208.94 95.47,-195.55 83.97,-184.36\"/>\n",
       "<polygon fill=\"black\" stroke=\"black\" points=\"86.4,-181.85 76.79,-177.38 81.52,-186.87 86.4,-181.85\"/>\n",
       "</g>\n",
       "<!-- {&#39;y&#39;} -->\n",
       "<g id=\"node4\" class=\"node\">\n",
       "<title>{&#39;y&#39;}</title>\n",
       "<ellipse fill=\"none\" stroke=\"black\" cx=\"134\" cy=\"-162\" rx=\"27\" ry=\"18\"/>\n",
       "<text text-anchor=\"middle\" x=\"134\" y=\"-158.3\" font-family=\"Times,serif\" font-size=\"14.00\">{&#39;y&#39;}</text>\n",
       "</g>\n",
       "<!-- set()&#45;&gt;{&#39;y&#39;} -->\n",
       "<g id=\"edge2\" class=\"edge\">\n",
       "<title>set()&#45;&gt;{&#39;y&#39;}</title>\n",
       "<path fill=\"none\" stroke=\"black\" d=\"M134,-215.7C134,-207.98 134,-198.71 134,-190.11\"/>\n",
       "<polygon fill=\"black\" stroke=\"black\" points=\"137.5,-190.1 134,-180.1 130.5,-190.1 137.5,-190.1\"/>\n",
       "</g>\n",
       "<!-- {&#39;z&#39;} -->\n",
       "<g id=\"node5\" class=\"node\">\n",
       "<title>{&#39;z&#39;}</title>\n",
       "<ellipse fill=\"none\" stroke=\"black\" cx=\"206\" cy=\"-162\" rx=\"27\" ry=\"18\"/>\n",
       "<text text-anchor=\"middle\" x=\"206\" y=\"-158.3\" font-family=\"Times,serif\" font-size=\"14.00\">{&#39;z&#39;}</text>\n",
       "</g>\n",
       "<!-- set()&#45;&gt;{&#39;z&#39;} -->\n",
       "<g id=\"edge3\" class=\"edge\">\n",
       "<title>set()&#45;&gt;{&#39;z&#39;}</title>\n",
       "<path fill=\"none\" stroke=\"black\" d=\"M148.57,-218.83C158.75,-208.94 172.52,-195.55 184.03,-184.36\"/>\n",
       "<polygon fill=\"black\" stroke=\"black\" points=\"186.47,-186.87 191.2,-177.38 181.59,-181.85 186.47,-186.87\"/>\n",
       "</g>\n",
       "<!-- {&#39;x&#39;, &#39;y&#39;} -->\n",
       "<g id=\"node6\" class=\"node\">\n",
       "<title>{&#39;x&#39;, &#39;y&#39;}</title>\n",
       "<ellipse fill=\"none\" stroke=\"black\" cx=\"39\" cy=\"-90\" rx=\"38.99\" ry=\"18\"/>\n",
       "<text text-anchor=\"middle\" x=\"39\" y=\"-86.3\" font-family=\"Times,serif\" font-size=\"14.00\">{&#39;x&#39;, &#39;y&#39;}</text>\n",
       "</g>\n",
       "<!-- {&#39;x&#39;}&#45;&gt;{&#39;x&#39;, &#39;y&#39;} -->\n",
       "<g id=\"edge4\" class=\"edge\">\n",
       "<title>{&#39;x&#39;}&#45;&gt;{&#39;x&#39;, &#39;y&#39;}</title>\n",
       "<path fill=\"none\" stroke=\"black\" d=\"M56.43,-144.05C53.84,-136.18 50.7,-126.62 47.8,-117.79\"/>\n",
       "<polygon fill=\"black\" stroke=\"black\" points=\"51.12,-116.68 44.67,-108.28 44.47,-118.87 51.12,-116.68\"/>\n",
       "</g>\n",
       "<!-- {&#39;x&#39;, &#39;z&#39;} -->\n",
       "<g id=\"node7\" class=\"node\">\n",
       "<title>{&#39;x&#39;, &#39;z&#39;}</title>\n",
       "<ellipse fill=\"none\" stroke=\"black\" cx=\"134\" cy=\"-90\" rx=\"38.19\" ry=\"18\"/>\n",
       "<text text-anchor=\"middle\" x=\"134\" y=\"-86.3\" font-family=\"Times,serif\" font-size=\"14.00\">{&#39;x&#39;, &#39;z&#39;}</text>\n",
       "</g>\n",
       "<!-- {&#39;x&#39;}&#45;&gt;{&#39;x&#39;, &#39;z&#39;} -->\n",
       "<g id=\"edge5\" class=\"edge\">\n",
       "<title>{&#39;x&#39;}&#45;&gt;{&#39;x&#39;, &#39;z&#39;}</title>\n",
       "<path fill=\"none\" stroke=\"black\" d=\"M76.57,-146.83C86.32,-137.36 99.36,-124.67 110.55,-113.79\"/>\n",
       "<polygon fill=\"black\" stroke=\"black\" points=\"113.21,-116.09 117.94,-106.61 108.33,-111.07 113.21,-116.09\"/>\n",
       "</g>\n",
       "<!-- {&#39;y&#39;}&#45;&gt;{&#39;x&#39;, &#39;y&#39;} -->\n",
       "<g id=\"edge6\" class=\"edge\">\n",
       "<title>{&#39;y&#39;}&#45;&gt;{&#39;x&#39;, &#39;y&#39;}</title>\n",
       "<path fill=\"none\" stroke=\"black\" d=\"M116.57,-148.16C102.83,-138.04 83.39,-123.71 67.41,-111.93\"/>\n",
       "<polygon fill=\"black\" stroke=\"black\" points=\"69.07,-108.81 58.94,-105.7 64.91,-114.45 69.07,-108.81\"/>\n",
       "</g>\n",
       "<!-- {&#39;y&#39;, &#39;z&#39;} -->\n",
       "<g id=\"node8\" class=\"node\">\n",
       "<title>{&#39;y&#39;, &#39;z&#39;}</title>\n",
       "<ellipse fill=\"none\" stroke=\"black\" cx=\"229\" cy=\"-90\" rx=\"38.19\" ry=\"18\"/>\n",
       "<text text-anchor=\"middle\" x=\"229\" y=\"-86.3\" font-family=\"Times,serif\" font-size=\"14.00\">{&#39;y&#39;, &#39;z&#39;}</text>\n",
       "</g>\n",
       "<!-- {&#39;y&#39;}&#45;&gt;{&#39;y&#39;, &#39;z&#39;} -->\n",
       "<g id=\"edge7\" class=\"edge\">\n",
       "<title>{&#39;y&#39;}&#45;&gt;{&#39;y&#39;, &#39;z&#39;}</title>\n",
       "<path fill=\"none\" stroke=\"black\" d=\"M151.42,-148.16C165.16,-138.04 184.6,-123.71 200.59,-111.93\"/>\n",
       "<polygon fill=\"black\" stroke=\"black\" points=\"203.08,-114.45 209.05,-105.7 198.93,-108.81 203.08,-114.45\"/>\n",
       "</g>\n",
       "<!-- {&#39;z&#39;}&#45;&gt;{&#39;x&#39;, &#39;z&#39;} -->\n",
       "<g id=\"edge8\" class=\"edge\">\n",
       "<title>{&#39;z&#39;}&#45;&gt;{&#39;x&#39;, &#39;z&#39;}</title>\n",
       "<path fill=\"none\" stroke=\"black\" d=\"M191.43,-146.83C181.68,-137.36 168.63,-124.67 157.44,-113.79\"/>\n",
       "<polygon fill=\"black\" stroke=\"black\" points=\"159.66,-111.07 150.05,-106.61 154.78,-116.09 159.66,-111.07\"/>\n",
       "</g>\n",
       "<!-- {&#39;z&#39;}&#45;&gt;{&#39;y&#39;, &#39;z&#39;} -->\n",
       "<g id=\"edge9\" class=\"edge\">\n",
       "<title>{&#39;z&#39;}&#45;&gt;{&#39;y&#39;, &#39;z&#39;}</title>\n",
       "<path fill=\"none\" stroke=\"black\" d=\"M211.56,-144.05C214.15,-136.18 217.29,-126.62 220.19,-117.79\"/>\n",
       "<polygon fill=\"black\" stroke=\"black\" points=\"223.52,-118.87 223.32,-108.28 216.87,-116.68 223.52,-118.87\"/>\n",
       "</g>\n",
       "<!-- {&#39;x&#39;, &#39;y&#39;}&#45;&gt;{&#39;x&#39;, &#39;y&#39;, &#39;z&#39;} -->\n",
       "<g id=\"edge10\" class=\"edge\">\n",
       "<title>{&#39;x&#39;, &#39;y&#39;}&#45;&gt;{&#39;x&#39;, &#39;y&#39;, &#39;z&#39;}</title>\n",
       "<path fill=\"none\" stroke=\"black\" d=\"M59.14,-74.15C72.35,-64.43 89.83,-51.54 104.58,-40.68\"/>\n",
       "<polygon fill=\"black\" stroke=\"black\" points=\"106.92,-43.3 112.89,-34.55 102.76,-37.67 106.92,-43.3\"/>\n",
       "</g>\n",
       "<!-- {&#39;x&#39;, &#39;z&#39;}&#45;&gt;{&#39;x&#39;, &#39;y&#39;, &#39;z&#39;} -->\n",
       "<g id=\"edge11\" class=\"edge\">\n",
       "<title>{&#39;x&#39;, &#39;z&#39;}&#45;&gt;{&#39;x&#39;, &#39;y&#39;, &#39;z&#39;}</title>\n",
       "<path fill=\"none\" stroke=\"black\" d=\"M134,-71.7C134,-63.98 134,-54.71 134,-46.11\"/>\n",
       "<polygon fill=\"black\" stroke=\"black\" points=\"137.5,-46.1 134,-36.1 130.5,-46.1 137.5,-46.1\"/>\n",
       "</g>\n",
       "<!-- {&#39;y&#39;, &#39;z&#39;}&#45;&gt;{&#39;x&#39;, &#39;y&#39;, &#39;z&#39;} -->\n",
       "<g id=\"edge12\" class=\"edge\">\n",
       "<title>{&#39;y&#39;, &#39;z&#39;}&#45;&gt;{&#39;x&#39;, &#39;y&#39;, &#39;z&#39;}</title>\n",
       "<path fill=\"none\" stroke=\"black\" d=\"M209.31,-74.5C196.05,-64.72 178.31,-51.65 163.38,-40.65\"/>\n",
       "<polygon fill=\"black\" stroke=\"black\" points=\"165.1,-37.57 154.97,-34.46 160.95,-43.21 165.1,-37.57\"/>\n",
       "</g>\n",
       "</g>\n",
       "</svg>\n"
      ],
      "text/plain": [
       "<graphviz.graphs.Digraph at 0x10d3ec1c0>"
      ]
     },
     "execution_count": 24,
     "metadata": {},
     "output_type": "execute_result"
    }
   ],
   "source": [
    "L.plot()"
   ]
  },
  {
   "cell_type": "markdown",
   "id": "33835a3d",
   "metadata": {
    "slideshow": {
     "slide_type": "skip"
    }
   },
   "source": [
    "TODO: There's a problem here, in that our lattice is plotted upside down. If you know how to get GraphViz to plot this the other way round, do let me know."
   ]
  },
  {
   "cell_type": "markdown",
   "id": "35af30d8",
   "metadata": {
    "slideshow": {
     "slide_type": "skip"
    }
   },
   "source": [
    "Our first dataflow analysis using lattices will be reaching definitions, using our usual example code snippet."
   ]
  },
  {
   "cell_type": "code",
   "execution_count": 25,
   "id": "e8b0ec7a",
   "metadata": {
    "slideshow": {
     "slide_type": "slide"
    }
   },
   "outputs": [],
   "source": [
    "code = \"\"\"\n",
    "  public int foo(int x) {\n",
    "    int y = 0;\n",
    "\n",
    "    while(x >= 0) {\n",
    "        int tmp = x;\n",
    "        if(tmp % 2 == 0)\n",
    "            y = x;\n",
    "        x--;\n",
    "    }\n",
    "\n",
    "    return y;\n",
    "  }\n",
    "\"\"\""
   ]
  },
  {
   "cell_type": "code",
   "execution_count": 26,
   "id": "8e0380e0",
   "metadata": {
    "slideshow": {
     "slide_type": "fragment"
    }
   },
   "outputs": [],
   "source": [
    "tree = parse_method(code)\n",
    "cfg = CFGBuilder(tree).create_graph()"
   ]
  },
  {
   "cell_type": "markdown",
   "id": "0e3a8b9d",
   "metadata": {
    "slideshow": {
     "slide_type": "skip"
    }
   },
   "source": [
    "Each element of the CFG shall be assigned a set of definitions that reach this node. Thus, we need to retrieve all possible definitions, and then create a powerset lattice from that."
   ]
  },
  {
   "cell_type": "code",
   "execution_count": 27,
   "id": "7ebf4a42",
   "metadata": {
    "slideshow": {
     "slide_type": "fragment"
    }
   },
   "outputs": [],
   "source": [
    "definitions = []\n",
    "for node in cfg.nodes():\n",
    "    definitions.extend([definition for definition in node.definitions()])"
   ]
  },
  {
   "cell_type": "code",
   "execution_count": 28,
   "id": "5ff5e719",
   "metadata": {
    "slideshow": {
     "slide_type": "fragment"
    }
   },
   "outputs": [
    {
     "data": {
      "text/plain": [
       "[Definition(name='x', node=<__main__.StartNode object at 0x10d3ec130>),\n",
       " Definition(name='y', node=<__main__.CFGNode object at 0x10d3ec0d0>),\n",
       " Definition(name='tmp', node=<__main__.CFGNode object at 0x10d3eca60>),\n",
       " Definition(name='y', node=<__main__.CFGNode object at 0x10d3ecbb0>),\n",
       " Definition(name='x', node=<__main__.CFGNode object at 0x10d3ecb50>)]"
      ]
     },
     "execution_count": 28,
     "metadata": {},
     "output_type": "execute_result"
    }
   ],
   "source": [
    "definitions"
   ]
  },
  {
   "cell_type": "code",
   "execution_count": 29,
   "id": "bce1d13a",
   "metadata": {
    "slideshow": {
     "slide_type": "slide"
    }
   },
   "outputs": [],
   "source": [
    "def powerset(A):\n",
    "    length = len(A)\n",
    "    return [\n",
    "        set({e for e, b in zip(A, f'{i:{length}b}') if b == '1'})\n",
    "        for i in range(2 ** length)\n",
    "    ]"
   ]
  },
  {
   "cell_type": "code",
   "execution_count": 30,
   "id": "0cef09f2",
   "metadata": {
    "scrolled": true,
    "slideshow": {
     "slide_type": "fragment"
    }
   },
   "outputs": [
    {
     "data": {
      "text/plain": [
       "[set(),\n",
       " {Definition(name='x', node=<__main__.CFGNode object at 0x10d3ecb50>)},\n",
       " {Definition(name='y', node=<__main__.CFGNode object at 0x10d3ecbb0>)},\n",
       " {Definition(name='x', node=<__main__.CFGNode object at 0x10d3ecb50>),\n",
       "  Definition(name='y', node=<__main__.CFGNode object at 0x10d3ecbb0>)},\n",
       " {Definition(name='tmp', node=<__main__.CFGNode object at 0x10d3eca60>)},\n",
       " {Definition(name='tmp', node=<__main__.CFGNode object at 0x10d3eca60>),\n",
       "  Definition(name='x', node=<__main__.CFGNode object at 0x10d3ecb50>)},\n",
       " {Definition(name='tmp', node=<__main__.CFGNode object at 0x10d3eca60>),\n",
       "  Definition(name='y', node=<__main__.CFGNode object at 0x10d3ecbb0>)},\n",
       " {Definition(name='tmp', node=<__main__.CFGNode object at 0x10d3eca60>),\n",
       "  Definition(name='x', node=<__main__.CFGNode object at 0x10d3ecb50>),\n",
       "  Definition(name='y', node=<__main__.CFGNode object at 0x10d3ecbb0>)},\n",
       " {Definition(name='y', node=<__main__.CFGNode object at 0x10d3ec0d0>)},\n",
       " {Definition(name='x', node=<__main__.CFGNode object at 0x10d3ecb50>),\n",
       "  Definition(name='y', node=<__main__.CFGNode object at 0x10d3ec0d0>)},\n",
       " {Definition(name='y', node=<__main__.CFGNode object at 0x10d3ec0d0>),\n",
       "  Definition(name='y', node=<__main__.CFGNode object at 0x10d3ecbb0>)},\n",
       " {Definition(name='x', node=<__main__.CFGNode object at 0x10d3ecb50>),\n",
       "  Definition(name='y', node=<__main__.CFGNode object at 0x10d3ec0d0>),\n",
       "  Definition(name='y', node=<__main__.CFGNode object at 0x10d3ecbb0>)},\n",
       " {Definition(name='tmp', node=<__main__.CFGNode object at 0x10d3eca60>),\n",
       "  Definition(name='y', node=<__main__.CFGNode object at 0x10d3ec0d0>)},\n",
       " {Definition(name='tmp', node=<__main__.CFGNode object at 0x10d3eca60>),\n",
       "  Definition(name='x', node=<__main__.CFGNode object at 0x10d3ecb50>),\n",
       "  Definition(name='y', node=<__main__.CFGNode object at 0x10d3ec0d0>)},\n",
       " {Definition(name='tmp', node=<__main__.CFGNode object at 0x10d3eca60>),\n",
       "  Definition(name='y', node=<__main__.CFGNode object at 0x10d3ec0d0>),\n",
       "  Definition(name='y', node=<__main__.CFGNode object at 0x10d3ecbb0>)},\n",
       " {Definition(name='tmp', node=<__main__.CFGNode object at 0x10d3eca60>),\n",
       "  Definition(name='x', node=<__main__.CFGNode object at 0x10d3ecb50>),\n",
       "  Definition(name='y', node=<__main__.CFGNode object at 0x10d3ec0d0>),\n",
       "  Definition(name='y', node=<__main__.CFGNode object at 0x10d3ecbb0>)},\n",
       " {Definition(name='x', node=<__main__.StartNode object at 0x10d3ec130>)},\n",
       " {Definition(name='x', node=<__main__.StartNode object at 0x10d3ec130>),\n",
       "  Definition(name='x', node=<__main__.CFGNode object at 0x10d3ecb50>)},\n",
       " {Definition(name='x', node=<__main__.StartNode object at 0x10d3ec130>),\n",
       "  Definition(name='y', node=<__main__.CFGNode object at 0x10d3ecbb0>)},\n",
       " {Definition(name='x', node=<__main__.StartNode object at 0x10d3ec130>),\n",
       "  Definition(name='x', node=<__main__.CFGNode object at 0x10d3ecb50>),\n",
       "  Definition(name='y', node=<__main__.CFGNode object at 0x10d3ecbb0>)},\n",
       " {Definition(name='tmp', node=<__main__.CFGNode object at 0x10d3eca60>),\n",
       "  Definition(name='x', node=<__main__.StartNode object at 0x10d3ec130>)},\n",
       " {Definition(name='tmp', node=<__main__.CFGNode object at 0x10d3eca60>),\n",
       "  Definition(name='x', node=<__main__.StartNode object at 0x10d3ec130>),\n",
       "  Definition(name='x', node=<__main__.CFGNode object at 0x10d3ecb50>)},\n",
       " {Definition(name='tmp', node=<__main__.CFGNode object at 0x10d3eca60>),\n",
       "  Definition(name='x', node=<__main__.StartNode object at 0x10d3ec130>),\n",
       "  Definition(name='y', node=<__main__.CFGNode object at 0x10d3ecbb0>)},\n",
       " {Definition(name='tmp', node=<__main__.CFGNode object at 0x10d3eca60>),\n",
       "  Definition(name='x', node=<__main__.StartNode object at 0x10d3ec130>),\n",
       "  Definition(name='x', node=<__main__.CFGNode object at 0x10d3ecb50>),\n",
       "  Definition(name='y', node=<__main__.CFGNode object at 0x10d3ecbb0>)},\n",
       " {Definition(name='x', node=<__main__.StartNode object at 0x10d3ec130>),\n",
       "  Definition(name='y', node=<__main__.CFGNode object at 0x10d3ec0d0>)},\n",
       " {Definition(name='x', node=<__main__.StartNode object at 0x10d3ec130>),\n",
       "  Definition(name='x', node=<__main__.CFGNode object at 0x10d3ecb50>),\n",
       "  Definition(name='y', node=<__main__.CFGNode object at 0x10d3ec0d0>)},\n",
       " {Definition(name='x', node=<__main__.StartNode object at 0x10d3ec130>),\n",
       "  Definition(name='y', node=<__main__.CFGNode object at 0x10d3ec0d0>),\n",
       "  Definition(name='y', node=<__main__.CFGNode object at 0x10d3ecbb0>)},\n",
       " {Definition(name='x', node=<__main__.StartNode object at 0x10d3ec130>),\n",
       "  Definition(name='x', node=<__main__.CFGNode object at 0x10d3ecb50>),\n",
       "  Definition(name='y', node=<__main__.CFGNode object at 0x10d3ec0d0>),\n",
       "  Definition(name='y', node=<__main__.CFGNode object at 0x10d3ecbb0>)},\n",
       " {Definition(name='tmp', node=<__main__.CFGNode object at 0x10d3eca60>),\n",
       "  Definition(name='x', node=<__main__.StartNode object at 0x10d3ec130>),\n",
       "  Definition(name='y', node=<__main__.CFGNode object at 0x10d3ec0d0>)},\n",
       " {Definition(name='tmp', node=<__main__.CFGNode object at 0x10d3eca60>),\n",
       "  Definition(name='x', node=<__main__.StartNode object at 0x10d3ec130>),\n",
       "  Definition(name='x', node=<__main__.CFGNode object at 0x10d3ecb50>),\n",
       "  Definition(name='y', node=<__main__.CFGNode object at 0x10d3ec0d0>)},\n",
       " {Definition(name='tmp', node=<__main__.CFGNode object at 0x10d3eca60>),\n",
       "  Definition(name='x', node=<__main__.StartNode object at 0x10d3ec130>),\n",
       "  Definition(name='y', node=<__main__.CFGNode object at 0x10d3ec0d0>),\n",
       "  Definition(name='y', node=<__main__.CFGNode object at 0x10d3ecbb0>)},\n",
       " {Definition(name='tmp', node=<__main__.CFGNode object at 0x10d3eca60>),\n",
       "  Definition(name='x', node=<__main__.StartNode object at 0x10d3ec130>),\n",
       "  Definition(name='x', node=<__main__.CFGNode object at 0x10d3ecb50>),\n",
       "  Definition(name='y', node=<__main__.CFGNode object at 0x10d3ec0d0>),\n",
       "  Definition(name='y', node=<__main__.CFGNode object at 0x10d3ecbb0>)}]"
      ]
     },
     "execution_count": 30,
     "metadata": {},
     "output_type": "execute_result"
    }
   ],
   "source": [
    "powerset(definitions)"
   ]
  },
  {
   "cell_type": "markdown",
   "id": "fa58d36c",
   "metadata": {
    "slideshow": {
     "slide_type": "skip"
    }
   },
   "source": [
    "Reaching definitions is a forward may analysis, which means that the initial flow values will be empty sets. For our lattice, this means that bottom is the empty set, and top will be the set of all definitions. The lattice join operation will be set union."
   ]
  },
  {
   "cell_type": "code",
   "execution_count": 31,
   "id": "bb834b71",
   "metadata": {
    "slideshow": {
     "slide_type": "slide"
    }
   },
   "outputs": [],
   "source": [
    "U = list(powerset(definitions))\n",
    "join = union\n",
    "meet = intersection\n",
    "\n",
    "L = Lattice(U, join, meet)"
   ]
  },
  {
   "cell_type": "code",
   "execution_count": 32,
   "id": "b42854ad",
   "metadata": {
    "slideshow": {
     "slide_type": "fragment"
    }
   },
   "outputs": [
    {
     "data": {
      "text/plain": [
       "LatticeElement(L, set())"
      ]
     },
     "execution_count": 32,
     "metadata": {},
     "output_type": "execute_result"
    }
   ],
   "source": [
    "L.bottom"
   ]
  },
  {
   "cell_type": "code",
   "execution_count": 33,
   "id": "874056f0",
   "metadata": {
    "scrolled": true,
    "slideshow": {
     "slide_type": "fragment"
    }
   },
   "outputs": [
    {
     "data": {
      "text/plain": [
       "LatticeElement(L, {Definition(name='x', node=<__main__.CFGNode object at 0x10d3ecb50>), Definition(name='x', node=<__main__.StartNode object at 0x10d3ec130>), Definition(name='y', node=<__main__.CFGNode object at 0x10d3ecbb0>), Definition(name='tmp', node=<__main__.CFGNode object at 0x10d3eca60>), Definition(name='y', node=<__main__.CFGNode object at 0x10d3ec0d0>)})"
      ]
     },
     "execution_count": 33,
     "metadata": {},
     "output_type": "execute_result"
    }
   ],
   "source": [
    "L.top"
   ]
  },
  {
   "cell_type": "markdown",
   "id": "1972cbcf",
   "metadata": {
    "slideshow": {
     "slide_type": "skip"
    }
   },
   "source": [
    "The transfer function is the usual one, resulting in the union of the facts generated at a node with the difference of the in facts (result of joining the facts of the incoming edges) and the facts killed at the node. We only need to slightly rewrite this to use our lattice wrapper objects."
   ]
  },
  {
   "cell_type": "code",
   "execution_count": 34,
   "id": "93097f4e",
   "metadata": {
    "slideshow": {
     "slide_type": "fragment"
    }
   },
   "outputs": [],
   "source": [
    "def reaching_definitions(node, in_facts):\n",
    "    gen  = set(node.definitions())\n",
    "    defined_vars = [definition.name for definition in gen]\n",
    "    kill = set([definition for definition in in_facts.unwrap if definition.name in defined_vars])\n",
    "    return in_facts.lattice.wrap(gen | (in_facts.unwrap - kill))"
   ]
  },
  {
   "cell_type": "markdown",
   "id": "ae6df92b",
   "metadata": {
    "slideshow": {
     "slide_type": "slide"
    }
   },
   "source": [
    "### Monotone framework"
   ]
  },
  {
   "cell_type": "markdown",
   "id": "74d8c632",
   "metadata": {
    "slideshow": {
     "slide_type": "skip"
    }
   },
   "source": [
    "The monotone framework is, essentially, the lattice-centric interpretation of the iterative dataflow analysis framework we introduced in the previous chapter. We only need to slightly modify the actual algorithm. In particular, we initialise all facts using the bottom element of the lattice (= no information). Our worklist will consider individual edges, so rather than using an explicit flow direction we can just reverse the edges if we need to do a backward analysis."
   ]
  },
  {
   "cell_type": "code",
   "execution_count": 35,
   "id": "6be43c08",
   "metadata": {
    "slideshow": {
     "slide_type": "fragment"
    }
   },
   "outputs": [],
   "source": [
    "class DataFlowAnalysis:\n",
    "    def __init__(self, cfg, program_lattice, transfer_function, is_backward):\n",
    "        self.cfg = cfg\n",
    "        if is_backward:\n",
    "            self.cfg = cfg.reverse()\n",
    "            \n",
    "        self.transfer_function = transfer_function\n",
    "        self.lattice = program_lattice\n",
    "        \n",
    "        self.facts = {}\n",
    "        \n",
    "        for node in cfg.nodes():\n",
    "            self.facts[node] = program_lattice.bottom"
   ]
  },
  {
   "cell_type": "markdown",
   "id": "832b3287",
   "metadata": {
    "slideshow": {
     "slide_type": "skip"
    }
   },
   "source": [
    "The analysis itself considers edges, and for each edge `(node1, node2)` checks if the outgoing facts calculated by applying the transfer function on what is known for `node1` is less than or equal to (according to the partial order) what is already known for `node2`. If not, we need to recalculate everything outgoing from `node2`."
   ]
  },
  {
   "cell_type": "code",
   "execution_count": 36,
   "id": "e5158c4e",
   "metadata": {
    "slideshow": {
     "slide_type": "slide"
    }
   },
   "outputs": [],
   "source": [
    "class DataFlowAnalysis(DataFlowAnalysis):\n",
    "    def apply(self):\n",
    "            \n",
    "        worklist = [(edge[0], edge[1]) for edge in self.cfg.edges()]\n",
    "        while worklist:\n",
    "            node1, node2 = worklist.pop()\n",
    "            \n",
    "            result = self.transfer_function(node1, self.facts[node1])\n",
    "            self.facts[node1] = result\n",
    "            if not (result <= self.facts[node2]):\n",
    "                self.facts[node2] = self.lattice.join(self.facts[node2], result)\n",
    "                for successor in self.cfg.successors(node2):\n",
    "                    worklist.append((node2, successor))"
   ]
  },
  {
   "cell_type": "code",
   "execution_count": 37,
   "id": "233924a2",
   "metadata": {
    "slideshow": {
     "slide_type": "fragment"
    }
   },
   "outputs": [],
   "source": [
    "analysis = DataFlowAnalysis(cfg, L, reaching_definitions, False)"
   ]
  },
  {
   "cell_type": "code",
   "execution_count": 38,
   "id": "47831d81",
   "metadata": {
    "slideshow": {
     "slide_type": "fragment"
    }
   },
   "outputs": [],
   "source": [
    "analysis.apply()"
   ]
  },
  {
   "cell_type": "code",
   "execution_count": 39,
   "id": "9ba93a0f",
   "metadata": {
    "slideshow": {
     "slide_type": "slide"
    }
   },
   "outputs": [
    {
     "name": "stdout",
     "output_type": "stream",
     "text": [
      "Node Start: ['Def: x in line 2']\n",
      "Node End: ['Def: x in line 9', 'Def: x in line 2', 'Def: y in line 8', 'Def: tmp in line 6', 'Def: y in line 3']\n",
      "Node 3: ['Def: x in line 2', 'Def: y in line 3']\n",
      "Node 5: ['Def: x in line 9', 'Def: x in line 2', 'Def: y in line 8', 'Def: tmp in line 6', 'Def: y in line 3']\n",
      "Node 6: ['Def: x in line 9', 'Def: x in line 2', 'Def: y in line 8', 'Def: tmp in line 6', 'Def: y in line 3']\n",
      "Node 7: ['Def: x in line 9', 'Def: x in line 2', 'Def: y in line 8', 'Def: tmp in line 6', 'Def: y in line 3']\n",
      "Node 8: ['Def: tmp in line 6', 'Def: x in line 9', 'Def: x in line 2', 'Def: y in line 8']\n",
      "Node 9: ['Def: y in line 8', 'Def: tmp in line 6', 'Def: x in line 9', 'Def: y in line 3']\n",
      "Node 12: ['Def: x in line 9', 'Def: x in line 2', 'Def: y in line 8', 'Def: tmp in line 6', 'Def: y in line 3']\n"
     ]
    }
   ],
   "source": [
    "for node, defs in analysis.facts.items():\n",
    "    defstr = [str(x) for x in defs.unwrap]\n",
    "    print(f\"Node {node}: {defstr}\")"
   ]
  },
  {
   "cell_type": "markdown",
   "id": "b15436aa",
   "metadata": {
    "slideshow": {
     "slide_type": "skip"
    }
   },
   "source": [
    "For easier interpretation, here is the program we are analysing."
   ]
  },
  {
   "cell_type": "code",
   "execution_count": 40,
   "id": "f83ad690",
   "metadata": {
    "slideshow": {
     "slide_type": "fragment"
    }
   },
   "outputs": [
    {
     "name": "stdout",
     "output_type": "stream",
     "text": [
      "  1 : \n",
      "  2 :   public int foo(int x) {\n",
      "  3 :     int y = 0;\n",
      "  4 : \n",
      "  5 :     while(x >= 0) {\n",
      "  6 :         int tmp = x;\n",
      "  7 :         if(tmp % 2 == 0)\n",
      "  8 :             y = x;\n",
      "  9 :         x--;\n",
      " 10 :     }\n",
      " 11 : \n",
      " 12 :     return y;\n",
      " 13 :   }\n",
      " 14 : \n"
     ]
    }
   ],
   "source": [
    "for i, line in enumerate(code.split('\\n')):\n",
    "    print(str(i + 1).rjust(3, ' '), ':', line)"
   ]
  },
  {
   "cell_type": "markdown",
   "id": "1f772615",
   "metadata": {
    "slideshow": {
     "slide_type": "slide"
    }
   },
   "source": [
    "## Abstract Interpretation"
   ]
  },
  {
   "cell_type": "markdown",
   "id": "713e9f88",
   "metadata": {
    "slideshow": {
     "slide_type": "skip"
    }
   },
   "source": [
    "So far we only considered powerset lattices representing sets of known facts per node, but the lattice-theoretic approach allows us to also use arbitrary abstractions for values in our program."
   ]
  },
  {
   "cell_type": "markdown",
   "id": "29b511ba",
   "metadata": {
    "slideshow": {
     "slide_type": "fragment"
    }
   },
   "source": [
    "### Example abstract domain: Zero analysis"
   ]
  },
  {
   "cell_type": "markdown",
   "id": "1d9fab4c",
   "metadata": {
    "slideshow": {
     "slide_type": "skip"
    }
   },
   "source": [
    "The running example will be a zero analysis: This analysis checks if a division-by-zero error may or will happen in a program. We define an enum that captures the two possible values, zero and nonzero."
   ]
  },
  {
   "cell_type": "code",
   "execution_count": 41,
   "id": "f5daa5a0",
   "metadata": {
    "slideshow": {
     "slide_type": "slide"
    }
   },
   "outputs": [],
   "source": [
    "from enum import Enum\n",
    "class IntegerValue(Enum):\n",
    "    ZERO = 1\n",
    "    NONZERO = 2\n",
    "    \n",
    "    def __repr__(self):\n",
    "        return self.name"
   ]
  },
  {
   "cell_type": "markdown",
   "id": "119fdde6",
   "metadata": {
    "slideshow": {
     "slide_type": "skip"
    }
   },
   "source": [
    "The elements of our lattice will be emptyset for no information, zero or nonzero if we know what a value is, and the set {zero, nonzero} if it can be anything."
   ]
  },
  {
   "cell_type": "code",
   "execution_count": 42,
   "id": "f64bd978",
   "metadata": {
    "slideshow": {
     "slide_type": "fragment"
    }
   },
   "outputs": [],
   "source": [
    "powerset = [set(), {IntegerValue.ZERO}, {IntegerValue.NONZERO}, {IntegerValue.ZERO, IntegerValue.NONZERO}]"
   ]
  },
  {
   "cell_type": "code",
   "execution_count": 43,
   "id": "4bfd3ae3",
   "metadata": {
    "slideshow": {
     "slide_type": "fragment"
    }
   },
   "outputs": [],
   "source": [
    "join = union\n",
    "meet = intersection\n",
    "\n",
    "zero_lattice = Lattice(powerset, join, meet)"
   ]
  },
  {
   "cell_type": "code",
   "execution_count": 44,
   "id": "f407335e",
   "metadata": {
    "slideshow": {
     "slide_type": "fragment"
    }
   },
   "outputs": [
    {
     "data": {
      "text/plain": [
       "LatticeElement(L, set())"
      ]
     },
     "execution_count": 44,
     "metadata": {},
     "output_type": "execute_result"
    }
   ],
   "source": [
    "zero_lattice.bottom"
   ]
  },
  {
   "cell_type": "code",
   "execution_count": 45,
   "id": "719232e3",
   "metadata": {
    "slideshow": {
     "slide_type": "fragment"
    }
   },
   "outputs": [
    {
     "data": {
      "text/plain": [
       "LatticeElement(L, {NONZERO, ZERO})"
      ]
     },
     "execution_count": 45,
     "metadata": {},
     "output_type": "execute_result"
    }
   ],
   "source": [
    "zero_lattice.top"
   ]
  },
  {
   "cell_type": "code",
   "execution_count": 46,
   "id": "21192573",
   "metadata": {
    "slideshow": {
     "slide_type": "slide"
    }
   },
   "outputs": [
    {
     "data": {
      "image/svg+xml": [
       "<?xml version=\"1.0\" encoding=\"UTF-8\" standalone=\"no\"?>\n",
       "<!DOCTYPE svg PUBLIC \"-//W3C//DTD SVG 1.1//EN\"\n",
       " \"http://www.w3.org/Graphics/SVG/1.1/DTD/svg11.dtd\">\n",
       "<!-- Generated by graphviz version 3.0.0 (20220226.1711)\n",
       " -->\n",
       "<!-- Pages: 1 -->\n",
       "<svg width=\"234pt\" height=\"188pt\"\n",
       " viewBox=\"0.00 0.00 233.99 188.00\" xmlns=\"http://www.w3.org/2000/svg\" xmlns:xlink=\"http://www.w3.org/1999/xlink\">\n",
       "<g id=\"graph0\" class=\"graph\" transform=\"scale(1 1) rotate(0) translate(4 184)\">\n",
       "<polygon fill=\"white\" stroke=\"transparent\" points=\"-4,4 -4,-184 229.99,-184 229.99,4 -4,4\"/>\n",
       "<!-- {NONZERO, ZERO} -->\n",
       "<g id=\"node1\" class=\"node\">\n",
       "<title>{NONZERO, ZERO}</title>\n",
       "<ellipse fill=\"none\" stroke=\"black\" cx=\"103.25\" cy=\"-18\" rx=\"89.08\" ry=\"18\"/>\n",
       "<text text-anchor=\"middle\" x=\"103.25\" y=\"-14.3\" font-family=\"Times,serif\" font-size=\"14.00\">{NONZERO, ZERO}</text>\n",
       "</g>\n",
       "<!-- set() -->\n",
       "<g id=\"node2\" class=\"node\">\n",
       "<title>set()</title>\n",
       "<ellipse fill=\"none\" stroke=\"black\" cx=\"103.25\" cy=\"-162\" rx=\"27\" ry=\"18\"/>\n",
       "<text text-anchor=\"middle\" x=\"103.25\" y=\"-158.3\" font-family=\"Times,serif\" font-size=\"14.00\">set()</text>\n",
       "</g>\n",
       "<!-- {ZERO} -->\n",
       "<g id=\"node3\" class=\"node\">\n",
       "<title>{ZERO}</title>\n",
       "<ellipse fill=\"none\" stroke=\"black\" cx=\"42.25\" cy=\"-90\" rx=\"42.49\" ry=\"18\"/>\n",
       "<text text-anchor=\"middle\" x=\"42.25\" y=\"-86.3\" font-family=\"Times,serif\" font-size=\"14.00\">{ZERO}</text>\n",
       "</g>\n",
       "<!-- set()&#45;&gt;{ZERO} -->\n",
       "<g id=\"edge1\" class=\"edge\">\n",
       "<title>set()&#45;&gt;{ZERO}</title>\n",
       "<path fill=\"none\" stroke=\"black\" d=\"M90.31,-146.15C82.39,-137.07 72.09,-125.24 63.05,-114.87\"/>\n",
       "<polygon fill=\"black\" stroke=\"black\" points=\"65.65,-112.53 56.44,-107.29 60.37,-117.13 65.65,-112.53\"/>\n",
       "</g>\n",
       "<!-- {NONZERO} -->\n",
       "<g id=\"node4\" class=\"node\">\n",
       "<title>{NONZERO}</title>\n",
       "<ellipse fill=\"none\" stroke=\"black\" cx=\"164.25\" cy=\"-90\" rx=\"61.99\" ry=\"18\"/>\n",
       "<text text-anchor=\"middle\" x=\"164.25\" y=\"-86.3\" font-family=\"Times,serif\" font-size=\"14.00\">{NONZERO}</text>\n",
       "</g>\n",
       "<!-- set()&#45;&gt;{NONZERO} -->\n",
       "<g id=\"edge2\" class=\"edge\">\n",
       "<title>set()&#45;&gt;{NONZERO}</title>\n",
       "<path fill=\"none\" stroke=\"black\" d=\"M116.18,-146.15C123.91,-137.29 133.92,-125.8 142.8,-115.61\"/>\n",
       "<polygon fill=\"black\" stroke=\"black\" points=\"145.68,-117.63 149.62,-107.79 140.41,-113.03 145.68,-117.63\"/>\n",
       "</g>\n",
       "<!-- {ZERO}&#45;&gt;{NONZERO, ZERO} -->\n",
       "<g id=\"edge3\" class=\"edge\">\n",
       "<title>{ZERO}&#45;&gt;{NONZERO, ZERO}</title>\n",
       "<path fill=\"none\" stroke=\"black\" d=\"M56.39,-72.76C63.87,-64.18 73.21,-53.46 81.58,-43.86\"/>\n",
       "<polygon fill=\"black\" stroke=\"black\" points=\"84.39,-45.96 88.32,-36.12 79.12,-41.36 84.39,-45.96\"/>\n",
       "</g>\n",
       "<!-- {NONZERO}&#45;&gt;{NONZERO, ZERO} -->\n",
       "<g id=\"edge4\" class=\"edge\">\n",
       "<title>{NONZERO}&#45;&gt;{NONZERO, ZERO}</title>\n",
       "<path fill=\"none\" stroke=\"black\" d=\"M149.79,-72.41C142.3,-63.82 133.01,-53.16 124.71,-43.63\"/>\n",
       "<polygon fill=\"black\" stroke=\"black\" points=\"127.23,-41.2 118.02,-35.96 121.95,-45.79 127.23,-41.2\"/>\n",
       "</g>\n",
       "</g>\n",
       "</svg>\n"
      ],
      "text/plain": [
       "<graphviz.graphs.Digraph at 0x10d43eb50>"
      ]
     },
     "execution_count": 46,
     "metadata": {},
     "output_type": "execute_result"
    }
   ],
   "source": [
    "zero_lattice.plot()"
   ]
  },
  {
   "cell_type": "markdown",
   "id": "55320842",
   "metadata": {
    "slideshow": {
     "slide_type": "skip"
    }
   },
   "source": [
    "As a shortcut, we'll define some variables to access the lattice elements."
   ]
  },
  {
   "cell_type": "code",
   "execution_count": 47,
   "id": "23f4d9ab",
   "metadata": {
    "slideshow": {
     "slide_type": "fragment"
    }
   },
   "outputs": [],
   "source": [
    "zero = zero_lattice.wrap({ IntegerValue.ZERO })"
   ]
  },
  {
   "cell_type": "code",
   "execution_count": 48,
   "id": "484124c2",
   "metadata": {
    "slideshow": {
     "slide_type": "fragment"
    }
   },
   "outputs": [],
   "source": [
    "nonzero =  zero_lattice.wrap({ IntegerValue.NONZERO })"
   ]
  },
  {
   "cell_type": "code",
   "execution_count": 49,
   "id": "653e7e62",
   "metadata": {
    "slideshow": {
     "slide_type": "fragment"
    }
   },
   "outputs": [],
   "source": [
    "maybezero = zero_lattice.wrap({ IntegerValue.ZERO, IntegerValue.NONZERO })"
   ]
  },
  {
   "cell_type": "markdown",
   "id": "4c032a67",
   "metadata": {
    "slideshow": {
     "slide_type": "slide"
    }
   },
   "source": [
    "### From integers to the abstract domain"
   ]
  },
  {
   "cell_type": "markdown",
   "id": "46f580a6",
   "metadata": {
    "slideshow": {
     "slide_type": "skip"
    }
   },
   "source": [
    "In order to apply abstract interpretation we require an abstraction function that maps concrete values to the abstract domain."
   ]
  },
  {
   "cell_type": "code",
   "execution_count": 50,
   "id": "78b759d1",
   "metadata": {
    "slideshow": {
     "slide_type": "fragment"
    }
   },
   "outputs": [],
   "source": [
    "from functools import singledispatch"
   ]
  },
  {
   "cell_type": "code",
   "execution_count": 51,
   "id": "54d5f0b1",
   "metadata": {
    "slideshow": {
     "slide_type": "fragment"
    }
   },
   "outputs": [],
   "source": [
    "@singledispatch\n",
    "def alpha(arg):\n",
    "    raise NotImplementedError(f\"Cannot abstract {arg}\") "
   ]
  },
  {
   "cell_type": "code",
   "execution_count": 52,
   "id": "29eb98d9",
   "metadata": {
    "slideshow": {
     "slide_type": "fragment"
    }
   },
   "outputs": [],
   "source": [
    "@alpha.register(int)\n",
    "def alpha_number(number):\n",
    "    if number == 0:\n",
    "        return zero\n",
    "    else:\n",
    "        return nonzero"
   ]
  },
  {
   "cell_type": "code",
   "execution_count": 53,
   "id": "0e509766",
   "metadata": {
    "scrolled": true,
    "slideshow": {
     "slide_type": "fragment"
    }
   },
   "outputs": [
    {
     "data": {
      "text/plain": [
       "LatticeElement(L, {ZERO})"
      ]
     },
     "execution_count": 53,
     "metadata": {},
     "output_type": "execute_result"
    }
   ],
   "source": [
    "alpha(0)"
   ]
  },
  {
   "cell_type": "code",
   "execution_count": 54,
   "id": "842fe46d",
   "metadata": {
    "slideshow": {
     "slide_type": "fragment"
    }
   },
   "outputs": [
    {
     "data": {
      "text/plain": [
       "LatticeElement(L, {NONZERO})"
      ]
     },
     "execution_count": 54,
     "metadata": {},
     "output_type": "execute_result"
    }
   ],
   "source": [
    "alpha(1)"
   ]
  },
  {
   "cell_type": "markdown",
   "id": "a03484f4",
   "metadata": {},
   "source": [
    "Similarly, we need to define abstractions of the operations we can perform on concrete values in the concrete domain."
   ]
  },
  {
   "cell_type": "code",
   "execution_count": 55,
   "id": "0cedc918",
   "metadata": {
    "slideshow": {
     "slide_type": "slide"
    }
   },
   "outputs": [],
   "source": [
    "def abstract_addition(op1, op2):\n",
    "    if op1 == zero_lattice.bottom or op2 == zero_lattice.bottom:\n",
    "        return zero_lattice.bottom\n",
    "    elif op1 == zero:\n",
    "        if  op2 == zero:\n",
    "            return zero\n",
    "        elif op2 == nonzero:\n",
    "            return nonzero\n",
    "    elif op2 == zero and op1 == nonzero:\n",
    "            return nonzero\n",
    "    else:\n",
    "        return maybezero"
   ]
  },
  {
   "cell_type": "code",
   "execution_count": 56,
   "id": "0daa9225",
   "metadata": {
    "slideshow": {
     "slide_type": "fragment"
    }
   },
   "outputs": [
    {
     "data": {
      "text/plain": [
       "LatticeElement(L, {ZERO})"
      ]
     },
     "execution_count": 56,
     "metadata": {},
     "output_type": "execute_result"
    }
   ],
   "source": [
    "abstract_addition(zero, zero)"
   ]
  },
  {
   "cell_type": "code",
   "execution_count": 57,
   "id": "958af17d",
   "metadata": {
    "slideshow": {
     "slide_type": "fragment"
    }
   },
   "outputs": [
    {
     "data": {
      "text/plain": [
       "LatticeElement(L, {NONZERO})"
      ]
     },
     "execution_count": 57,
     "metadata": {},
     "output_type": "execute_result"
    }
   ],
   "source": [
    "abstract_addition(nonzero, zero)"
   ]
  },
  {
   "cell_type": "code",
   "execution_count": 58,
   "id": "313420c5",
   "metadata": {
    "slideshow": {
     "slide_type": "fragment"
    }
   },
   "outputs": [
    {
     "data": {
      "text/plain": [
       "LatticeElement(L, {NONZERO, ZERO})"
      ]
     },
     "execution_count": 58,
     "metadata": {},
     "output_type": "execute_result"
    }
   ],
   "source": [
    "abstract_addition(nonzero, maybezero)"
   ]
  },
  {
   "cell_type": "code",
   "execution_count": 59,
   "id": "15eaa2c4",
   "metadata": {
    "slideshow": {
     "slide_type": "fragment"
    }
   },
   "outputs": [],
   "source": [
    "abstract_subtraction = abstract_addition"
   ]
  },
  {
   "cell_type": "code",
   "execution_count": 60,
   "id": "3b65140d",
   "metadata": {
    "slideshow": {
     "slide_type": "fragment"
    }
   },
   "outputs": [
    {
     "data": {
      "text/plain": [
       "LatticeElement(L, {NONZERO, ZERO})"
      ]
     },
     "execution_count": 60,
     "metadata": {},
     "output_type": "execute_result"
    }
   ],
   "source": [
    "abstract_subtraction(nonzero, nonzero)"
   ]
  },
  {
   "cell_type": "code",
   "execution_count": 61,
   "id": "7f870719",
   "metadata": {
    "slideshow": {
     "slide_type": "slide"
    }
   },
   "outputs": [],
   "source": [
    "def abstract_multiplication(op1, op2):\n",
    "    if op1 == zero or op2 == zero:\n",
    "        return zero\n",
    "    elif op1 == nonzero and op2 == nonzero:\n",
    "        return nonzero\n",
    "    elif op1 == maybezero and op2 == maybezero:\n",
    "            return maybezero\n",
    "    else:\n",
    "        return zero_lattice.bottom"
   ]
  },
  {
   "cell_type": "code",
   "execution_count": 62,
   "id": "2c586319",
   "metadata": {
    "slideshow": {
     "slide_type": "fragment"
    }
   },
   "outputs": [
    {
     "data": {
      "text/plain": [
       "LatticeElement(L, {ZERO})"
      ]
     },
     "execution_count": 62,
     "metadata": {},
     "output_type": "execute_result"
    }
   ],
   "source": [
    "abstract_multiplication(maybezero, zero)"
   ]
  },
  {
   "cell_type": "code",
   "execution_count": 63,
   "id": "2f65a4e1",
   "metadata": {
    "slideshow": {
     "slide_type": "fragment"
    }
   },
   "outputs": [
    {
     "data": {
      "text/plain": [
       "LatticeElement(L, {ZERO})"
      ]
     },
     "execution_count": 63,
     "metadata": {},
     "output_type": "execute_result"
    }
   ],
   "source": [
    "abstract_multiplication(alpha(0), alpha(10))"
   ]
  },
  {
   "cell_type": "code",
   "execution_count": 64,
   "id": "9e6e80ad",
   "metadata": {
    "slideshow": {
     "slide_type": "fragment"
    }
   },
   "outputs": [
    {
     "data": {
      "text/plain": [
       "LatticeElement(L, {NONZERO})"
      ]
     },
     "execution_count": 64,
     "metadata": {},
     "output_type": "execute_result"
    }
   ],
   "source": [
    "abstract_multiplication(alpha(10), alpha(10))"
   ]
  },
  {
   "cell_type": "code",
   "execution_count": 65,
   "id": "917ed1fa",
   "metadata": {
    "slideshow": {
     "slide_type": "slide"
    }
   },
   "outputs": [],
   "source": [
    "def abstract_division(op1, op2):\n",
    "    if op2 == zero:\n",
    "        return zero_lattice.bottom\n",
    "    elif op1 == zero_lattice.bottom:\n",
    "        return zero_lattice.bottom\n",
    "    elif op1 == zero:\n",
    "        return zero\n",
    "    elif op1 == nonzero and op2 == nonzero:\n",
    "        return nonzero\n",
    "    elif op1 == nonzero and op2 == maybezero:\n",
    "        return nonzero\n",
    "    elif op1 == zero_lattice.bottom:\n",
    "        return zero_lattice.bottom\n",
    "    else:\n",
    "        return maybezero"
   ]
  },
  {
   "cell_type": "code",
   "execution_count": 66,
   "id": "3d6ef35a",
   "metadata": {
    "scrolled": true,
    "slideshow": {
     "slide_type": "fragment"
    }
   },
   "outputs": [
    {
     "data": {
      "text/plain": [
       "LatticeElement(L, {ZERO})"
      ]
     },
     "execution_count": 66,
     "metadata": {},
     "output_type": "execute_result"
    }
   ],
   "source": [
    "abstract_division(alpha(0), alpha(10))"
   ]
  },
  {
   "cell_type": "code",
   "execution_count": 67,
   "id": "9eefb9cb",
   "metadata": {
    "scrolled": true,
    "slideshow": {
     "slide_type": "fragment"
    }
   },
   "outputs": [
    {
     "data": {
      "text/plain": [
       "LatticeElement(L, {NONZERO})"
      ]
     },
     "execution_count": 67,
     "metadata": {},
     "output_type": "execute_result"
    }
   ],
   "source": [
    "abstract_division(alpha(10), alpha(10))"
   ]
  },
  {
   "cell_type": "markdown",
   "id": "8f123d79",
   "metadata": {
    "slideshow": {
     "slide_type": "slide"
    }
   },
   "source": [
    "### Abstract transfer function"
   ]
  },
  {
   "cell_type": "markdown",
   "id": "e70749ee",
   "metadata": {
    "slideshow": {
     "slide_type": "skip"
    }
   },
   "source": [
    "Finally, abstract interpretation requires us to define how to interpret program statements in our abstract domain. That is, we need to define a transfer function that updates abstract flow values based on the operations encoded in a program statement. The state of a program is represented by a map `values` of variable names to their abstract values. The transfer function thus takes the abstract values of the variables and the abstract operations, and updates `values`."
   ]
  },
  {
   "cell_type": "markdown",
   "id": "5bf8d65b",
   "metadata": {
    "slideshow": {
     "slide_type": "skip"
    }
   },
   "source": [
    "Let's consider an example function."
   ]
  },
  {
   "cell_type": "code",
   "execution_count": 68,
   "id": "9a9bc8e5",
   "metadata": {
    "slideshow": {
     "slide_type": "fragment"
    }
   },
   "outputs": [],
   "source": [
    "code2 = \"\"\"\n",
    "void foo() {\n",
    "  int x = 8;\n",
    "  int y = x;\n",
    "  int z = 0;\n",
    "  while (y > -1) {\n",
    "    x = x / y;\n",
    "    y = y - 2; \n",
    "    z = 5;\n",
    "  }\n",
    "}\n",
    "\"\"\""
   ]
  },
  {
   "cell_type": "code",
   "execution_count": 69,
   "id": "2739b975",
   "metadata": {
    "slideshow": {
     "slide_type": "fragment"
    }
   },
   "outputs": [],
   "source": [
    "tree2 = parse_method(code2)\n",
    "cfg2 = CFGBuilder(tree2).create_graph()"
   ]
  },
  {
   "cell_type": "markdown",
   "id": "8e8d1e92",
   "metadata": {
    "slideshow": {
     "slide_type": "skip"
    }
   },
   "source": [
    "Now we need to generalise $\\alpha$ to transform entire expressions."
   ]
  },
  {
   "cell_type": "code",
   "execution_count": 70,
   "id": "59b173df",
   "metadata": {
    "slideshow": {
     "slide_type": "slide"
    }
   },
   "outputs": [],
   "source": [
    "@singledispatch\n",
    "def alpha(arg, values):\n",
    "    raise NotImplementedError(f\"Cannot abstract {arg}\") "
   ]
  },
  {
   "cell_type": "markdown",
   "id": "13750bb2",
   "metadata": {
    "slideshow": {
     "slide_type": "skip"
    }
   },
   "source": [
    "The easiest case is given by literal values (and we assume we only have programs with numeric values."
   ]
  },
  {
   "cell_type": "code",
   "execution_count": 71,
   "id": "bfa359b2",
   "metadata": {
    "slideshow": {
     "slide_type": "fragment"
    }
   },
   "outputs": [],
   "source": [
    "@alpha.register(int)\n",
    "def alpha_number(number, values = {}):\n",
    "    if number == 0:\n",
    "        return zero\n",
    "    else:\n",
    "        return nonzero"
   ]
  },
  {
   "cell_type": "code",
   "execution_count": 72,
   "id": "6df0bd29",
   "metadata": {
    "slideshow": {
     "slide_type": "fragment"
    }
   },
   "outputs": [],
   "source": [
    "@alpha.register(javalang.tree.Literal)\n",
    "def alpha_literal(lit, values):\n",
    "    return alpha(lit.value, values)"
   ]
  },
  {
   "cell_type": "markdown",
   "id": "9a87ad37",
   "metadata": {
    "slideshow": {
     "slide_type": "skip"
    }
   },
   "source": [
    "The dictionary `values` maps each variable to a lattice element. Thus, if the program accesses the value of a variable, we just need to look up the abstract value from `values."
   ]
  },
  {
   "cell_type": "code",
   "execution_count": 73,
   "id": "28462108",
   "metadata": {
    "slideshow": {
     "slide_type": "fragment"
    }
   },
   "outputs": [],
   "source": [
    "@alpha.register(javalang.tree.MemberReference)\n",
    "def alpha_member(member, values):\n",
    "    if member.member in values:\n",
    "        return values[member.member]\n",
    "    else:\n",
    "        return zero_lattice.BottomElement"
   ]
  },
  {
   "cell_type": "markdown",
   "id": "02f07ff1",
   "metadata": {
    "slideshow": {
     "slide_type": "skip"
    }
   },
   "source": [
    "We assume only numeric values, but for the sake of completeness, let's also interpret strings, as numbers."
   ]
  },
  {
   "cell_type": "code",
   "execution_count": 74,
   "id": "5c05e9be",
   "metadata": {
    "slideshow": {
     "slide_type": "slide"
    }
   },
   "outputs": [],
   "source": [
    "@alpha.register(str)\n",
    "def alpha_string(string, values):\n",
    "    return alpha_number((int(string)), values)"
   ]
  },
  {
   "cell_type": "markdown",
   "id": "ed387973",
   "metadata": {
    "slideshow": {
     "slide_type": "skip"
    }
   },
   "source": [
    "Assigning a value evaluates the right hand side expression using $\\alpha$, and updates `values` with the result for the left hand side variable."
   ]
  },
  {
   "cell_type": "code",
   "execution_count": 75,
   "id": "b1de49fb",
   "metadata": {
    "slideshow": {
     "slide_type": "fragment"
    }
   },
   "outputs": [],
   "source": [
    "@alpha.register(javalang.tree.Assignment)\n",
    "def alpha_assignment(assignment, values):\n",
    "    if not isinstance(assignment.expressionl, javalang.tree.MemberReference):\n",
    "        raise NotImplementError(f\"Assignment not implemented for {assignment.expressionl}\")\n",
    "\n",
    "    var = assignment.expressionl.member\n",
    "    values[var] = alpha(assignment.value, values)"
   ]
  },
  {
   "cell_type": "markdown",
   "id": "7ceded2e",
   "metadata": {
    "slideshow": {
     "slide_type": "skip"
    }
   },
   "source": [
    "We will only handle a restricted set of operations, in particular binary operations on numbers. Depending on the operator, we just need to call the corresponding abstract operation, and pass in the abstract values."
   ]
  },
  {
   "cell_type": "code",
   "execution_count": 76,
   "id": "25cc1c27",
   "metadata": {
    "slideshow": {
     "slide_type": "slide"
    }
   },
   "outputs": [],
   "source": [
    "@alpha.register(javalang.tree.BinaryOperation)\n",
    "def alpha_operation(operation, values):\n",
    "    lhs = alpha(operation.operandl, values)\n",
    "    rhs = alpha(operation.operandr, values)\n",
    "    op  = operation.operator\n",
    "    if op == \"+\":\n",
    "        return abstract_addition(lhs, rhs)\n",
    "    elif op == \"-\":\n",
    "        return abstract_subtraction(lhs, rhs)\n",
    "    elif op == \"*\":\n",
    "        return abstract_multiplication(lhs, rhs)\n",
    "    elif op == \"/\":\n",
    "        return abstract_division(lhs, rhs)\n",
    "    else:\n",
    "        raise NotImplementedError(f\"Operator not implemented: {op}\") "
   ]
  },
  {
   "cell_type": "markdown",
   "id": "d5c06905",
   "metadata": {
    "slideshow": {
     "slide_type": "skip"
    }
   },
   "source": [
    "Local variable declarations in javalang can have expressions on the right hand side with which to initialise the variable."
   ]
  },
  {
   "cell_type": "code",
   "execution_count": 77,
   "id": "50252897",
   "metadata": {
    "slideshow": {
     "slide_type": "slide"
    }
   },
   "outputs": [],
   "source": [
    "@alpha.register(javalang.tree.LocalVariableDeclaration)\n",
    "def alpha_declaration(declaration, values):\n",
    "    var = declaration.declarators[0].name\n",
    "    value = alpha(declaration.declarators[0].initializer, values)\n",
    "    values[var] = value"
   ]
  },
  {
   "cell_type": "markdown",
   "id": "852eae50",
   "metadata": {
    "slideshow": {
     "slide_type": "skip"
    }
   },
   "source": [
    "We need to recursively call the transfer function on the relevant AST classes."
   ]
  },
  {
   "cell_type": "code",
   "execution_count": 78,
   "id": "34e3e437",
   "metadata": {
    "slideshow": {
     "slide_type": "fragment"
    }
   },
   "outputs": [],
   "source": [
    "@alpha.register(javalang.tree.StatementExpression)\n",
    "def alpha_statement(statement, values):\n",
    "    alpha(statement.expression, values)"
   ]
  },
  {
   "cell_type": "markdown",
   "id": "7493327d",
   "metadata": {
    "slideshow": {
     "slide_type": "skip"
    }
   },
   "source": [
    "While statements do not update values (we are ignoring prefix/postfix increment and decrement)."
   ]
  },
  {
   "cell_type": "code",
   "execution_count": 79,
   "id": "2290cbfc",
   "metadata": {
    "slideshow": {
     "slide_type": "fragment"
    }
   },
   "outputs": [],
   "source": [
    "@alpha.register(javalang.tree.WhileStatement)\n",
    "def alpha_while(whilestatement, values):\n",
    "    pass"
   ]
  },
  {
   "cell_type": "markdown",
   "id": "77182b20",
   "metadata": {
    "slideshow": {
     "slide_type": "skip"
    }
   },
   "source": [
    "Neither do return statements."
   ]
  },
  {
   "cell_type": "code",
   "execution_count": 80,
   "id": "32d65a54",
   "metadata": {
    "slideshow": {
     "slide_type": "fragment"
    }
   },
   "outputs": [],
   "source": [
    "@alpha.register(javalang.tree.ReturnStatement)\n",
    "def alpha_return(statement, values):\n",
    "    pass"
   ]
  },
  {
   "cell_type": "markdown",
   "id": "3bc4937f",
   "metadata": {
    "slideshow": {
     "slide_type": "skip"
    }
   },
   "source": [
    "...or if statements."
   ]
  },
  {
   "cell_type": "code",
   "execution_count": 81,
   "id": "5f5f0a6a",
   "metadata": {
    "slideshow": {
     "slide_type": "fragment"
    }
   },
   "outputs": [],
   "source": [
    "@alpha.register(javalang.tree.IfStatement)\n",
    "def alpha_if(statement, values):\n",
    "    pass"
   ]
  },
  {
   "cell_type": "markdown",
   "id": "646f8c7f",
   "metadata": {
    "slideshow": {
     "slide_type": "skip"
    }
   },
   "source": [
    "...and we also ignore the method declaration itself."
   ]
  },
  {
   "cell_type": "code",
   "execution_count": 82,
   "id": "1a1ddd94",
   "metadata": {
    "slideshow": {
     "slide_type": "fragment"
    }
   },
   "outputs": [],
   "source": [
    "@alpha.register(javalang.tree.MethodDeclaration)\n",
    "def alpha_method(statement, values):\n",
    "    pass"
   ]
  },
  {
   "cell_type": "markdown",
   "id": "0bc373dc",
   "metadata": {
    "slideshow": {
     "slide_type": "skip"
    }
   },
   "source": [
    "For example, line 3 contains a declaration of variable `x`."
   ]
  },
  {
   "cell_type": "code",
   "execution_count": 83,
   "id": "0455d5a1",
   "metadata": {
    "scrolled": true,
    "slideshow": {
     "slide_type": "slide"
    }
   },
   "outputs": [
    {
     "data": {
      "text/plain": [
       "LocalVariableDeclaration(annotations=[], declarators=[VariableDeclarator(dimensions=[], initializer=Literal(postfix_operators=[], prefix_operators=[], qualifier=None, selectors=[], value=8), name=x)], modifiers=set(), type=BasicType(dimensions=[], name=int))"
      ]
     },
     "execution_count": 83,
     "metadata": {},
     "output_type": "execute_result"
    }
   ],
   "source": [
    "cfg2.node_for_line(3).ast_node"
   ]
  },
  {
   "cell_type": "code",
   "execution_count": 84,
   "id": "07735349",
   "metadata": {
    "slideshow": {
     "slide_type": "fragment"
    }
   },
   "outputs": [],
   "source": [
    "values = {}"
   ]
  },
  {
   "cell_type": "code",
   "execution_count": 85,
   "id": "f467e2fd",
   "metadata": {
    "slideshow": {
     "slide_type": "fragment"
    }
   },
   "outputs": [],
   "source": [
    "alpha(cfg2.node_for_line(3).ast_node, values)"
   ]
  },
  {
   "cell_type": "code",
   "execution_count": 86,
   "id": "3878727e",
   "metadata": {
    "slideshow": {
     "slide_type": "fragment"
    }
   },
   "outputs": [
    {
     "data": {
      "text/plain": [
       "{'x': LatticeElement(L, {NONZERO})}"
      ]
     },
     "execution_count": 86,
     "metadata": {},
     "output_type": "execute_result"
    }
   ],
   "source": [
    "values"
   ]
  },
  {
   "cell_type": "markdown",
   "id": "a80b63f3",
   "metadata": {
    "slideshow": {
     "slide_type": "skip"
    }
   },
   "source": [
    "Line 4 declares `y` and assigns it the value of `x`."
   ]
  },
  {
   "cell_type": "code",
   "execution_count": 87,
   "id": "6c637296",
   "metadata": {
    "scrolled": true,
    "slideshow": {
     "slide_type": "slide"
    }
   },
   "outputs": [],
   "source": [
    "alpha(cfg2.node_for_line(4).ast_node, values)"
   ]
  },
  {
   "cell_type": "code",
   "execution_count": 88,
   "id": "6b129aa1",
   "metadata": {
    "slideshow": {
     "slide_type": "fragment"
    }
   },
   "outputs": [
    {
     "data": {
      "text/plain": [
       "{'x': LatticeElement(L, {NONZERO}), 'y': LatticeElement(L, {NONZERO})}"
      ]
     },
     "execution_count": 88,
     "metadata": {},
     "output_type": "execute_result"
    }
   ],
   "source": [
    "values"
   ]
  },
  {
   "cell_type": "markdown",
   "id": "6f87b593",
   "metadata": {
    "slideshow": {
     "slide_type": "fragment"
    }
   },
   "source": [
    "Line 5 assigns `0` to `z`."
   ]
  },
  {
   "cell_type": "code",
   "execution_count": 89,
   "id": "7b697977",
   "metadata": {
    "slideshow": {
     "slide_type": "fragment"
    }
   },
   "outputs": [],
   "source": [
    "alpha(cfg2.node_for_line(5).ast_node, values)"
   ]
  },
  {
   "cell_type": "code",
   "execution_count": 90,
   "id": "127d3bf8",
   "metadata": {
    "scrolled": true,
    "slideshow": {
     "slide_type": "fragment"
    }
   },
   "outputs": [
    {
     "data": {
      "text/plain": [
       "{'x': LatticeElement(L, {NONZERO}),\n",
       " 'y': LatticeElement(L, {NONZERO}),\n",
       " 'z': LatticeElement(L, {ZERO})}"
      ]
     },
     "execution_count": 90,
     "metadata": {},
     "output_type": "execute_result"
    }
   ],
   "source": [
    "values"
   ]
  },
  {
   "cell_type": "markdown",
   "id": "99545a4f",
   "metadata": {
    "slideshow": {
     "slide_type": "slide"
    }
   },
   "source": [
    "Line 6 is a conditional statement and makes no assignment."
   ]
  },
  {
   "cell_type": "code",
   "execution_count": 91,
   "id": "56882eeb",
   "metadata": {
    "slideshow": {
     "slide_type": "fragment"
    }
   },
   "outputs": [],
   "source": [
    "alpha(cfg2.node_for_line(6).ast_node, values)"
   ]
  },
  {
   "cell_type": "code",
   "execution_count": 92,
   "id": "fd3bc951",
   "metadata": {
    "scrolled": true,
    "slideshow": {
     "slide_type": "fragment"
    }
   },
   "outputs": [
    {
     "data": {
      "text/plain": [
       "{'x': LatticeElement(L, {NONZERO}),\n",
       " 'y': LatticeElement(L, {NONZERO}),\n",
       " 'z': LatticeElement(L, {ZERO})}"
      ]
     },
     "execution_count": 92,
     "metadata": {},
     "output_type": "execute_result"
    }
   ],
   "source": [
    "values"
   ]
  },
  {
   "cell_type": "markdown",
   "id": "3b130197",
   "metadata": {
    "slideshow": {
     "slide_type": "slide"
    }
   },
   "source": [
    "Line 7 assigns `x` the value of `x/y`."
   ]
  },
  {
   "cell_type": "code",
   "execution_count": 93,
   "id": "db05b196",
   "metadata": {
    "slideshow": {
     "slide_type": "fragment"
    }
   },
   "outputs": [],
   "source": [
    "alpha(cfg2.node_for_line(7).ast_node, values)"
   ]
  },
  {
   "cell_type": "code",
   "execution_count": 94,
   "id": "d8eba7a1",
   "metadata": {
    "scrolled": true,
    "slideshow": {
     "slide_type": "fragment"
    }
   },
   "outputs": [
    {
     "data": {
      "text/plain": [
       "{'x': LatticeElement(L, {NONZERO}),\n",
       " 'y': LatticeElement(L, {NONZERO}),\n",
       " 'z': LatticeElement(L, {ZERO})}"
      ]
     },
     "execution_count": 94,
     "metadata": {},
     "output_type": "execute_result"
    }
   ],
   "source": [
    "values"
   ]
  },
  {
   "cell_type": "markdown",
   "id": "9a332651",
   "metadata": {
    "slideshow": {
     "slide_type": "slide"
    }
   },
   "source": [
    "Line 8 assigns `y` the value of `y - 2`."
   ]
  },
  {
   "cell_type": "code",
   "execution_count": 95,
   "id": "018c0f12",
   "metadata": {
    "slideshow": {
     "slide_type": "fragment"
    }
   },
   "outputs": [],
   "source": [
    "alpha(cfg2.node_for_line(8).ast_node, values)"
   ]
  },
  {
   "cell_type": "code",
   "execution_count": 96,
   "id": "d7b9802d",
   "metadata": {
    "scrolled": false,
    "slideshow": {
     "slide_type": "fragment"
    }
   },
   "outputs": [
    {
     "data": {
      "text/plain": [
       "{'x': LatticeElement(L, {NONZERO}),\n",
       " 'y': LatticeElement(L, {NONZERO, ZERO}),\n",
       " 'z': LatticeElement(L, {ZERO})}"
      ]
     },
     "execution_count": 96,
     "metadata": {},
     "output_type": "execute_result"
    }
   ],
   "source": [
    "values"
   ]
  },
  {
   "cell_type": "markdown",
   "id": "15fc2202",
   "metadata": {
    "slideshow": {
     "slide_type": "slide"
    }
   },
   "source": [
    "Line 9 assigns the constant `5` to `z`."
   ]
  },
  {
   "cell_type": "code",
   "execution_count": 97,
   "id": "a26e3d95",
   "metadata": {
    "slideshow": {
     "slide_type": "fragment"
    }
   },
   "outputs": [],
   "source": [
    "alpha(cfg2.node_for_line(9).ast_node, values)"
   ]
  },
  {
   "cell_type": "code",
   "execution_count": 98,
   "id": "02489970",
   "metadata": {
    "slideshow": {
     "slide_type": "fragment"
    }
   },
   "outputs": [
    {
     "data": {
      "text/plain": [
       "{'x': LatticeElement(L, {NONZERO}),\n",
       " 'y': LatticeElement(L, {NONZERO, ZERO}),\n",
       " 'z': LatticeElement(L, {NONZERO})}"
      ]
     },
     "execution_count": 98,
     "metadata": {},
     "output_type": "execute_result"
    }
   ],
   "source": [
    "values"
   ]
  },
  {
   "cell_type": "markdown",
   "id": "e34cf78f",
   "metadata": {
    "slideshow": {
     "slide_type": "skip"
    }
   },
   "source": [
    "The transfer function consists of updating all variables with the result of $\\alpha$. In our case this simply means applying our `alpha` function on the current statement.\n",
    "\n",
    "Fx:=e(σ) = σ[x ← αZI(e)]"
   ]
  },
  {
   "cell_type": "code",
   "execution_count": 99,
   "id": "b37eb3fd",
   "metadata": {
    "slideshow": {
     "slide_type": "slide"
    }
   },
   "outputs": [],
   "source": [
    "def alpha_trans(node, in_facts):\n",
    "    result = in_facts.copy()\n",
    "    alpha(node.ast_node, result.values)\n",
    "\n",
    "    return result"
   ]
  },
  {
   "cell_type": "markdown",
   "id": "31383681",
   "metadata": {
    "slideshow": {
     "slide_type": "skip"
    }
   },
   "source": [
    "To fit things into our monotone framework, we need to capture the lattice not just for one, but for all variables in a program. We thus create a program lattice, which is essentially a product lattice assigning an independent value lattice to each variable."
   ]
  },
  {
   "cell_type": "code",
   "execution_count": 100,
   "id": "9c81572d",
   "metadata": {
    "slideshow": {
     "slide_type": "slide"
    }
   },
   "outputs": [],
   "source": [
    "class ProgramLattice(object):\n",
    "    def __init__(self, variables, lattice):\n",
    "        self.variables = variables\n",
    "        self.lattice   = lattice\n",
    "        self.values    = {}\n",
    "        for var in variables:\n",
    "            self.values[var] = lattice.bottom\n",
    "\n",
    "    @property\n",
    "    def bottom(self):\n",
    "        new_lattice = ProgramLattice(self.variables, self.lattice)\n",
    "        for var in self.variables:\n",
    "            new_lattice.values[var] = self.lattice.bottom\n",
    "        return new_lattice\n",
    "    \n",
    "    def join(self, other):\n",
    "        new_lattice = ProgramLattice(self.variables, self.lattice)\n",
    "        for var in self.variables:\n",
    "            new_lattice.values[var] = self.lattice.join(self.values[var], other.values[var])\n",
    "        return new_lattice\n",
    "    \n",
    "    def copy(self):\n",
    "        new_lattice = ProgramLattice(self.variables, self.lattice)\n",
    "        new_lattice.values = self.values.copy()\n",
    "        return new_lattice\n",
    "    \n",
    "    \n",
    "    def __le__(self, other):\n",
    "        for var in self.variables:\n",
    "            if not (self.values[var] <= other.values[var]):\n",
    "                return False\n",
    "\n",
    "        return True"
   ]
  },
  {
   "cell_type": "markdown",
   "id": "70be8fce",
   "metadata": {
    "slideshow": {
     "slide_type": "skip"
    }
   },
   "source": [
    "To create this program lattice, we first need to determine what the variables in our program are."
   ]
  },
  {
   "cell_type": "code",
   "execution_count": 101,
   "id": "ffb23426",
   "metadata": {
    "slideshow": {
     "slide_type": "slide"
    }
   },
   "outputs": [],
   "source": [
    "def variables(cfg):\n",
    "    variables = set()\n",
    "    for node in cfg.nodes():\n",
    "        for definition in node.definitions():\n",
    "            variables.add(definition.name)\n",
    "    for use in node.uses():\n",
    "        variables.add(use.name)\n",
    "    \n",
    "    return variables"
   ]
  },
  {
   "cell_type": "code",
   "execution_count": 102,
   "id": "13ca9102",
   "metadata": {
    "slideshow": {
     "slide_type": "fragment"
    }
   },
   "outputs": [
    {
     "data": {
      "text/plain": [
       "{'x', 'y', 'z'}"
      ]
     },
     "execution_count": 102,
     "metadata": {},
     "output_type": "execute_result"
    }
   ],
   "source": [
    "variables(cfg2)"
   ]
  },
  {
   "cell_type": "markdown",
   "id": "4b406c9f",
   "metadata": {
    "slideshow": {
     "slide_type": "skip"
    }
   },
   "source": [
    "Now we can create a program lattice, where each variable is defined by a zero lattice."
   ]
  },
  {
   "cell_type": "code",
   "execution_count": 103,
   "id": "46e6019a",
   "metadata": {
    "slideshow": {
     "slide_type": "fragment"
    }
   },
   "outputs": [],
   "source": [
    "P = ProgramLattice(variables(cfg2), zero_lattice)"
   ]
  },
  {
   "cell_type": "markdown",
   "id": "f387eced",
   "metadata": {
    "slideshow": {
     "slide_type": "skip"
    }
   },
   "source": [
    "We need to update our dataflow analysis framework just slightly, to make sure it uses the correct join function (small interface change here in our program lattice, hopefully to be removed in a future revision)."
   ]
  },
  {
   "cell_type": "code",
   "execution_count": 104,
   "id": "208c4c89",
   "metadata": {
    "slideshow": {
     "slide_type": "slide"
    }
   },
   "outputs": [],
   "source": [
    "class DataFlowAnalysis:\n",
    "    def __init__(self, cfg, program_lattice, transfer_function, is_backward):\n",
    "        self.cfg = cfg\n",
    "        if is_backward:\n",
    "            self.cfg = cfg.reverse()\n",
    "            \n",
    "        self.transfer_function = transfer_function\n",
    "        self.lattice = program_lattice\n",
    "        \n",
    "        self.facts = {}\n",
    "        \n",
    "        for node in cfg.nodes():\n",
    "            self.facts[node] = program_lattice.bottom    "
   ]
  },
  {
   "cell_type": "code",
   "execution_count": 105,
   "id": "fd5a65e2",
   "metadata": {
    "slideshow": {
     "slide_type": "slide"
    }
   },
   "outputs": [],
   "source": [
    "class DataFlowAnalysis(DataFlowAnalysis):\n",
    "    def apply(self):\n",
    "            \n",
    "        worklist = [(edge[0], edge[1]) for edge in self.cfg.edges()]\n",
    "        while worklist:\n",
    "            node1, node2 = worklist.pop()\n",
    "            \n",
    "            result = self.transfer_function(node1, self.facts[node1])\n",
    "            self.facts[node1] = result\n",
    "            if not (result <= self.facts[node2]):\n",
    "                self.facts[node2] = self.facts[node2].join(result)\n",
    "                for successor in self.cfg.successors(node2):\n",
    "                    worklist.append((node2, successor))"
   ]
  },
  {
   "cell_type": "markdown",
   "id": "2969849a",
   "metadata": {
    "slideshow": {
     "slide_type": "skip"
    }
   },
   "source": [
    "Finally, let's apply the dataflow analysis."
   ]
  },
  {
   "cell_type": "code",
   "execution_count": 106,
   "id": "a2f0a339",
   "metadata": {
    "slideshow": {
     "slide_type": "fragment"
    }
   },
   "outputs": [],
   "source": [
    "analysis = DataFlowAnalysis(cfg2, P, alpha_trans, False)"
   ]
  },
  {
   "cell_type": "code",
   "execution_count": 107,
   "id": "61ad42ba",
   "metadata": {
    "slideshow": {
     "slide_type": "fragment"
    }
   },
   "outputs": [],
   "source": [
    "analysis.apply()"
   ]
  },
  {
   "cell_type": "markdown",
   "id": "145caeb6",
   "metadata": {
    "slideshow": {
     "slide_type": "skip"
    }
   },
   "source": [
    "For each node, we now know that possible values for each variable."
   ]
  },
  {
   "cell_type": "code",
   "execution_count": 108,
   "id": "4870994d",
   "metadata": {
    "scrolled": true,
    "slideshow": {
     "slide_type": "slide"
    }
   },
   "outputs": [
    {
     "name": "stdout",
     "output_type": "stream",
     "text": [
      "Node Start: ['x = set()', 'y = set()', 'z = set()']\n",
      "Node End: ['x = {NONZERO}', 'y = {NONZERO, ZERO}', 'z = {NONZERO, ZERO}']\n",
      "Node 3: ['x = {NONZERO}', 'y = set()', 'z = set()']\n",
      "Node 4: ['x = {NONZERO}', 'y = {NONZERO}', 'z = set()']\n",
      "Node 5: ['x = {NONZERO}', 'y = {NONZERO}', 'z = {ZERO}']\n",
      "Node 6: ['x = {NONZERO}', 'y = {NONZERO, ZERO}', 'z = {NONZERO, ZERO}']\n",
      "Node 7: ['x = {NONZERO}', 'y = {NONZERO, ZERO}', 'z = {NONZERO, ZERO}']\n",
      "Node 8: ['x = {NONZERO}', 'y = {NONZERO, ZERO}', 'z = {NONZERO, ZERO}']\n",
      "Node 9: ['x = {NONZERO}', 'y = {NONZERO, ZERO}', 'z = {NONZERO}']\n"
     ]
    }
   ],
   "source": [
    "for node, lattice in analysis.facts.items():\n",
    "    defstr = [f\"{var} = {value}\" for var, value in lattice.values.items()]\n",
    "    print(f\"Node {node}: {defstr}\")"
   ]
  },
  {
   "cell_type": "markdown",
   "id": "fb53b0ab",
   "metadata": {
    "slideshow": {
     "slide_type": "skip"
    }
   },
   "source": [
    "To build an analysis out of this information, what we need to do is check our program for division statements, and then check the divisor. If the value is `ZERO` then we know there will be a division by zero error, if it is `{ZERO, NONZERO}` then there may be a division by zero error."
   ]
  },
  {
   "cell_type": "code",
   "execution_count": 109,
   "id": "76b1e57b",
   "metadata": {
    "slideshow": {
     "slide_type": "slide"
    }
   },
   "outputs": [],
   "source": [
    "def get_children(root):\n",
    "    children = None\n",
    "\n",
    "    if isinstance(root, javalang.tree.Node):\n",
    "        yield root\n",
    "        children = root.children\n",
    "    else:\n",
    "        children = root\n",
    "\n",
    "    for child in children:\n",
    "        if isinstance(child, javalang.tree.Statement):\n",
    "            continue\n",
    "    \n",
    "        if isinstance(child, (javalang.tree.Node, list, tuple)):\n",
    "            for node in get_children(child):\n",
    "                yield node"
   ]
  },
  {
   "cell_type": "code",
   "execution_count": 110,
   "id": "dae6c077",
   "metadata": {
    "scrolled": true,
    "slideshow": {
     "slide_type": "fragment"
    }
   },
   "outputs": [
    {
     "name": "stdout",
     "output_type": "stream",
     "text": [
      "  1 : \n",
      "  2 : void foo() {\n",
      "  3 :   int x = 8;\n",
      "  4 :   int y = x;\n",
      "  5 :   int z = 0;\n",
      "  6 :   while (y > -1) {\n",
      "  7 :     x = x / y;\n",
      "  8 :     y = y - 2; \n",
      "  9 :     z = 5;\n",
      " 10 :   }\n",
      " 11 : }\n",
      " 12 : \n"
     ]
    }
   ],
   "source": [
    "for i, line in enumerate(code2.split('\\n')):\n",
    "    print(str(i + 1).rjust(3, ' '), ':', line)"
   ]
  },
  {
   "cell_type": "code",
   "execution_count": 111,
   "id": "a86036ef",
   "metadata": {
    "slideshow": {
     "slide_type": "fragment"
    }
   },
   "outputs": [
    {
     "name": "stdout",
     "output_type": "stream",
     "text": [
      "Potential division by zero in line 7\n"
     ]
    }
   ],
   "source": [
    "for node in cfg2.nodes():\n",
    "    for expression in node.expressions():\n",
    "        for _, binop in expression.expression.filter(javalang.tree.BinaryOperation):\n",
    "            if binop.operator == \"/\" and isinstance(binop.operandr, javalang.tree.MemberReference):\n",
    "                if zero == analysis.facts[node].values[binop.operandr.member]:\n",
    "                    print(f\"Division by zero in line {node.ast_node.position.line - 1}\")\n",
    "                elif zero <= analysis.facts[node].values[binop.operandr.member]:\n",
    "                    print(f\"Potential division by zero in line {node.ast_node.position.line - 1}\")\n"
   ]
  },
  {
   "cell_type": "markdown",
   "id": "88b7a7e1",
   "metadata": {
    "slideshow": {
     "slide_type": "skip"
    }
   },
   "source": [
    "Let's also try an example where there's a guaranteed division by zero error."
   ]
  },
  {
   "cell_type": "code",
   "execution_count": 112,
   "id": "7555b15d",
   "metadata": {
    "slideshow": {
     "slide_type": "slide"
    }
   },
   "outputs": [],
   "source": [
    "code3 = \"\"\"\n",
    "void foo() {\n",
    "  int x = 8;\n",
    "  int y = 0;\n",
    "  int z = x/y;\n",
    "}\n",
    "\"\"\""
   ]
  },
  {
   "cell_type": "code",
   "execution_count": 113,
   "id": "5728d4b1",
   "metadata": {
    "slideshow": {
     "slide_type": "fragment"
    }
   },
   "outputs": [],
   "source": [
    "tree3 = parse_method(code3)\n",
    "cfg3 = CFGBuilder(tree3).create_graph()"
   ]
  },
  {
   "cell_type": "code",
   "execution_count": 114,
   "id": "99b2c753",
   "metadata": {
    "slideshow": {
     "slide_type": "fragment"
    }
   },
   "outputs": [],
   "source": [
    "P = ProgramLattice(variables(cfg3), zero_lattice)\n",
    "analysis = DataFlowAnalysis(cfg3, P, alpha_trans, False)\n",
    "analysis.apply()"
   ]
  },
  {
   "cell_type": "code",
   "execution_count": 115,
   "id": "b880b276",
   "metadata": {
    "slideshow": {
     "slide_type": "fragment"
    }
   },
   "outputs": [
    {
     "name": "stdout",
     "output_type": "stream",
     "text": [
      "Division by zero in line 5\n"
     ]
    }
   ],
   "source": [
    "for node in cfg3.nodes():\n",
    "    for expression in node.expressions():\n",
    "        for _, binop in expression.expression.filter(javalang.tree.BinaryOperation):\n",
    "            if binop.operator == \"/\" and isinstance(binop.operandr, javalang.tree.MemberReference):\n",
    "                if zero == analysis.facts[node].values[binop.operandr.member]:\n",
    "                    print(f\"Division by zero in line {node.ast_node.position.line - 1}\")\n",
    "                elif zero <= analysis.facts[node].values[binop.operandr.member]:\n",
    "                    print(f\"Potential division by zero in line {node.ast_node.position.line - 1}\")"
   ]
  }
 ],
 "metadata": {
  "celltoolbar": "Slideshow",
  "kernelspec": {
   "display_name": "Python 3 (ipykernel)",
   "language": "python",
   "name": "python3"
  },
  "language_info": {
   "codemirror_mode": {
    "name": "ipython",
    "version": 3
   },
   "file_extension": ".py",
   "mimetype": "text/x-python",
   "name": "python",
   "nbconvert_exporter": "python",
   "pygments_lexer": "ipython3",
   "version": "3.9.0"
  }
 },
 "nbformat": 4,
 "nbformat_minor": 5
}
