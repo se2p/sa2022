{
 "cells": [
  {
   "cell_type": "markdown",
   "id": "6543f618",
   "metadata": {
    "slideshow": {
     "slide_type": "slide"
    }
   },
   "source": [
    "# A First Program Analysis: Analysis at Character Level"
   ]
  },
  {
   "cell_type": "markdown",
   "id": "2c448a1e",
   "metadata": {
    "slideshow": {
     "slide_type": "skip"
    }
   },
   "source": [
    "We will start by treating source code as plain text files, without any further structural information. This obviously limits what we can do, but it provides a nice starting point for two different types of analyses."
   ]
  },
  {
   "cell_type": "markdown",
   "id": "06fd5ac9",
   "metadata": {
    "slideshow": {
     "slide_type": "slide"
    }
   },
   "source": [
    "## Lines of Code"
   ]
  },
  {
   "cell_type": "markdown",
   "id": "6e2daab8",
   "metadata": {
    "slideshow": {
     "slide_type": "skip"
    }
   },
   "source": [
    "Measuring the complexity of software is important for many reasons. There are countless different complexity metrics, and while they all have weaknesses in how well they can actually capture \"complexity\", they do have their use. The most common metric among all is to count the lines of code: The more lines a program has, the more complex it likely is. Let's consider a simple Java example program:"
   ]
  },
  {
   "cell_type": "code",
   "execution_count": null,
   "id": "95ffdd6b",
   "metadata": {
    "slideshow": {
     "slide_type": "fragment"
    }
   },
   "outputs": [],
   "source": [
    "code = \"\"\"\n",
    "package example;\n",
    "\n",
    "public class Example {\n",
    "  private int foo;\n",
    "  \n",
    "  public Example(int foo) {\n",
    "    this.foo = foo;\n",
    "  }\n",
    "  \n",
    "  public int getFoo() {\n",
    "    return foo;\n",
    "  }\n",
    "  \n",
    "  public int doBar(int bar) {\n",
    "    if (bar > 0) {\n",
    "      // This is the case where bar > 0\n",
    "      return bar + foo;\n",
    "    } else {\n",
    "      return bar - foo;\n",
    "    }\n",
    "  }\n",
    "}\n",
    "\"\"\""
   ]
  },
  {
   "cell_type": "markdown",
   "id": "f4623e4a",
   "metadata": {
    "slideshow": {
     "slide_type": "skip"
    }
   },
   "source": [
    "We've defined our program as a string so that we can process it using Python code."
   ]
  },
  {
   "cell_type": "code",
   "execution_count": null,
   "id": "d5973d0d",
   "metadata": {
    "slideshow": {
     "slide_type": "slide"
    }
   },
   "outputs": [],
   "source": [
    "for i, line in enumerate(code.split(\"\\n\")):\n",
    "    print(str(i + 1).rjust(3, ' '), ':', line)"
   ]
  },
  {
   "cell_type": "markdown",
   "id": "d413d8f2",
   "metadata": {
    "slideshow": {
     "slide_type": "skip"
    }
   },
   "source": [
    "To count the number of lines in the file, we just need to split the source code at newline characters:"
   ]
  },
  {
   "cell_type": "code",
   "execution_count": null,
   "id": "af212c8e",
   "metadata": {
    "slideshow": {
     "slide_type": "fragment"
    }
   },
   "outputs": [],
   "source": [
    "len(code.split(\"\\n\"))"
   ]
  },
  {
   "cell_type": "markdown",
   "id": "f7b51ff1",
   "metadata": {
    "slideshow": {
     "slide_type": "skip"
    }
   },
   "source": [
    "Voila! Let's put this in a function."
   ]
  },
  {
   "cell_type": "code",
   "execution_count": null,
   "id": "7c3f41ad",
   "metadata": {
    "slideshow": {
     "slide_type": "slide"
    }
   },
   "outputs": [],
   "source": [
    "def count_loc(code):\n",
    "    lines = code.split(\"\\n\")\n",
    "    return len(lines)"
   ]
  },
  {
   "cell_type": "code",
   "execution_count": null,
   "id": "b205e12b",
   "metadata": {
    "slideshow": {
     "slide_type": "fragment"
    }
   },
   "outputs": [],
   "source": [
    "count_loc(code)"
   ]
  },
  {
   "cell_type": "markdown",
   "id": "4beac8af",
   "metadata": {
    "slideshow": {
     "slide_type": "skip"
    }
   },
   "source": [
    "Our LOC metric includes lines without actual code, such as empty lines, lines with comments, or lines with only braces. We can, however, easily filter these."
   ]
  },
  {
   "cell_type": "code",
   "execution_count": null,
   "id": "11bab2b2",
   "metadata": {
    "slideshow": {
     "slide_type": "fragment"
    }
   },
   "outputs": [],
   "source": [
    "def count_loc(code):\n",
    "    lines = code.split(\"\\n\")\n",
    "    \n",
    "    # Remove closing bracces\n",
    "    lines = [l.replace(\"}\", \"\") for l in lines]\n",
    "\n",
    "    # Remove trailing whitespaces\n",
    "    lines = [l.strip() for l in lines]\n",
    "\n",
    "    # Remove comment lines\n",
    "    lines = [l for l in lines if not l.startswith(\"//\")]\n",
    "    \n",
    "    # Remove empty lines\n",
    "    lines = [l for l in lines if l]\n",
    "    \n",
    "    return len(lines)"
   ]
  },
  {
   "cell_type": "code",
   "execution_count": null,
   "id": "cfbd5886",
   "metadata": {
    "slideshow": {
     "slide_type": "fragment"
    }
   },
   "outputs": [],
   "source": [
    "count_loc(code)"
   ]
  },
  {
   "cell_type": "markdown",
   "id": "60e3a23d",
   "metadata": {
    "slideshow": {
     "slide_type": "skip"
    }
   },
   "source": [
    "Let's have a look at the actual lines to see if this makes sense."
   ]
  },
  {
   "cell_type": "code",
   "execution_count": null,
   "id": "c0197d56",
   "metadata": {
    "slideshow": {
     "slide_type": "slide"
    }
   },
   "outputs": [],
   "source": [
    "for i, line in enumerate(code.split(\"\\n\")):\n",
    "    l = line.replace(\"}\", \"\").strip()\n",
    "    if l and not l.startswith(\"//\"):\n",
    "        print(str(i + 1).rjust(3, ' '), ':', l)"
   ]
  },
  {
   "cell_type": "markdown",
   "id": "5133684e",
   "metadata": {
    "slideshow": {
     "slide_type": "skip"
    }
   },
   "source": [
    "Of course, if there are multi-line comments, things become more tricky. However, we'll skip this for now and move on to the next analysis."
   ]
  },
  {
   "cell_type": "markdown",
   "id": "2ea52c24",
   "metadata": {
    "slideshow": {
     "slide_type": "slide"
    }
   },
   "source": [
    "## Code Clone Detection"
   ]
  },
  {
   "cell_type": "markdown",
   "id": "8371e7c3",
   "metadata": {
    "slideshow": {
     "slide_type": "skip"
    }
   },
   "source": [
    "Code clones are fragments of source code that occur repeatedly in identical or similar way. Code clones are considered a quality issue in programs, and Fowler's \"Stink Parade of Bad Smells\"."
   ]
  },
  {
   "cell_type": "markdown",
   "id": "94cb600a",
   "metadata": {
    "slideshow": {
     "slide_type": "skip"
    }
   },
   "source": [
    "Code clones may exist for legitimate reasons: They are commonly used during development when reusing existing code using copy&paste, which can speed up development. However, if there is a bug in the cloned code, then this creates a maintenance issue: When fixing a bug in one clone, one would need to fix the same bug in all clones. "
   ]
  },
  {
   "cell_type": "markdown",
   "id": "f223a557",
   "metadata": {
    "slideshow": {
     "slide_type": "skip"
    }
   },
   "source": [
    "Code clone detection is a program analysis that aims to identify locations of similar/identical code, such that the code quality can be improved by refactoring these code locations. Notably, similar techniques can also be used to identify plagiarism in programming assignments."
   ]
  },
  {
   "cell_type": "markdown",
   "id": "3c0d537e",
   "metadata": {
    "slideshow": {
     "slide_type": "skip"
    }
   },
   "source": [
    "We distinguish four different types of code clones."
   ]
  },
  {
   "cell_type": "markdown",
   "id": "711f28c2",
   "metadata": {
    "slideshow": {
     "slide_type": "subslide"
    }
   },
   "source": [
    "### Type 1 Clones"
   ]
  },
  {
   "cell_type": "markdown",
   "id": "10be2c40",
   "metadata": {
    "slideshow": {
     "slide_type": "skip"
    }
   },
   "source": [
    "Type 1 clones are identical code fragments, which may have some variations in whitespace, layout, and comments."
   ]
  },
  {
   "cell_type": "code",
   "execution_count": null,
   "id": "66c172a7",
   "metadata": {
    "slideshow": {
     "slide_type": "fragment"
    }
   },
   "outputs": [],
   "source": [
    "type_1_1 = \"\"\"\n",
    "public class Foo {\n",
    "  public void foo(int x) {\n",
    "    System.out.println(\"Hello Clone!\");\n",
    "    int j = 10;\n",
    "    for(int i = 0; i < x; i++) {\n",
    "      System.out.println(\"Another iteration\");\n",
    "    }\n",
    "  }\n",
    "}\n",
    "\"\"\""
   ]
  },
  {
   "cell_type": "code",
   "execution_count": null,
   "id": "c705f818",
   "metadata": {
    "slideshow": {
     "slide_type": "fragment"
    }
   },
   "outputs": [],
   "source": [
    "type_1_2 = \"\"\"\n",
    "public class Bar {\n",
    "  public void bar(int x) {\n",
    "    System.out.println(\"Hello Clone!\");\n",
    "    int j = 10;\n",
    "    for(int i = 0; i < x; i++) {\n",
    "      System.out.println(\"Another iteration\");\n",
    "    }\n",
    "  }\n",
    "}\n",
    "\"\"\""
   ]
  },
  {
   "cell_type": "markdown",
   "id": "62dc2608",
   "metadata": {
    "slideshow": {
     "slide_type": "skip"
    }
   },
   "source": [
    "The method bodies of methods `foo` and `bar` are clearly identical, so this constitutes a type 1 clone. However, also the following method `zoo` is a type 1 clones since it only differs in whitespaces and indentation:"
   ]
  },
  {
   "cell_type": "code",
   "execution_count": null,
   "id": "4cd4ae5e",
   "metadata": {
    "slideshow": {
     "slide_type": "slide"
    }
   },
   "outputs": [],
   "source": [
    "type_1_3 = \"\"\"\n",
    "public class Zoo \n",
    "{\n",
    "  public void zoo(int x) \n",
    "  {\n",
    "      System.out.println(\"Hello Clone!\");\n",
    "\n",
    "      int j = 10;\n",
    "      for(int i = 0; i < x; i++) \n",
    "      {\n",
    "        System.out.println(\"Another iteration\");\n",
    "      }\n",
    "  }\n",
    "}\n",
    "\"\"\""
   ]
  },
  {
   "cell_type": "markdown",
   "id": "f133674a",
   "metadata": {
    "slideshow": {
     "slide_type": "skip"
    }
   },
   "source": [
    "In our initial analysis we will only consider type 1 clones."
   ]
  },
  {
   "cell_type": "markdown",
   "id": "37db2e77",
   "metadata": {
    "slideshow": {
     "slide_type": "subslide"
    }
   },
   "source": [
    "### Type 2 Clones"
   ]
  },
  {
   "cell_type": "markdown",
   "id": "47a52a79",
   "metadata": {
    "slideshow": {
     "slide_type": "skip"
    }
   },
   "source": [
    "Type 2 clones are syntactically equivalent fragments with some variations in identifiers, literals, types, whitespace, layout and comments. The method `bar` in the following snippet is a type 2 clone of the methods shown in our type 1 examples above: It uses different literals, strings, and variable names."
   ]
  },
  {
   "cell_type": "markdown",
   "id": "d7faa174",
   "metadata": {
    "slideshow": {
     "slide_type": "fragment"
    }
   },
   "source": [
    "```\n",
    "public class Bar {\n",
    "  public void bar(int y) {\n",
    "    System.out.println(\"Some other text\");\n",
    "    int z = 90;\n",
    "    for(int j = 0; j < y; j++) {\n",
    "      System.out.println(\"Yet some more different text\");\n",
    "    }\n",
    "  }\n",
    "}\n",
    "```"
   ]
  },
  {
   "cell_type": "markdown",
   "id": "70e30819",
   "metadata": {
    "slideshow": {
     "slide_type": "subslide"
    }
   },
   "source": [
    "### Type 3 Clones"
   ]
  },
  {
   "cell_type": "markdown",
   "id": "1409be04",
   "metadata": {
    "slideshow": {
     "slide_type": "skip"
    }
   },
   "source": [
    "Type 3 clones are syntactically similar code fragments with inserted, deleted, or updated statements."
   ]
  },
  {
   "cell_type": "markdown",
   "id": "1405950a",
   "metadata": {
    "slideshow": {
     "slide_type": "fragment"
    }
   },
   "source": [
    "```\n",
    "public class Bar {\n",
    "  public void bar(int z) {\n",
    "    System.out.println(\"Some completely different text\");\n",
    "    int x = 90;\n",
    "    String s = \"Another assignment\";\n",
    "    for(int j = 0; j < z; j++) {\n",
    "      System.out.println(\"Yet some more different text\");\n",
    "    }\n",
    "  }\n",
    "}\n",
    "```"
   ]
  },
  {
   "cell_type": "markdown",
   "id": "d4211f06",
   "metadata": {
    "slideshow": {
     "slide_type": "skip"
    }
   },
   "source": [
    "This version of `bar` not only uses different literals and variable names, but it also includes an additional statement creating a variable `s`."
   ]
  },
  {
   "cell_type": "markdown",
   "id": "101fd71d",
   "metadata": {
    "slideshow": {
     "slide_type": "subslide"
    }
   },
   "source": [
    "### Type 4 Clones"
   ]
  },
  {
   "cell_type": "markdown",
   "id": "9e577824",
   "metadata": {
    "slideshow": {
     "slide_type": "skip"
    }
   },
   "source": [
    "Finally, type 4 clones are semantically equivalent, but syntactically different. This is difficult with the non-sensical code we've used above, so here's another example:"
   ]
  },
  {
   "cell_type": "markdown",
   "id": "9ce2f57a",
   "metadata": {
    "slideshow": {
     "slide_type": "fragment"
    }
   },
   "source": [
    "```\n",
    "public class Bar {\n",
    "  public String concatenate(String a, String b) {\n",
    "    String result = \"\";\n",
    "    result += a;\n",
    "    result += b;\n",
    "    return result\n",
    "  }\n",
    "}\n",
    "```"
   ]
  },
  {
   "cell_type": "markdown",
   "id": "8ad7a47a",
   "metadata": {
    "slideshow": {
     "slide_type": "fragment"
    }
   },
   "source": [
    "```\n",
    "public class Bar {\n",
    "  public String concatenate(String a, String b) {\n",
    "    StringBuffer buffer = new StringBuffer();\n",
    "    buffer.append(a);\n",
    "    buffer.append(b);\n",
    "    return buffer.toString();\n",
    "  }\n",
    "}\n",
    "```"
   ]
  },
  {
   "cell_type": "markdown",
   "id": "75955f6d",
   "metadata": {
    "slideshow": {
     "slide_type": "skip"
    }
   },
   "source": [
    "There is very little syntactic similarity between the two versions of method `concatenate`, however they both semantically do exactly the same."
   ]
  },
  {
   "cell_type": "markdown",
   "id": "9024d7a3",
   "metadata": {
    "slideshow": {
     "slide_type": "skip"
    }
   },
   "source": [
    "Overall, between 7%-23% of the code in a typical software system is cloned"
   ]
  },
  {
   "cell_type": "markdown",
   "id": "1c735fc0",
   "metadata": {
    "slideshow": {
     "slide_type": "slide"
    }
   },
   "source": [
    "### Simple Type 1 Clone Detection Analysis"
   ]
  },
  {
   "cell_type": "markdown",
   "id": "722056b6",
   "metadata": {
    "slideshow": {
     "slide_type": "skip"
    }
   },
   "source": [
    "Code clone analysis has been a topic of research for decades, and there are numerous different techniques. We will use a variant of a classical approach defined in the following paper:"
   ]
  },
  {
   "cell_type": "markdown",
   "id": "a9fabf5d",
   "metadata": {
    "slideshow": {
     "slide_type": "skip"
    }
   },
   "source": [
    "Ducasse, S., Rieger, M., & Demeyer, S. (1999, August). A language independent approach for detecting duplicated code. In Proceedings IEEE International Conference on Software Maintenance-1999 (ICSM'99). (pp. 109-118). IEEE."
   ]
  },
  {
   "cell_type": "markdown",
   "id": "fa48e21e",
   "metadata": {
    "slideshow": {
     "slide_type": "skip"
    }
   },
   "source": [
    "We will focus only on type 1 clones today, but will tackle type 2 clones in the next lecture. We will also make another simplification: We will compare code line by line, so it will be possible to fool our analysis by wrapping lines differently. Again, this is something we will tackle next time."
   ]
  },
  {
   "cell_type": "markdown",
   "id": "d8913d89",
   "metadata": {
    "slideshow": {
     "slide_type": "skip"
    }
   },
   "source": [
    "At the core of the analysis lies a cross comparison of all the lines."
   ]
  },
  {
   "cell_type": "code",
   "execution_count": null,
   "id": "c700b13e",
   "metadata": {
    "slideshow": {
     "slide_type": "fragment"
    }
   },
   "outputs": [],
   "source": [
    "lines1 = type_1_1.split(\"\\n\")\n",
    "lines1"
   ]
  },
  {
   "cell_type": "code",
   "execution_count": null,
   "id": "a85b4317",
   "metadata": {
    "scrolled": true,
    "slideshow": {
     "slide_type": "fragment"
    }
   },
   "outputs": [],
   "source": [
    "lines2 = type_1_2.split(\"\\n\")\n",
    "lines2"
   ]
  },
  {
   "cell_type": "markdown",
   "id": "bf986299",
   "metadata": {
    "slideshow": {
     "slide_type": "skip"
    }
   },
   "source": [
    "Since we compare every line in `lines1` with every line in `lines2`, we create a matrix that summarises these comparisons."
   ]
  },
  {
   "cell_type": "code",
   "execution_count": null,
   "id": "d074eae9",
   "metadata": {
    "slideshow": {
     "slide_type": "slide"
    }
   },
   "outputs": [],
   "source": [
    "def compare_lines(lines1, lines2):    \n",
    "    matrix = []\n",
    "    \n",
    "    for line1 in lines1:\n",
    "        row = []\n",
    "        for line2 in lines2:\n",
    "            row.append(1 if line1 == line2 else 0)\n",
    "            \n",
    "        matrix.append(row)\n",
    "                \n",
    "    return matrix"
   ]
  },
  {
   "cell_type": "code",
   "execution_count": null,
   "id": "c5abaa43",
   "metadata": {
    "scrolled": true,
    "slideshow": {
     "slide_type": "fragment"
    }
   },
   "outputs": [],
   "source": [
    "compare_lines(lines1, lines2)"
   ]
  },
  {
   "cell_type": "markdown",
   "id": "8b674ae8",
   "metadata": {
    "slideshow": {
     "slide_type": "skip"
    }
   },
   "source": [
    "In this matrix, we can find clones if there are diagonals of `1`s. We can spot one along the middle of the matrix, with 8 identical lines."
   ]
  },
  {
   "cell_type": "markdown",
   "id": "57cbd925",
   "metadata": {
    "slideshow": {
     "slide_type": "skip"
    }
   },
   "source": [
    "We thus need to look for these in our matrix. For each position in the matrix we check for the longest \"block\" of matches starting at the positions in the two code fragments starting at this position."
   ]
  },
  {
   "cell_type": "code",
   "execution_count": null,
   "id": "037eff38",
   "metadata": {
    "slideshow": {
     "slide_type": "slide"
    }
   },
   "outputs": [],
   "source": [
    "def get_block_at(matrix, x, y):\n",
    "    block = []\n",
    "    \n",
    "    while (x < len(matrix) and y < len(matrix[x]) and matrix[x][y]):\n",
    "        block.append((x, y))\n",
    "        x += 1\n",
    "        y += 1\n",
    "    \n",
    "    return block"
   ]
  },
  {
   "cell_type": "markdown",
   "id": "ee1b1f7f",
   "metadata": {
    "slideshow": {
     "slide_type": "skip"
    }
   },
   "source": [
    "In our example, we know the clone starts in line 3 of each of the fragments, so we can check if this is found correctly."
   ]
  },
  {
   "cell_type": "code",
   "execution_count": null,
   "id": "f3cd959d",
   "metadata": {
    "slideshow": {
     "slide_type": "fragment"
    }
   },
   "outputs": [],
   "source": [
    "matrix = compare_lines(lines1, lines2)\n",
    "get_block_at(matrix, 3, 3)"
   ]
  },
  {
   "cell_type": "markdown",
   "id": "05e948d4",
   "metadata": {
    "slideshow": {
     "slide_type": "skip"
    }
   },
   "source": [
    "Indeed the two snippets are identical starting from line 3."
   ]
  },
  {
   "cell_type": "markdown",
   "id": "51618257",
   "metadata": {
    "slideshow": {
     "slide_type": "skip"
    }
   },
   "source": [
    "To find code clones, we extract all blocks from the matrix. We might want to restrict ourselves to blocks of a minimum size (e.g. at least 3 matching statements). Furthermore, we need to avoid collecting subsumed blocks: If we have identified the block starting at (3,3), then there is also a block starting at (4,4) in our example. Since we want to find the largest possible overlap, we keep track of what we have already identified and skip redundant checks."
   ]
  },
  {
   "cell_type": "code",
   "execution_count": null,
   "id": "c6ae7d75",
   "metadata": {
    "slideshow": {
     "slide_type": "slide"
    }
   },
   "outputs": [],
   "source": [
    "def get_blocks(matrix, min_size = 3):\n",
    "    blocks = []\n",
    "    covered = set()\n",
    "    \n",
    "    width = len(matrix)\n",
    "    height = len(matrix[0])\n",
    "    \n",
    "    for x in range(width):\n",
    "        for y in range(height):\n",
    "            if (x, y) in covered:\n",
    "                continue\n",
    "                \n",
    "            block = get_block_at(matrix, x, y)\n",
    "            if len(block) >= min_size:\n",
    "                blocks.append(block)\n",
    "                for (bx, by) in block:\n",
    "                    covered.add((bx, by))\n",
    "    \n",
    "    return blocks"
   ]
  },
  {
   "cell_type": "markdown",
   "id": "c38a6b0f",
   "metadata": {
    "slideshow": {
     "slide_type": "skip"
    }
   },
   "source": [
    "Running this function on our example matrix should return a single block from line 3 to the end."
   ]
  },
  {
   "cell_type": "code",
   "execution_count": null,
   "id": "35004d48",
   "metadata": {
    "slideshow": {
     "slide_type": "fragment"
    }
   },
   "outputs": [],
   "source": [
    "get_blocks(matrix)"
   ]
  },
  {
   "cell_type": "markdown",
   "id": "98b3e3e2",
   "metadata": {
    "slideshow": {
     "slide_type": "skip"
    }
   },
   "source": [
    "Let's pretty-print the relevant code."
   ]
  },
  {
   "cell_type": "code",
   "execution_count": null,
   "id": "86768a09",
   "metadata": {
    "slideshow": {
     "slide_type": "slide"
    }
   },
   "outputs": [],
   "source": [
    "clones = get_blocks(matrix)\n",
    "for clone in clones:\n",
    "    print(\"Code in snippet 1:\")\n",
    "    for i, j in clone:\n",
    "        print(str(i + 1).rjust(3, ' '), ':', lines1[i])\n",
    "\n",
    "    print(\"\\nCode in snippet 2:\")\n",
    "    for i, j in clone:\n",
    "        print(str(j + 1).rjust(3, ' '), ':', lines1[j])"
   ]
  },
  {
   "cell_type": "markdown",
   "id": "3778cf85",
   "metadata": {
    "slideshow": {
     "slide_type": "skip"
    }
   },
   "source": [
    "The match includes the closing braces. Arguably, just like when counting the lines of code, these lines are not relevant. Let's also consider what happens when comparing against the second type 1 clone we defined earlier."
   ]
  },
  {
   "cell_type": "code",
   "execution_count": null,
   "id": "fad0e99f",
   "metadata": {
    "slideshow": {
     "slide_type": "slide"
    }
   },
   "outputs": [],
   "source": [
    "lines3 = type_1_3.split(\"\\n\")\n",
    "lines3"
   ]
  },
  {
   "cell_type": "code",
   "execution_count": null,
   "id": "cd9a6e1a",
   "metadata": {
    "slideshow": {
     "slide_type": "slide"
    }
   },
   "outputs": [],
   "source": [
    "matrix2 = compare_lines(lines1, lines3)\n",
    "matrix2"
   ]
  },
  {
   "cell_type": "markdown",
   "id": "789ed6cc",
   "metadata": {
    "slideshow": {
     "slide_type": "skip"
    }
   },
   "source": [
    "There is only one clone block in this matrix:"
   ]
  },
  {
   "cell_type": "code",
   "execution_count": null,
   "id": "15306d50",
   "metadata": {
    "slideshow": {
     "slide_type": "fragment"
    }
   },
   "outputs": [],
   "source": [
    "get_blocks(matrix2)"
   ]
  },
  {
   "cell_type": "markdown",
   "id": "94a4b78e",
   "metadata": {
    "slideshow": {
     "slide_type": "skip"
    }
   },
   "source": [
    "Incidentally, that block only covers the last two closing braces and empty line:"
   ]
  },
  {
   "cell_type": "code",
   "execution_count": null,
   "id": "8b288c2d",
   "metadata": {
    "slideshow": {
     "slide_type": "slide"
    }
   },
   "outputs": [],
   "source": [
    "clones2 = get_blocks(matrix2)\n",
    "for clone in clones2:\n",
    "    print(\"Code in snippet 1:\")\n",
    "    for i, j in clone:\n",
    "        print(str(i + 1).rjust(3, ' '), ':', lines1[i])\n",
    "\n",
    "    print(\"\\nCode in snippet 2:\")\n",
    "    for i, j in clone:\n",
    "        print(str(j + 1).rjust(3, ' '), ':', lines3[j])"
   ]
  },
  {
   "cell_type": "markdown",
   "id": "ab6b60ca",
   "metadata": {
    "slideshow": {
     "slide_type": "skip"
    }
   },
   "source": [
    "In order to make a cleaner comparison, we will need to apply the same filtering of lines as we did when counting lines of code."
   ]
  },
  {
   "cell_type": "code",
   "execution_count": null,
   "id": "1056de0e",
   "metadata": {
    "slideshow": {
     "slide_type": "slide"
    }
   },
   "outputs": [],
   "source": [
    "def get_lines(code):\n",
    "    lines = [l.replace(\"}\", \"\").replace(\"{\", \"\").strip() for l in code.split(\"\\n\")]\n",
    "    code_lines = [l for l in lines if l and not l.startswith(\"//\")]\n",
    "\n",
    "    return code_lines"
   ]
  },
  {
   "cell_type": "code",
   "execution_count": null,
   "id": "26ba5f5d",
   "metadata": {
    "slideshow": {
     "slide_type": "fragment"
    }
   },
   "outputs": [],
   "source": [
    "get_lines(type_1_1)"
   ]
  },
  {
   "cell_type": "code",
   "execution_count": null,
   "id": "d9f3bd9a",
   "metadata": {
    "slideshow": {
     "slide_type": "slide"
    }
   },
   "outputs": [],
   "source": [
    "def print_clones(code1, code2):\n",
    "    lines1 = get_lines(code1)\n",
    "    lines2 = get_lines(code2)\n",
    "    \n",
    "    matrix = compare_lines(lines1, lines2)\n",
    "    clones = get_blocks(matrix)\n",
    "    \n",
    "    for clone in clones:\n",
    "        print(\"Code in snippet 1:\")\n",
    "        for i, j in clone:\n",
    "            print(str(i + 1).rjust(3, ' '), ':', lines1[i])\n",
    "\n",
    "        print(\"Code in snippet 2:\")\n",
    "        for i, j in clone:\n",
    "            print(str(j + 1).rjust(3, ' '), ':', lines2[j])\n",
    "        print(\"\\n\")"
   ]
  },
  {
   "cell_type": "markdown",
   "id": "1981d378",
   "metadata": {
    "slideshow": {
     "slide_type": "skip"
    }
   },
   "source": [
    "With our refined clone detection function we can now also find the code clone between the first and third snippet."
   ]
  },
  {
   "cell_type": "code",
   "execution_count": null,
   "id": "04ed6154",
   "metadata": {
    "slideshow": {
     "slide_type": "fragment"
    }
   },
   "outputs": [],
   "source": [
    "print_clones(type_1_1, type_1_3)"
   ]
  },
  {
   "cell_type": "markdown",
   "id": "8837f555",
   "metadata": {
    "slideshow": {
     "slide_type": "skip"
    }
   },
   "source": [
    "We can also spot multiple clones."
   ]
  },
  {
   "cell_type": "code",
   "execution_count": null,
   "id": "39fe5e73",
   "metadata": {
    "slideshow": {
     "slide_type": "slide"
    }
   },
   "outputs": [],
   "source": [
    "type_1_4 = \"\"\"\n",
    "public class Bar {\n",
    "  public void foo(int x) {\n",
    "    System.out.println(\"Hello Clone!\");\n",
    "    int j = 10;\n",
    "    for(int i = 0; i < x; i++) {\n",
    "      System.out.println(\"Another iteration\");\n",
    "    }\n",
    "  }\n",
    "  \n",
    "  public void bar(int x) {\n",
    "    System.out.println(\"Hello Clone!\");\n",
    "    int j = 10;\n",
    "    for(int i = 0; i < x; i++) {\n",
    "      System.out.println(\"Another iteration\");\n",
    "    }\n",
    "  }\n",
    "}\n",
    "\"\"\""
   ]
  },
  {
   "cell_type": "code",
   "execution_count": null,
   "id": "24a1f793",
   "metadata": {
    "slideshow": {
     "slide_type": "fragment"
    }
   },
   "outputs": [],
   "source": [
    "print_clones(type_1_1, type_1_4)"
   ]
  },
  {
   "cell_type": "markdown",
   "id": "b6d026bc",
   "metadata": {
    "slideshow": {
     "slide_type": "skip"
    }
   },
   "source": [
    "Our example `type_1_4` actually contains a clone between its two methods `foo` and `bar`. However, when looking for clones within a file we need to make sure we skip the trivial clone (the file is obviously identical to itself, so our matrix will contain a diagonal of 1s):"
   ]
  },
  {
   "cell_type": "code",
   "execution_count": null,
   "id": "a0c3dcfd",
   "metadata": {
    "slideshow": {
     "slide_type": "slide"
    }
   },
   "outputs": [],
   "source": [
    "compare_lines(get_lines(type_1_4), get_lines(type_1_4))"
   ]
  },
  {
   "cell_type": "markdown",
   "id": "cf0e0176",
   "metadata": {
    "slideshow": {
     "slide_type": "skip"
    }
   },
   "source": [
    "Besides the trivial diagonal, there's another noteworthy thing happening here: The matrix is of course symmetrical across the diagonal. When extracting clone blocks, we only need to consider half the matrix."
   ]
  },
  {
   "cell_type": "code",
   "execution_count": null,
   "id": "9ff9e785",
   "metadata": {
    "slideshow": {
     "slide_type": "slide"
    }
   },
   "outputs": [],
   "source": [
    "def get_blocks_within(matrix, min_size = 3):\n",
    "    blocks = []\n",
    "    covered = set()\n",
    "    \n",
    "    width = len(matrix)\n",
    "    height = len(matrix[0])\n",
    "    \n",
    "    for x in range(width):\n",
    "        for y in range(x, height):\n",
    "            if (x, y) in covered:\n",
    "                continue\n",
    "                \n",
    "            block = get_block_at(matrix, x, y)\n",
    "            if len(block) >= min_size:\n",
    "                blocks.append(block)\n",
    "                for (bx, by) in block:\n",
    "                    covered.add((bx, by))\n",
    "    \n",
    "    return blocks"
   ]
  },
  {
   "cell_type": "markdown",
   "id": "d2100620",
   "metadata": {
    "slideshow": {
     "slide_type": "skip"
    }
   },
   "source": [
    "Let's put this all together."
   ]
  },
  {
   "cell_type": "code",
   "execution_count": null,
   "id": "d6f57fe2",
   "metadata": {
    "slideshow": {
     "slide_type": "slide"
    }
   },
   "outputs": [],
   "source": [
    "def print_clones(code):\n",
    "    lines = get_lines(code)\n",
    "    \n",
    "    matrix = compare_lines(lines, lines)\n",
    "    clones = get_blocks_within(matrix)\n",
    "    \n",
    "    for clone in clones:\n",
    "        # Skip the trivial clone in the self comparison\n",
    "        if len(clone) == len(lines):\n",
    "            continue\n",
    "        print(\"Code in snippet 1:\")\n",
    "        for i, j in clone:\n",
    "            print(str(i + 1).rjust(3, ' '), ':', lines[i])\n",
    "\n",
    "        print(\"Code in snippet 2:\")\n",
    "        for i, j in clone:\n",
    "            print(str(j + 1).rjust(3, ' '), ':', lines[j])\n",
    "        print(\"\\n\")"
   ]
  },
  {
   "cell_type": "markdown",
   "id": "aea2a238",
   "metadata": {
    "slideshow": {
     "slide_type": "skip"
    }
   },
   "source": [
    "Now let's check for clones within our snippet with two methods."
   ]
  },
  {
   "cell_type": "code",
   "execution_count": null,
   "id": "40d33ae4",
   "metadata": {
    "slideshow": {
     "slide_type": "fragment"
    }
   },
   "outputs": [],
   "source": [
    "print_clones(type_1_4)"
   ]
  },
  {
   "cell_type": "markdown",
   "id": "9c3b9ee2",
   "metadata": {
    "slideshow": {
     "slide_type": "skip"
    }
   },
   "source": [
    "Our algorithm cannot detect type 2 clones yet -- in order to do so it would need to ignore differences in literals, strings, and variable names. We will have a look how to achieve this in the next lecture, when we move from considering source code at the character/line level to *tokens*."
   ]
  }
 ],
 "metadata": {
  "kernelspec": {
   "display_name": "Python 3 (ipykernel)",
   "language": "python",
   "name": "python3"
  },
  "language_info": {
   "codemirror_mode": {
    "name": "ipython",
    "version": 3
   },
   "file_extension": ".py",
   "mimetype": "text/x-python",
   "name": "python",
   "nbconvert_exporter": "python",
   "pygments_lexer": "ipython3",
   "version": "3.9.12"
  }
 },
 "nbformat": 4,
 "nbformat_minor": 5
}
