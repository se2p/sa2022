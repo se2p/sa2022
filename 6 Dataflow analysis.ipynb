{
 "cells": [
  {
   "cell_type": "markdown",
   "id": "97409467",
   "metadata": {
    "slideshow": {
     "slide_type": "slide"
    }
   },
   "source": [
    "# Data flow"
   ]
  },
  {
   "cell_type": "markdown",
   "id": "0cdf7ca9",
   "metadata": {
    "slideshow": {
     "slide_type": "skip"
    }
   },
   "source": [
    "In the previous chapter we defined the control flow graph, in this chapter we will use the control flow graph in order to perform data flow analyses. We will consider four classical analyses (well known from compiler construction), as well as the data dependence graph."
   ]
  },
  {
   "cell_type": "markdown",
   "id": "6c78dda3",
   "metadata": {
    "slideshow": {
     "slide_type": "skip"
    }
   },
   "source": [
    "As running example we will use the following function."
   ]
  },
  {
   "cell_type": "code",
   "execution_count": 1,
   "id": "b47ca401",
   "metadata": {
    "slideshow": {
     "slide_type": "slide"
    }
   },
   "outputs": [],
   "source": [
    "code = \"\"\"\n",
    "  public int foo(int x) {\n",
    "    int y = 0;\n",
    "\n",
    "    while(x >= 0) {\n",
    "        int tmp = x;\n",
    "        if(tmp % 2 == 0)\n",
    "            y = x;\n",
    "        x--;\n",
    "    }\n",
    "\n",
    "    return y;\n",
    "  }\n",
    "\"\"\""
   ]
  },
  {
   "cell_type": "markdown",
   "id": "b456f227",
   "metadata": {
    "slideshow": {
     "slide_type": "slide"
    }
   },
   "source": [
    "## Control Flow Graph"
   ]
  },
  {
   "cell_type": "markdown",
   "id": "c835c04c",
   "metadata": {
    "slideshow": {
     "slide_type": "skip"
    }
   },
   "source": [
    "The starting point for our dataflow analysis is the control flow graph, so we briefl redefine the CFG using the code from the last chapter."
   ]
  },
  {
   "cell_type": "code",
   "execution_count": 2,
   "id": "331f5ac0",
   "metadata": {
    "slideshow": {
     "slide_type": "fragment"
    }
   },
   "outputs": [],
   "source": [
    "import javalang"
   ]
  },
  {
   "cell_type": "code",
   "execution_count": 3,
   "id": "b976d17f",
   "metadata": {
    "slideshow": {
     "slide_type": "fragment"
    }
   },
   "outputs": [],
   "source": [
    "def parse_method(code):\n",
    "    class_code = \"class Dummy {\\n\" + code + \"\\n}\";\n",
    "    tokens = javalang.tokenizer.tokenize(class_code)\n",
    "    parser = javalang.parser.Parser(tokens)\n",
    "    ast = parser.parse()\n",
    "    _, node = list(ast.filter(javalang.tree.MethodDeclaration))[0]\n",
    "    return node"
   ]
  },
  {
   "cell_type": "code",
   "execution_count": 4,
   "id": "18b4e3fb",
   "metadata": {
    "slideshow": {
     "slide_type": "fragment"
    }
   },
   "outputs": [],
   "source": [
    "class CFGNode:\n",
    "    def __init__(self, ast_node):\n",
    "        self.ast_node = ast_node\n",
    "    \n",
    "    def __str__(self):\n",
    "        if type(self.ast_node) == str:\n",
    "            return self.ast_node\n",
    "        else:\n",
    "            return str(self.ast_node.position.line - 1)"
   ]
  },
  {
   "cell_type": "code",
   "execution_count": 5,
   "id": "83064561",
   "metadata": {
    "slideshow": {
     "slide_type": "slide"
    }
   },
   "outputs": [],
   "source": [
    "import networkx as nx"
   ]
  },
  {
   "cell_type": "code",
   "execution_count": 6,
   "id": "529197f8",
   "metadata": {
    "slideshow": {
     "slide_type": "fragment"
    }
   },
   "outputs": [],
   "source": [
    "class ProgramGraph:\n",
    "    def __init__(self, graph, start, end):\n",
    "        self.graph = graph\n",
    "        self.start = start\n",
    "        self.end   = end\n",
    "        \n",
    "    def nodes(self):\n",
    "        return self.graph.nodes()\n",
    "    \n",
    "    def edges(self):\n",
    "        return self.graph.edges()\n",
    "    \n",
    "    def successors(self, node):\n",
    "        return self.graph.successors(node)\n",
    "    \n",
    "    def predecessors(self, node):\n",
    "        return self.graph.predecessors(node)\n",
    "    \n",
    "    def is_branch(self, node):\n",
    "        return self.graph.out_degree(node) > 1\n",
    "    \n",
    "    def is_merge(self, node):\n",
    "        return self.graph.in_degree(node) > 1\n",
    "    \n",
    "    def plot(self):\n",
    "        pos = nx.nx_agraph.graphviz_layout(self.graph, prog=\"dot\")\n",
    "        nx.draw_networkx_nodes(self.graph, pos=pos, node_size=800, node_color='#FFFFFF', edgecolors='#000000')\n",
    "        nx.draw_networkx_edges(self.graph, pos=pos, connectionstyle=\"arc\", arrowsize=20)\n",
    "        nx.draw_networkx_labels(self.graph, pos=pos)\n",
    "        nx.draw_networkx_edge_labels(self.graph, pos=pos, edge_labels=nx.get_edge_attributes(self.graph,'label'))"
   ]
  },
  {
   "cell_type": "code",
   "execution_count": 7,
   "id": "c31af0d8",
   "metadata": {
    "slideshow": {
     "slide_type": "slide"
    }
   },
   "outputs": [],
   "source": [
    "from functools import singledispatchmethod"
   ]
  },
  {
   "cell_type": "code",
   "execution_count": 8,
   "id": "87cd8b16",
   "metadata": {
    "slideshow": {
     "slide_type": "fragment"
    }
   },
   "outputs": [],
   "source": [
    "class CFGBuilder:\n",
    "    def __init__(self, method_declaration):\n",
    "        # create graph\n",
    "        self.graph = nx.DiGraph()\n",
    "        \n",
    "        # create entry/end node\n",
    "        self.start = CFGNode(\"Start\")\n",
    "        self.end   = CFGNode(\"End\")\n",
    "        self.graph.add_node(self.start)\n",
    "        self.graph.add_node(self.end)\n",
    "        \n",
    "        # set entry as current target\n",
    "        self.frontier = [ self.start ]\n",
    "        \n",
    "        for node in method_declaration.body:\n",
    "            self.add_node(node)\n",
    "            \n",
    "        # Add edges from last nodes to end node\n",
    "        for parent in self.frontier:\n",
    "            self.graph.add_edge(parent, self.end)\n",
    "\n",
    "    def create_graph(self):\n",
    "        return ProgramGraph(self.graph, self.start, self.end)\n",
    "    \n",
    "    @singledispatchmethod\n",
    "    def add_node(self, node):\n",
    "        pass\n",
    "    \n",
    "    @add_node.register        \n",
    "    def add_block_node(self, block_node: javalang.tree.BlockStatement):\n",
    "        for node in block_node.statements:\n",
    "            self.add_node(node)            \n",
    "    \n",
    "    @add_node.register\n",
    "    def add_statement_node(self, node: javalang.tree.StatementExpression):\n",
    "        cfg_node = CFGNode(node)\n",
    "        self.graph.add_node(cfg_node)\n",
    "        for parent in self.frontier:\n",
    "            self.graph.add_edge(parent, cfg_node)\n",
    "        self.frontier = [ cfg_node ]\n",
    "        \n",
    "    @add_node.register\n",
    "    def add_declaration_node(self, node: javalang.tree.LocalVariableDeclaration):\n",
    "        self.add_statement_node(node)\n",
    "        \n",
    "    @add_node.register\n",
    "    def add_if_node(self, if_node: javalang.tree.IfStatement):\n",
    "        cfg_node = CFGNode(if_node)\n",
    "        self.graph.add_node(cfg_node)\n",
    "\n",
    "        for parent in self.frontier:\n",
    "            self.graph.add_edge(parent, cfg_node)\n",
    "        self.frontier = [cfg_node]\n",
    "        self.add_node(if_node.then_statement)\n",
    "        \n",
    "        if if_node.else_statement:\n",
    "            current_frontier = self.frontier[:]\n",
    "            self.frontier = [cfg_node]\n",
    "            self.add_node(if_node.else_statement)\n",
    "            self.frontier.extend(current_frontier)\n",
    "        else:\n",
    "            self.frontier.append(cfg_node)\n",
    "            \n",
    "    @add_node.register\n",
    "    def add_while_node(self, while_node: javalang.tree.WhileStatement):\n",
    "        cfg_node = CFGNode(while_node)\n",
    "        self.graph.add_node(cfg_node)\n",
    "        for parent in self.frontier:\n",
    "            self.graph.add_edge(parent, cfg_node)\n",
    "        self.frontier = [cfg_node]\n",
    "        self.add_node(while_node.body)\n",
    "        for parent in self.frontier:\n",
    "            self.graph.add_edge(parent, cfg_node)\n",
    "        self.frontier = [cfg_node]\n",
    "\n",
    "    @add_node.register\n",
    "    def add_return_node(self, return_node: javalang.tree.ReturnStatement):\n",
    "        cfg_node = CFGNode(return_node)\n",
    "        self.graph.add_node(cfg_node)\n",
    "        for parent in self.frontier:\n",
    "            self.graph.add_edge(parent, cfg_node)\n",
    "        self.graph.add_edge(cfg_node, self.end)\n",
    "        self.frontier = [] "
   ]
  },
  {
   "cell_type": "markdown",
   "id": "86e26f3c",
   "metadata": {
    "slideshow": {
     "slide_type": "skip"
    }
   },
   "source": [
    "For the sake of completeness, here's the CFG of our example function."
   ]
  },
  {
   "cell_type": "code",
   "execution_count": 9,
   "id": "f7f88796",
   "metadata": {
    "slideshow": {
     "slide_type": "slide"
    }
   },
   "outputs": [
    {
     "data": {
      "image/png": "[encoded data removed]",
      "text/plain": [
       "<Figure size 432x288 with 1 Axes>"
      ]
     },
     "metadata": {},
     "output_type": "display_data"
    }
   ],
   "source": [
    "tree = parse_method(code)\n",
    "cfg = CFGBuilder(tree).create_graph()\n",
    "cfg.plot()"
   ]
  },
  {
   "cell_type": "markdown",
   "id": "a90233e2",
   "metadata": {
    "slideshow": {
     "slide_type": "slide"
    }
   },
   "source": [
    "## Definitions and Uses"
   ]
  },
  {
   "cell_type": "markdown",
   "id": "ea960155",
   "metadata": {
    "slideshow": {
     "slide_type": "skip"
    }
   },
   "source": [
    "The central concept we are interested in during data flow analysis is where variables are assigned new values (i.e., where they are _defined_), and where these assigned values are read (i.e., where they are _used_). We can extract the information about available variables from the AST of a method."
   ]
  },
  {
   "cell_type": "code",
   "execution_count": 10,
   "id": "33b1ef33",
   "metadata": {
    "slideshow": {
     "slide_type": "fragment"
    }
   },
   "outputs": [],
   "source": [
    "def find_variables(method):\n",
    "    variables = set()\n",
    "    # Parameters\n",
    "    for _, node in method.filter(javalang.tree.FormalParameter):\n",
    "        variables.add(node.name)\n",
    "        \n",
    "    # Local variables\n",
    "    for _, node in method.filter(javalang.tree.MemberReference):\n",
    "        variables.add(node.member)\n",
    "    \n",
    "    # We ignore OOP stuff (attributes) for now\n",
    "    return variables"
   ]
  },
  {
   "cell_type": "markdown",
   "id": "646278db",
   "metadata": {
    "slideshow": {
     "slide_type": "skip"
    }
   },
   "source": [
    "Our example function defines three variables."
   ]
  },
  {
   "cell_type": "code",
   "execution_count": 11,
   "id": "c73cd8d8",
   "metadata": {
    "scrolled": true,
    "slideshow": {
     "slide_type": "fragment"
    }
   },
   "outputs": [
    {
     "data": {
      "text/plain": [
       "{'tmp', 'x', 'y'}"
      ]
     },
     "execution_count": 11,
     "metadata": {},
     "output_type": "execute_result"
    }
   ],
   "source": [
    "find_variables(tree)"
   ]
  },
  {
   "cell_type": "markdown",
   "id": "3a7e1de8",
   "metadata": {
    "slideshow": {
     "slide_type": "skip"
    }
   },
   "source": [
    "Now we need to distinguish between where we _define_ and where we _use_ these variables. We can find the uses of variables by iterating over all `javalang.tree.MemberReference`s in the AST."
   ]
  },
  {
   "cell_type": "code",
   "execution_count": 12,
   "id": "b813812e",
   "metadata": {
    "scrolled": false,
    "slideshow": {
     "slide_type": "slide"
    }
   },
   "outputs": [
    {
     "name": "stdout",
     "output_type": "stream",
     "text": [
      "Use of x in line 5\n",
      "Use of x in line 6\n",
      "Use of tmp in line 7\n",
      "Use of y in line 8\n",
      "Use of x in line 8\n",
      "Use of x in line 9\n",
      "Use of y in line 12\n"
     ]
    }
   ],
   "source": [
    "for _, node in tree.filter(javalang.tree.MemberReference):\n",
    "    # TODO: Not on lhs of assignment\n",
    "    print(f\"Use of {node.member} in line {node.position.line - 1}\")"
   ]
  },
  {
   "cell_type": "markdown",
   "id": "540e899f",
   "metadata": {
    "slideshow": {
     "slide_type": "skip"
    }
   },
   "source": [
    "Variables are defined in local variable declarations, if they are used on the left hand side of an assignment, and when they are used with a prefix or postfix increment/decrement operator."
   ]
  },
  {
   "cell_type": "code",
   "execution_count": 13,
   "id": "fdf74602",
   "metadata": {
    "scrolled": true,
    "slideshow": {
     "slide_type": "slide"
    }
   },
   "outputs": [
    {
     "name": "stdout",
     "output_type": "stream",
     "text": [
      "Definition of y in line 3\n",
      "Definition of tmp in line 6\n",
      "Definition of y in line 8\n",
      "Definition of x in line 9\n"
     ]
    }
   ],
   "source": [
    "for _, node in tree.filter(javalang.tree.LocalVariableDeclaration):\n",
    "    decl = node.declarators[0]\n",
    "    print(f\"Definition of {decl.name} in line {node.position.line - 1}\")\n",
    "for _, node in tree.filter(javalang.tree.Assignment):\n",
    "    memberref = node.expressionl\n",
    "    print(f\"Definition of {memberref.member} in line {memberref.position.line - 1}\")\n",
    "for _, node in tree.filter(javalang.tree.MemberReference):\n",
    "    if node.prefix_operators or node.postfix_operators:\n",
    "        print(f\"Definition of {node.member} in line {node.position.line - 1}\")"
   ]
  },
  {
   "cell_type": "markdown",
   "id": "02c898aa",
   "metadata": {
    "slideshow": {
     "slide_type": "skip"
    }
   },
   "source": [
    "We introduce a helper class to capture the information of a use; each Use stores the variable used, as well as the corresponding CFG node."
   ]
  },
  {
   "cell_type": "code",
   "execution_count": 14,
   "id": "d0fc430d",
   "metadata": {
    "slideshow": {
     "slide_type": "slide"
    }
   },
   "outputs": [],
   "source": [
    "from dataclasses import dataclass"
   ]
  },
  {
   "cell_type": "code",
   "execution_count": 15,
   "id": "fdfb874e",
   "metadata": {
    "slideshow": {
     "slide_type": "fragment"
    }
   },
   "outputs": [],
   "source": [
    "@dataclass(frozen=True, eq=True)\n",
    "class Use:\n",
    "    name: str\n",
    "    node: CFGNode\n",
    "        \n",
    "    def __str__(self):\n",
    "        if isinstance(self.node.ast_node, str):\n",
    "            return f\"Use: {self.name} in {self.node.ast_node}\"\n",
    "        \n",
    "        return f\"Use: {self.name} in line {self.node.ast_node.position.line - 1}\""
   ]
  },
  {
   "cell_type": "markdown",
   "id": "ae0c4bc2",
   "metadata": {
    "slideshow": {
     "slide_type": "skip"
    }
   },
   "source": [
    "Now we can extend our CFG with functionality to extract the uses for a given node."
   ]
  },
  {
   "cell_type": "code",
   "execution_count": 16,
   "id": "c194a796",
   "metadata": {
    "slideshow": {
     "slide_type": "slide"
    }
   },
   "outputs": [],
   "source": [
    "class CFGNode(CFGNode):\n",
    "    def uses(self):\n",
    "        uses = set()\n",
    "        if not self.ast_node or isinstance(self.ast_node, str):\n",
    "            return uses\n",
    "        \n",
    "        # Do not check children that contain other statements\n",
    "        root = self.ast_node\n",
    "        if isinstance(self.ast_node, javalang.tree.ForStatement):\n",
    "            root = self.ast_node.control\n",
    "        elif hasattr(self.ast_node, \"condition\"):\n",
    "            root = self.ast_node.condition\n",
    "        elif isinstance(self.ast_node, javalang.tree.StatementExpression):\n",
    "            # Assignment: lhs only if it is a +=, -=, etc\n",
    "            if isinstance(self.ast_node.expression, javalang.tree.Assignment):\n",
    "                if len(self.ast_node.expression.type) > 1:\n",
    "                    root = self.ast_node.expression\n",
    "                else:\n",
    "                    root = self.ast_node.expression.value\n",
    "            \n",
    "        for _, node in root.filter(javalang.tree.MemberReference):\n",
    "            uses.add(Use(node.member, self))\n",
    "        for _, node in root.filter(javalang.tree.MethodInvocation):\n",
    "            uses.add(Use(node.qualifier, self)) # Only works for non-static methods\n",
    "        return uses"
   ]
  },
  {
   "cell_type": "markdown",
   "id": "b6499a4b",
   "metadata": {
    "slideshow": {
     "slide_type": "skip"
    }
   },
   "source": [
    "We have to re-create the CFG to sure our nodes have the new function."
   ]
  },
  {
   "cell_type": "code",
   "execution_count": 17,
   "id": "86061277",
   "metadata": {
    "slideshow": {
     "slide_type": "slide"
    }
   },
   "outputs": [],
   "source": [
    "cfg = CFGBuilder(tree).create_graph()"
   ]
  },
  {
   "cell_type": "code",
   "execution_count": 18,
   "id": "264f7a22",
   "metadata": {
    "scrolled": true,
    "slideshow": {
     "slide_type": "fragment"
    }
   },
   "outputs": [
    {
     "name": "stdout",
     "output_type": "stream",
     "text": [
      "Start: \n",
      "End: \n",
      "3: \n",
      "5: Use: x in line 5\n",
      "6: Use: x in line 6\n",
      "7: Use: tmp in line 7\n",
      "8: Use: x in line 8\n",
      "9: Use: x in line 9\n",
      "12: Use: y in line 12\n"
     ]
    }
   ],
   "source": [
    "for node in cfg.nodes():\n",
    "    use_str = \", \".join([str(use) for use in node.uses()])\n",
    "    print(f\"{node}: {use_str}\")"
   ]
  },
  {
   "cell_type": "markdown",
   "id": "d6a24604",
   "metadata": {
    "slideshow": {
     "slide_type": "skip"
    }
   },
   "source": [
    "Now we do the same for definitions; we define a helper class, and then implement a function that extracts all definitions for a given CFG node."
   ]
  },
  {
   "cell_type": "code",
   "execution_count": 19,
   "id": "737e80b8",
   "metadata": {
    "slideshow": {
     "slide_type": "slide"
    }
   },
   "outputs": [],
   "source": [
    "@dataclass(frozen=True, eq=True)\n",
    "class Definition:\n",
    "    name: str\n",
    "    node: CFGNode\n",
    "        \n",
    "    def __str__(self):\n",
    "        return f\"Def: {self.name} in line {self.node.ast_node.position.line - 1}\""
   ]
  },
  {
   "cell_type": "code",
   "execution_count": 20,
   "id": "d33d79e0",
   "metadata": {
    "slideshow": {
     "slide_type": "fragment"
    }
   },
   "outputs": [],
   "source": [
    "class CFGNode(CFGNode):\n",
    "    def definitions(self):\n",
    "        definitions = set()\n",
    "        if not self.ast_node or isinstance(self.ast_node, str):\n",
    "            return definitions\n",
    "        \n",
    "        # Do not check children that contain other statements\n",
    "        root = self.ast_node\n",
    "        if isinstance(self.ast_node, javalang.tree.ForStatement):\n",
    "            root = self.ast_node.control\n",
    "        elif hasattr(self.ast_node, \"condition\"):\n",
    "            root = self.ast_node.condition\n",
    "                    \n",
    "        for _, node in root.filter(javalang.tree.LocalVariableDeclaration):\n",
    "            decl = node.declarators[0]\n",
    "            definitions.add(Definition(decl.name, self))\n",
    "        for _, node in root.filter(javalang.tree.Assignment):\n",
    "            memberref = node.expressionl\n",
    "            definitions.add(Definition(memberref.member, self))\n",
    "        for _, node in root.filter(javalang.tree.MemberReference):\n",
    "            if node.prefix_operators or node.postfix_operators:\n",
    "                definitions.add(Definition(node.member, self))\n",
    "        return definitions"
   ]
  },
  {
   "cell_type": "code",
   "execution_count": 21,
   "id": "e476942b",
   "metadata": {
    "slideshow": {
     "slide_type": "slide"
    }
   },
   "outputs": [],
   "source": [
    "class StartNode(CFGNode):\n",
    "    def __init__(self, method_node):\n",
    "        self.ast_node = method_node\n",
    "        \n",
    "    def definitions(self):\n",
    "        definitions = set()\n",
    "        \n",
    "        for _, node in self.ast_node.filter(javalang.tree.FormalParameter):\n",
    "            definitions.add(Definition(node.name, self))\n",
    "        \n",
    "        return definitions\n",
    "        \n",
    "    def __str__(self):\n",
    "        return \"Start\""
   ]
  },
  {
   "cell_type": "code",
   "execution_count": 22,
   "id": "9eb60a6a",
   "metadata": {
    "slideshow": {
     "slide_type": "slide"
    }
   },
   "outputs": [],
   "source": [
    "class CFGBuilder(CFGBuilder):\n",
    "    def __init__(self, method_declaration):\n",
    "        # create graph\n",
    "        self.graph = nx.DiGraph()\n",
    "        \n",
    "        # create entry/end node\n",
    "        self.start = StartNode(method_declaration)\n",
    "        self.end   = CFGNode(\"End\")\n",
    "        self.graph.add_node(self.start)\n",
    "        self.graph.add_node(self.end)\n",
    "        \n",
    "        # set entry as current target\n",
    "        self.frontier = [ self.start ]\n",
    "        \n",
    "        for node in method_declaration.body:\n",
    "            self.add_node(node)\n",
    "            \n",
    "        # Add edges from last nodes to end node\n",
    "        for parent in self.frontier:\n",
    "            self.graph.add_edge(parent, self.end)"
   ]
  },
  {
   "cell_type": "code",
   "execution_count": 23,
   "id": "fb8f32ef",
   "metadata": {
    "slideshow": {
     "slide_type": "slide"
    }
   },
   "outputs": [],
   "source": [
    "cfg = CFGBuilder(tree).create_graph()"
   ]
  },
  {
   "cell_type": "code",
   "execution_count": 24,
   "id": "60332695",
   "metadata": {
    "slideshow": {
     "slide_type": "fragment"
    }
   },
   "outputs": [
    {
     "name": "stdout",
     "output_type": "stream",
     "text": [
      "Start: Def: x in line 2\n",
      "End: \n",
      "3: Def: y in line 3\n",
      "5: \n",
      "6: Def: tmp in line 6\n",
      "7: \n",
      "8: Def: y in line 8\n",
      "9: Def: x in line 9\n",
      "12: \n"
     ]
    }
   ],
   "source": [
    "for node in cfg.nodes():\n",
    "    def_str = \", \".join([str(definition) for definition in node.definitions()])\n",
    "    print(f\"{node}: {def_str}\")"
   ]
  },
  {
   "cell_type": "markdown",
   "id": "bcf25f94",
   "metadata": {
    "slideshow": {
     "slide_type": "slide"
    }
   },
   "source": [
    "## Dataflow Analysis"
   ]
  },
  {
   "cell_type": "markdown",
   "id": "7cdb3673",
   "metadata": {
    "slideshow": {
     "slide_type": "skip"
    }
   },
   "source": [
    "Given the information of which CFG node defines and uses which variables, the question now is how information flows across the program. Which definitions are matched with which of the uses? To determine this, we define a generic dataflow analysis framework."
   ]
  },
  {
   "cell_type": "markdown",
   "id": "ed0d7a2f",
   "metadata": {
    "slideshow": {
     "slide_type": "skip"
    }
   },
   "source": [
    "In our dataflow analysis framework we distinguish between options for the analysis at hand:\n",
    "\n",
    "- Are we interesed in where information flows to (forward analysis) or where it originates from (backward analysis)?\n",
    "- Are we interested in things that _may_ happen or things that will always (_must_) happen?\n",
    "- What is the information we are considering?\n",
    "- How do individual nodes use/change this information?"
   ]
  },
  {
   "cell_type": "markdown",
   "id": "4489ef16",
   "metadata": {
    "slideshow": {
     "slide_type": "slide"
    }
   },
   "source": [
    "### Join function"
   ]
  },
  {
   "cell_type": "markdown",
   "id": "23adcc82",
   "metadata": {
    "slideshow": {
     "slide_type": "skip"
    }
   },
   "source": [
    "The join function helps us to distinguish between cases where we are interested in things that may happen, vs. things that will always happen."
   ]
  },
  {
   "cell_type": "markdown",
   "id": "716b34d6",
   "metadata": {
    "slideshow": {
     "slide_type": "skip"
    }
   },
   "source": [
    "May function: If fact exists in any of the incoming edges; implemented as set union."
   ]
  },
  {
   "cell_type": "code",
   "execution_count": 25,
   "id": "5bdc5863",
   "metadata": {
    "slideshow": {
     "slide_type": "fragment"
    }
   },
   "outputs": [],
   "source": [
    "def may(ts):\n",
    "    result = set()\n",
    "    for facts in ts:\n",
    "        result = result.union(facts)\n",
    "    return result"
   ]
  },
  {
   "cell_type": "markdown",
   "id": "4b56a349",
   "metadata": {
    "slideshow": {
     "slide_type": "skip"
    }
   },
   "source": [
    "Must function: If fact exists in _all_ incoming edges; implemented as set intersection."
   ]
  },
  {
   "cell_type": "code",
   "execution_count": 26,
   "id": "594e32bc",
   "metadata": {
    "slideshow": {
     "slide_type": "fragment"
    }
   },
   "outputs": [],
   "source": [
    "def must(ts):\n",
    "    if not ts:\n",
    "        return set()\n",
    "    result = list(ts)[0]\n",
    "    for facts in ts:\n",
    "        result = result.intersection(facts)\n",
    "    return result"
   ]
  },
  {
   "cell_type": "markdown",
   "id": "a228191c",
   "metadata": {
    "slideshow": {
     "slide_type": "skip"
    }
   },
   "source": [
    "Using an artificial example, assume we are trying to merge the following two sets of facts."
   ]
  },
  {
   "cell_type": "code",
   "execution_count": 27,
   "id": "c392d596",
   "metadata": {
    "slideshow": {
     "slide_type": "slide"
    }
   },
   "outputs": [],
   "source": [
    "facts1 = {\"x\", \"y\"}\n",
    "facts2 = {\"y\", \"z\"}"
   ]
  },
  {
   "cell_type": "code",
   "execution_count": 28,
   "id": "f09551ec",
   "metadata": {
    "slideshow": {
     "slide_type": "fragment"
    }
   },
   "outputs": [
    {
     "data": {
      "text/plain": [
       "[{'x', 'y'}, {'y', 'z'}]"
      ]
     },
     "execution_count": 28,
     "metadata": {},
     "output_type": "execute_result"
    }
   ],
   "source": [
    "[facts1, facts2]"
   ]
  },
  {
   "cell_type": "code",
   "execution_count": 29,
   "id": "b5678188",
   "metadata": {
    "slideshow": {
     "slide_type": "fragment"
    }
   },
   "outputs": [
    {
     "data": {
      "text/plain": [
       "{'x', 'y', 'z'}"
      ]
     },
     "execution_count": 29,
     "metadata": {},
     "output_type": "execute_result"
    }
   ],
   "source": [
    "may([facts1, facts2])"
   ]
  },
  {
   "cell_type": "code",
   "execution_count": 30,
   "id": "51c7c62d",
   "metadata": {
    "slideshow": {
     "slide_type": "fragment"
    }
   },
   "outputs": [
    {
     "data": {
      "text/plain": [
       "{'y'}"
      ]
     },
     "execution_count": 30,
     "metadata": {},
     "output_type": "execute_result"
    }
   ],
   "source": [
    "must([facts1, facts2])"
   ]
  },
  {
   "cell_type": "markdown",
   "id": "d731dee2",
   "metadata": {
    "slideshow": {
     "slide_type": "slide"
    }
   },
   "source": [
    "### Flow direction"
   ]
  },
  {
   "cell_type": "markdown",
   "id": "527b4406",
   "metadata": {
    "slideshow": {
     "slide_type": "skip"
    }
   },
   "source": [
    "The flow direction is used to control whether we are analysing where information propagates to, or where it originates from. The flow direction influences three aspects:\n",
    "1. For a given node, what are the nodes from which information propagates from (in-nodes).\n",
    "2. For a given node, what are the nodes that the dataflow information flows to (out-nodes).\n",
    "3. What are the initial nodes to consider?"
   ]
  },
  {
   "cell_type": "markdown",
   "id": "e511fee3",
   "metadata": {
    "slideshow": {
     "slide_type": "skip"
    }
   },
   "source": [
    "The last point is mainly an optimisation: If we consider backward flow, it is more efficient to iterate over the nodes in postorder (i.e., starting with nodes that are deep in the graph). If we consider forward flow, it is more efficient to iterate over the nodes in reverse postorder (i.e., starting with the first node). We extend our graph class to return nodes sorted in these two orders."
   ]
  },
  {
   "cell_type": "code",
   "execution_count": 31,
   "id": "07403f7c",
   "metadata": {
    "slideshow": {
     "slide_type": "slide"
    }
   },
   "outputs": [],
   "source": [
    "class ProgramGraph(ProgramGraph):\n",
    "    def postorder(self):\n",
    "        return list(nx.dfs_postorder_nodes(self.graph, self.start))\n",
    "    \n",
    "    def reverse_postorder(self):\n",
    "        return self.postorder()[::-1]"
   ]
  },
  {
   "cell_type": "code",
   "execution_count": 32,
   "id": "2c5342b0",
   "metadata": {
    "slideshow": {
     "slide_type": "fragment"
    }
   },
   "outputs": [],
   "source": [
    "cfg = CFGBuilder(tree).create_graph()"
   ]
  },
  {
   "cell_type": "code",
   "execution_count": 33,
   "id": "ccd24f5b",
   "metadata": {
    "slideshow": {
     "slide_type": "fragment"
    }
   },
   "outputs": [
    {
     "data": {
      "image/png": "[encoded data removed]",
      "text/plain": [
       "<Figure size 432x288 with 1 Axes>"
      ]
     },
     "metadata": {},
     "output_type": "display_data"
    }
   ],
   "source": [
    "cfg.plot()"
   ]
  },
  {
   "cell_type": "code",
   "execution_count": 34,
   "id": "9eb230bd",
   "metadata": {
    "slideshow": {
     "slide_type": "fragment"
    }
   },
   "outputs": [
    {
     "data": {
      "text/plain": [
       "['9', '8', '7', '6', 'End', '12', '5', '3', 'Start']"
      ]
     },
     "execution_count": 34,
     "metadata": {},
     "output_type": "execute_result"
    }
   ],
   "source": [
    "[str(node) for node in cfg.postorder()]"
   ]
  },
  {
   "cell_type": "code",
   "execution_count": 35,
   "id": "01a1de78",
   "metadata": {
    "slideshow": {
     "slide_type": "fragment"
    }
   },
   "outputs": [
    {
     "data": {
      "text/plain": [
       "['Start', '3', '5', '12', 'End', '6', '7', '8', '9']"
      ]
     },
     "execution_count": 35,
     "metadata": {},
     "output_type": "execute_result"
    }
   ],
   "source": [
    "[str(node) for node in cfg.reverse_postorder()]"
   ]
  },
  {
   "cell_type": "markdown",
   "id": "4e10082b",
   "metadata": {
    "slideshow": {
     "slide_type": "skip"
    }
   },
   "source": [
    "Since each flow direction provides three different functions (in-nodes, out-nodes, and initial nodes) we define a simple class. Each of the three functionalities is implemented as a simple call to the underlying graph datastructure."
   ]
  },
  {
   "cell_type": "code",
   "execution_count": 36,
   "id": "85ec8752",
   "metadata": {
    "slideshow": {
     "slide_type": "slide"
    }
   },
   "outputs": [],
   "source": [
    "class ForwardFlowDirection:\n",
    "    def in_nodes(self, cfg, node):\n",
    "        return cfg.predecessors(node)\n",
    "    \n",
    "    def out_nodes(self, cfg, node):\n",
    "        return cfg.successors(node)\n",
    "    \n",
    "    def initial_nodes(self, cfg):\n",
    "        return cfg.reverse_postorder()"
   ]
  },
  {
   "cell_type": "markdown",
   "id": "3eaa4b0f",
   "metadata": {
    "slideshow": {
     "slide_type": "skip"
    }
   },
   "source": [
    "To allow us to query individual nodes of our CFG for examples, here is a helper function that returns the CFGNode for a given line number."
   ]
  },
  {
   "cell_type": "code",
   "execution_count": 37,
   "id": "90fe030b",
   "metadata": {
    "slideshow": {
     "slide_type": "fragment"
    }
   },
   "outputs": [],
   "source": [
    "class ProgramGraph(ProgramGraph):\n",
    "    def node_for_line(self, line_no):\n",
    "        for node in self.nodes():\n",
    "            if str(node) == str(line_no):\n",
    "                return node\n",
    "        return None"
   ]
  },
  {
   "cell_type": "code",
   "execution_count": 38,
   "id": "f7d5d7cb",
   "metadata": {
    "slideshow": {
     "slide_type": "fragment"
    }
   },
   "outputs": [],
   "source": [
    "cfg = CFGBuilder(tree).create_graph()"
   ]
  },
  {
   "cell_type": "code",
   "execution_count": 39,
   "id": "4b65bc6a",
   "metadata": {
    "slideshow": {
     "slide_type": "fragment"
    }
   },
   "outputs": [],
   "source": [
    "node7 = cfg.node_for_line(7)"
   ]
  },
  {
   "cell_type": "markdown",
   "id": "de06be12",
   "metadata": {
    "slideshow": {
     "slide_type": "skip"
    }
   },
   "source": [
    "Line 7 has only one successor statement, line 6."
   ]
  },
  {
   "cell_type": "code",
   "execution_count": 40,
   "id": "ed519664",
   "metadata": {
    "scrolled": true,
    "slideshow": {
     "slide_type": "fragment"
    }
   },
   "outputs": [
    {
     "data": {
      "text/plain": [
       "['6']"
      ]
     },
     "execution_count": 40,
     "metadata": {},
     "output_type": "execute_result"
    }
   ],
   "source": [
    "[str(x) for x in ForwardFlowDirection().in_nodes(cfg, node7)]"
   ]
  },
  {
   "cell_type": "markdown",
   "id": "ea457154",
   "metadata": {
    "slideshow": {
     "slide_type": "skip"
    }
   },
   "source": [
    "Since line 7 contains an if-statement, there are two outgoing edges."
   ]
  },
  {
   "cell_type": "code",
   "execution_count": 41,
   "id": "88977f0f",
   "metadata": {
    "slideshow": {
     "slide_type": "fragment"
    }
   },
   "outputs": [
    {
     "data": {
      "text/plain": [
       "['8', '9']"
      ]
     },
     "execution_count": 41,
     "metadata": {},
     "output_type": "execute_result"
    }
   ],
   "source": [
    "[str(x) for x in ForwardFlowDirection().out_nodes(cfg, node7)]"
   ]
  },
  {
   "cell_type": "markdown",
   "id": "cca8dabb",
   "metadata": {
    "slideshow": {
     "slide_type": "skip"
    }
   },
   "source": [
    "The initial nodes are defined in postorder, and will thus start with the `Start` node."
   ]
  },
  {
   "cell_type": "code",
   "execution_count": 42,
   "id": "685c699d",
   "metadata": {
    "slideshow": {
     "slide_type": "fragment"
    }
   },
   "outputs": [
    {
     "data": {
      "text/plain": [
       "['Start', '3', '5', '12', 'End', '6', '7', '8', '9']"
      ]
     },
     "execution_count": 42,
     "metadata": {},
     "output_type": "execute_result"
    }
   ],
   "source": [
    "[str(x) for x in ForwardFlowDirection().initial_nodes(cfg)]"
   ]
  },
  {
   "cell_type": "markdown",
   "id": "1408c308",
   "metadata": {
    "slideshow": {
     "slide_type": "skip"
    }
   },
   "source": [
    "Backward flow is implemented similarly, and just needs to change which functions of our graph class are called."
   ]
  },
  {
   "cell_type": "code",
   "execution_count": 43,
   "id": "73c24bbe",
   "metadata": {
    "slideshow": {
     "slide_type": "slide"
    }
   },
   "outputs": [],
   "source": [
    "class BackwardFlowDirection:\n",
    "    def in_nodes(self, cfg, node):\n",
    "        return cfg.successors(node)\n",
    "    \n",
    "    def out_nodes(self, cfg, node):\n",
    "        return cfg.predecessors(node)\n",
    "    \n",
    "    def initial_nodes(self, cfg):\n",
    "        return cfg.postorder()"
   ]
  },
  {
   "cell_type": "markdown",
   "id": "2fb442b9",
   "metadata": {
    "slideshow": {
     "slide_type": "skip"
    }
   },
   "source": [
    "When looking at the reverse control flow, line 7 has two input nodes."
   ]
  },
  {
   "cell_type": "code",
   "execution_count": 44,
   "id": "85ba1643",
   "metadata": {
    "slideshow": {
     "slide_type": "fragment"
    }
   },
   "outputs": [
    {
     "data": {
      "text/plain": [
       "['8', '9']"
      ]
     },
     "execution_count": 44,
     "metadata": {},
     "output_type": "execute_result"
    }
   ],
   "source": [
    "[str(x) for x in BackwardFlowDirection().in_nodes(cfg, node7)]"
   ]
  },
  {
   "cell_type": "markdown",
   "id": "1e4af74b",
   "metadata": {
    "slideshow": {
     "slide_type": "skip"
    }
   },
   "source": [
    "...and only one outgoing edge."
   ]
  },
  {
   "cell_type": "code",
   "execution_count": 45,
   "id": "a960188b",
   "metadata": {
    "slideshow": {
     "slide_type": "fragment"
    }
   },
   "outputs": [
    {
     "data": {
      "text/plain": [
       "['6']"
      ]
     },
     "execution_count": 45,
     "metadata": {},
     "output_type": "execute_result"
    }
   ],
   "source": [
    "[str(x) for x in BackwardFlowDirection().out_nodes(cfg, node7)]"
   ]
  },
  {
   "cell_type": "markdown",
   "id": "b9966e13",
   "metadata": {
    "slideshow": {
     "slide_type": "skip"
    }
   },
   "source": [
    "The order of nodes is reversed, such that the `Start` node will be last to consider."
   ]
  },
  {
   "cell_type": "code",
   "execution_count": 46,
   "id": "8b983855",
   "metadata": {
    "slideshow": {
     "slide_type": "fragment"
    }
   },
   "outputs": [
    {
     "data": {
      "text/plain": [
       "['9', '8', '7', '6', 'End', '12', '5', '3', 'Start']"
      ]
     },
     "execution_count": 46,
     "metadata": {},
     "output_type": "execute_result"
    }
   ],
   "source": [
    "[str(x) for x in BackwardFlowDirection().initial_nodes(cfg)]"
   ]
  },
  {
   "cell_type": "markdown",
   "id": "d3de48be",
   "metadata": {
    "slideshow": {
     "slide_type": "slide"
    }
   },
   "source": [
    "### Transfer function"
   ]
  },
  {
   "cell_type": "markdown",
   "id": "e3f5b2c3",
   "metadata": {
    "slideshow": {
     "slide_type": "skip"
    }
   },
   "source": [
    "The last puzzle piece before we can assemble our dataflow analysis is a transfer function, which decides which dataflow facts are _generated_ and _killed_ in each node. "
   ]
  },
  {
   "cell_type": "markdown",
   "id": "fdbc8ac1",
   "metadata": {
    "slideshow": {
     "slide_type": "skip"
    }
   },
   "source": [
    "Since our main interest lies in finding out which definitions are matched with which uses, we start with the _reading definitions_ transfer function."
   ]
  },
  {
   "cell_type": "code",
   "execution_count": 47,
   "id": "d11c6c92",
   "metadata": {
    "slideshow": {
     "slide_type": "fragment"
    }
   },
   "outputs": [],
   "source": [
    "def reaching_definitions(node, in_facts):\n",
    "    # (inFacts \\ {kill}) ∪ {gen}\n",
    "    result = set(in_facts)\n",
    "    \n",
    "    # Remove all definitions of variables that are defined here\n",
    "    defined_vars = [definition.name for definition in node.definitions()]    \n",
    "    result = { definition for definition in result if not definition.name in defined_vars }\n",
    "    \n",
    "    # Add new definitions of variables\n",
    "    result = result.union(node.definitions())\n",
    "    \n",
    "    return result"
   ]
  },
  {
   "cell_type": "code",
   "execution_count": 48,
   "id": "43e3f6b8",
   "metadata": {
    "slideshow": {
     "slide_type": "slide"
    }
   },
   "outputs": [],
   "source": [
    "node3 = cfg.node_for_line(3)\n",
    "node6 = cfg.node_for_line(6)\n",
    "node8 = cfg.node_for_line(8)"
   ]
  },
  {
   "cell_type": "markdown",
   "id": "e49ee849",
   "metadata": {
    "slideshow": {
     "slide_type": "skip"
    }
   },
   "source": [
    "Line 3 defines the local variable `y`."
   ]
  },
  {
   "cell_type": "code",
   "execution_count": 49,
   "id": "899c6a88",
   "metadata": {
    "scrolled": true,
    "slideshow": {
     "slide_type": "fragment"
    }
   },
   "outputs": [
    {
     "data": {
      "text/plain": [
       "['Def: y in line 3']"
      ]
     },
     "execution_count": 49,
     "metadata": {},
     "output_type": "execute_result"
    }
   ],
   "source": [
    "start_facts = node3.definitions()\n",
    "[str(x) for x in start_facts]"
   ]
  },
  {
   "cell_type": "markdown",
   "id": "b5809c46",
   "metadata": {
    "slideshow": {
     "slide_type": "skip"
    }
   },
   "source": [
    "Suppose the information about this definition flows to line 6. Since line 6 does not overwrite `y` but defines `tmp`, the output of `reaching_definitions` will be two data flow facts."
   ]
  },
  {
   "cell_type": "code",
   "execution_count": 50,
   "id": "0966fb4e",
   "metadata": {
    "slideshow": {
     "slide_type": "fragment"
    }
   },
   "outputs": [
    {
     "data": {
      "text/plain": [
       "['Def: y in line 3', 'Def: tmp in line 6']"
      ]
     },
     "execution_count": 50,
     "metadata": {},
     "output_type": "execute_result"
    }
   ],
   "source": [
    "[str(x) for x in reaching_definitions(node6, start_facts)]"
   ]
  },
  {
   "cell_type": "markdown",
   "id": "ccaab2db",
   "metadata": {
    "slideshow": {
     "slide_type": "skip"
    }
   },
   "source": [
    "In contrast, line 8 overwrites `y`. Thus, the output of `reaching_definitions` will only consist of the new definition of `y` and not the one from line 3."
   ]
  },
  {
   "cell_type": "code",
   "execution_count": 51,
   "id": "0fafb423",
   "metadata": {
    "slideshow": {
     "slide_type": "fragment"
    }
   },
   "outputs": [
    {
     "data": {
      "text/plain": [
       "['Def: y in line 8']"
      ]
     },
     "execution_count": 51,
     "metadata": {},
     "output_type": "execute_result"
    }
   ],
   "source": [
    "[str(x) for x in reaching_definitions(node8, start_facts)]"
   ]
  },
  {
   "cell_type": "markdown",
   "id": "56520cd6",
   "metadata": {
    "slideshow": {
     "slide_type": "slide"
    }
   },
   "source": [
    "### Analysis framework"
   ]
  },
  {
   "cell_type": "markdown",
   "id": "cad57e29",
   "metadata": {
    "slideshow": {
     "slide_type": "skip"
    }
   },
   "source": [
    "At this point we have all the ingredients to implement a dataflow analysis, and just need to combine them. We define a `DataFlowAnalysis` class for this purpose. This class keeps track of the CFG we are analyzing, the transfer function, flow direction, and join function used. The information produced by the dataflow analysis is stored in a dictionary `facts`, which should maintain the set of dataflow facts that holds at each node."
   ]
  },
  {
   "cell_type": "code",
   "execution_count": 52,
   "id": "c5bb1990",
   "metadata": {
    "slideshow": {
     "slide_type": "fragment"
    }
   },
   "outputs": [],
   "source": [
    "class DataFlowAnalysis:\n",
    "    def __init__(self, cfg, transfer_function, flow_direction, join_function):\n",
    "        self.cfg = cfg\n",
    "        self.transfer_function = transfer_function\n",
    "        self.flow_direction    = flow_direction\n",
    "        self.join_function     = join_function\n",
    "        \n",
    "        self.facts = {}\n",
    "        self.out_facts = {}\n",
    "        \n",
    "        for node in cfg.nodes():\n",
    "            self.facts[node] = set()\n",
    "            self.out_facts[node] = set()"
   ]
  },
  {
   "cell_type": "code",
   "execution_count": 53,
   "id": "1b2af630",
   "metadata": {
    "slideshow": {
     "slide_type": "slide"
    }
   },
   "outputs": [],
   "source": [
    "class DataFlowAnalysis(DataFlowAnalysis):\n",
    "    def initialize_must(self):\n",
    "        all_facts = set()\n",
    "        for node in self.cfg.nodes():\n",
    "            facts |= transfer_function(node, set())\n",
    "            \n",
    "        for node in self.cfg.nodes():\n",
    "            self.facts[node] = set(all_facts)\n",
    "            self.out_facts[node] = set(all_facts)            "
   ]
  },
  {
   "cell_type": "code",
   "execution_count": 54,
   "id": "20266a92",
   "metadata": {
    "slideshow": {
     "slide_type": "slide"
    }
   },
   "outputs": [],
   "source": [
    "class DataFlowAnalysis(DataFlowAnalysis):\n",
    "    def in_facts(self, node):\n",
    "        in_nodes = self.flow_direction.in_nodes(self.cfg, node)\n",
    "        facts = []\n",
    "        for node in in_nodes:\n",
    "            facts.append(self.out_facts[node])\n",
    "            \n",
    "        return self.join_function(facts)"
   ]
  },
  {
   "cell_type": "code",
   "execution_count": 55,
   "id": "86349aeb",
   "metadata": {
    "slideshow": {
     "slide_type": "fragment"
    }
   },
   "outputs": [],
   "source": [
    "analysis = DataFlowAnalysis(cfg, reaching_definitions, ForwardFlowDirection(), may)"
   ]
  },
  {
   "cell_type": "code",
   "execution_count": 56,
   "id": "4d35d3b9",
   "metadata": {
    "slideshow": {
     "slide_type": "fragment"
    }
   },
   "outputs": [
    {
     "data": {
      "text/plain": [
       "set()"
      ]
     },
     "execution_count": 56,
     "metadata": {},
     "output_type": "execute_result"
    }
   ],
   "source": [
    "analysis.in_facts(node8)"
   ]
  },
  {
   "cell_type": "markdown",
   "id": "86db71d7",
   "metadata": {
    "slideshow": {
     "slide_type": "skip"
    }
   },
   "source": [
    "The actual analysis consists of a fixpoint algorithm. The worklist is initialized depending on the flow direction. Then, for each node in the worklist we calculate the in-facts by applying the join function on all incoming edges. The in-facts are used to calculate the new out-facts. If the out-facts differ from the facts stored for a node, then all nodes the out-facts can flow to need to be updated and thus put on the worklist. Once the worklist is empty, a fixpoint has been reached."
   ]
  },
  {
   "cell_type": "code",
   "execution_count": 57,
   "id": "f2c73b51",
   "metadata": {
    "slideshow": {
     "slide_type": "slide"
    }
   },
   "outputs": [],
   "source": [
    "class DataFlowAnalysis(DataFlowAnalysis):\n",
    "    def apply(self):\n",
    "        if self.transfer_function.__name__ == \"must\":\n",
    "            self.initialize_must()\n",
    "            \n",
    "        worklist = self.flow_direction.initial_nodes(self.cfg)\n",
    "        while worklist:\n",
    "            node = worklist.pop()\n",
    "            \n",
    "            last_out = self.out_facts[node]\n",
    "            in_facts = self.in_facts(node)\n",
    "        \n",
    "            self.facts[node] = in_facts\n",
    "            new_out = self.transfer_function(node, in_facts)\n",
    "            \n",
    "            if last_out.symmetric_difference(new_out):\n",
    "                self.out_facts[node] = new_out\n",
    "                worklist.extend(self.flow_direction.out_nodes(self.cfg, node))"
   ]
  },
  {
   "cell_type": "markdown",
   "id": "afd480aa",
   "metadata": {
    "slideshow": {
     "slide_type": "skip"
    }
   },
   "source": [
    "To determine which definition can reach which of the nodes, we can now construct a simple forward may dataflow analysis, using our `reaching_definitions` transfer function."
   ]
  },
  {
   "cell_type": "code",
   "execution_count": 58,
   "id": "76c11696",
   "metadata": {
    "slideshow": {
     "slide_type": "slide"
    }
   },
   "outputs": [],
   "source": [
    "analysis = DataFlowAnalysis(cfg, reaching_definitions, ForwardFlowDirection(), may)"
   ]
  },
  {
   "cell_type": "code",
   "execution_count": 59,
   "id": "a3950b9d",
   "metadata": {
    "slideshow": {
     "slide_type": "fragment"
    }
   },
   "outputs": [],
   "source": [
    "analysis.apply()"
   ]
  },
  {
   "cell_type": "code",
   "execution_count": 60,
   "id": "2e603a7f",
   "metadata": {
    "scrolled": false,
    "slideshow": {
     "slide_type": "slide"
    }
   },
   "outputs": [
    {
     "name": "stdout",
     "output_type": "stream",
     "text": [
      "Node Start: []\n",
      "Node End: ['Def: x in line 9', 'Def: y in line 8', 'Def: y in line 3', 'Def: tmp in line 6', 'Def: x in line 2']\n",
      "Node 3: ['Def: x in line 2']\n",
      "Node 5: ['Def: x in line 9', 'Def: y in line 8', 'Def: y in line 3', 'Def: tmp in line 6', 'Def: x in line 2']\n",
      "Node 6: ['Def: x in line 9', 'Def: y in line 8', 'Def: y in line 3', 'Def: tmp in line 6', 'Def: x in line 2']\n",
      "Node 7: ['Def: x in line 9', 'Def: y in line 8', 'Def: y in line 3', 'Def: tmp in line 6', 'Def: x in line 2']\n",
      "Node 8: ['Def: x in line 9', 'Def: y in line 8', 'Def: y in line 3', 'Def: tmp in line 6', 'Def: x in line 2']\n",
      "Node 9: ['Def: x in line 9', 'Def: y in line 3', 'Def: x in line 2', 'Def: y in line 8', 'Def: tmp in line 6']\n",
      "Node 12: ['Def: x in line 9', 'Def: y in line 8', 'Def: y in line 3', 'Def: tmp in line 6', 'Def: x in line 2']\n"
     ]
    }
   ],
   "source": [
    "for node, defs in analysis.facts.items():\n",
    "    defstr = [str(x) for x in defs]\n",
    "    print(f\"Node {node}: {defstr}\")"
   ]
  },
  {
   "cell_type": "markdown",
   "id": "4be99087",
   "metadata": {
    "slideshow": {
     "slide_type": "skip"
    }
   },
   "source": [
    "For reference, here is the code we are considering."
   ]
  },
  {
   "cell_type": "code",
   "execution_count": 61,
   "id": "628b0e8a",
   "metadata": {
    "scrolled": true,
    "slideshow": {
     "slide_type": "fragment"
    }
   },
   "outputs": [
    {
     "name": "stdout",
     "output_type": "stream",
     "text": [
      "  1 : \n",
      "  2 :   public int foo(int x) {\n",
      "  3 :     int y = 0;\n",
      "  4 : \n",
      "  5 :     while(x >= 0) {\n",
      "  6 :         int tmp = x;\n",
      "  7 :         if(tmp % 2 == 0)\n",
      "  8 :             y = x;\n",
      "  9 :         x--;\n",
      " 10 :     }\n",
      " 11 : \n",
      " 12 :     return y;\n",
      " 13 :   }\n",
      " 14 : \n"
     ]
    }
   ],
   "source": [
    "for i, line in enumerate(code.split('\\n')):\n",
    "    print(str(i + 1).rjust(3, ' '), ':', line)"
   ]
  },
  {
   "cell_type": "markdown",
   "id": "0f0c8198",
   "metadata": {
    "slideshow": {
     "slide_type": "skip"
    }
   },
   "source": [
    "Let's look at another example."
   ]
  },
  {
   "cell_type": "code",
   "execution_count": 62,
   "id": "4c1297fb",
   "metadata": {
    "slideshow": {
     "slide_type": "slide"
    }
   },
   "outputs": [],
   "source": [
    "code2 = \"\"\"\n",
    "public String badCode(int x) {\n",
    "    String y = null;\n",
    "    if (x > 0) {\n",
    "        y = \"more\";\n",
    "    } else if (x < 0) {\n",
    "        y = \"less\";\n",
    "    }\n",
    "    return y.toUpperCase();\n",
    "}\n",
    "\"\"\""
   ]
  },
  {
   "cell_type": "code",
   "execution_count": 63,
   "id": "891cc980",
   "metadata": {
    "slideshow": {
     "slide_type": "fragment"
    }
   },
   "outputs": [
    {
     "data": {
      "image/png": "[encoded data removed]",
      "text/plain": [
       "<Figure size 432x288 with 1 Axes>"
      ]
     },
     "metadata": {},
     "output_type": "display_data"
    }
   ],
   "source": [
    "tree2 = parse_method(code2)\n",
    "cfg2 = CFGBuilder(tree2).create_graph()\n",
    "cfg2.plot()"
   ]
  },
  {
   "cell_type": "code",
   "execution_count": 64,
   "id": "304b4a39",
   "metadata": {
    "slideshow": {
     "slide_type": "slide"
    }
   },
   "outputs": [],
   "source": [
    "analysis2 = DataFlowAnalysis(cfg2, reaching_definitions, ForwardFlowDirection(), may)"
   ]
  },
  {
   "cell_type": "code",
   "execution_count": 65,
   "id": "b81b28e0",
   "metadata": {
    "slideshow": {
     "slide_type": "fragment"
    }
   },
   "outputs": [],
   "source": [
    "analysis2.apply()"
   ]
  },
  {
   "cell_type": "code",
   "execution_count": 66,
   "id": "3f6b1141",
   "metadata": {
    "slideshow": {
     "slide_type": "fragment"
    }
   },
   "outputs": [
    {
     "name": "stdout",
     "output_type": "stream",
     "text": [
      "Node Start: []\n",
      "Node End: ['Def: x in line 2', 'Def: y in line 7', 'Def: y in line 5', 'Def: y in line 3']\n",
      "Node 3: ['Def: x in line 2']\n",
      "Node 4: ['Def: x in line 2', 'Def: y in line 3']\n",
      "Node 5: ['Def: x in line 2', 'Def: y in line 3']\n",
      "Node 6: ['Def: x in line 2', 'Def: y in line 3']\n",
      "Node 7: ['Def: x in line 2', 'Def: y in line 3']\n",
      "Node 9: ['Def: x in line 2', 'Def: y in line 5', 'Def: y in line 3', 'Def: y in line 7']\n"
     ]
    }
   ],
   "source": [
    "for node, defs in analysis2.facts.items():\n",
    "    defstr = [str(x) for x in defs]\n",
    "    print(f\"Node {node}: {defstr}\")"
   ]
  },
  {
   "cell_type": "markdown",
   "id": "891b0bc5",
   "metadata": {
    "slideshow": {
     "slide_type": "slide"
    }
   },
   "source": [
    "### Liveness Analysis"
   ]
  },
  {
   "cell_type": "markdown",
   "id": "fd0ffba3",
   "metadata": {
    "slideshow": {
     "slide_type": "skip"
    }
   },
   "source": [
    "Liveness is an example of a backwards may analysis: Liveness checks for each variable $v$ at program point $p$ if \n",
    "$v$ will be used on some execution path originating from $p$ before $v$ is overwritten. This is useful for optimisation (if variable is dead at assignment, we can eliminate the assignment) as well as for detecting errors (no variable should be live at program entry point)."
   ]
  },
  {
   "cell_type": "code",
   "execution_count": 67,
   "id": "54e927fe",
   "metadata": {
    "slideshow": {
     "slide_type": "fragment"
    }
   },
   "outputs": [],
   "source": [
    "def liveness(node, in_facts):\n",
    "\n",
    "    # gen ∪ (inFacts \\ kill) \n",
    "    result = set(in_facts)\n",
    "    \n",
    "    # Remove all expressions of variables that are defined here\n",
    "    defined_vars = [definition.name for definition in node.definitions()]\n",
    "    result = { use for use in result if not use.name in defined_vars }\n",
    "\n",
    "    # Add new uses\n",
    "    result = result.union(set(node.uses()))\n",
    "    \n",
    "    return result"
   ]
  },
  {
   "cell_type": "code",
   "execution_count": 68,
   "id": "f778305c",
   "metadata": {
    "slideshow": {
     "slide_type": "slide"
    }
   },
   "outputs": [],
   "source": [
    "analysis = DataFlowAnalysis(cfg, liveness, BackwardFlowDirection(), may)"
   ]
  },
  {
   "cell_type": "code",
   "execution_count": 69,
   "id": "518c727a",
   "metadata": {
    "slideshow": {
     "slide_type": "fragment"
    }
   },
   "outputs": [],
   "source": [
    "analysis.apply()"
   ]
  },
  {
   "cell_type": "code",
   "execution_count": 70,
   "id": "538f6c03",
   "metadata": {
    "slideshow": {
     "slide_type": "slide"
    }
   },
   "outputs": [
    {
     "name": "stdout",
     "output_type": "stream",
     "text": [
      "Node Start: ['Use: x in line 8', 'Use: x in line 9', 'Use: x in line 6', 'Use: x in line 5']\n",
      "Node End: []\n",
      "Node 3: ['Use: x in line 5', 'Use: x in line 9', 'Use: x in line 6', 'Use: x in line 8', 'Use: y in line 12']\n",
      "Node 5: ['Use: x in line 9', 'Use: x in line 6', 'Use: x in line 8', 'Use: y in line 12']\n",
      "Node 6: ['Use: x in line 8', 'Use: x in line 9', 'Use: tmp in line 7', 'Use: y in line 12']\n",
      "Node 7: ['Use: x in line 8', 'Use: x in line 9', 'Use: y in line 12']\n",
      "Node 8: ['Use: y in line 12', 'Use: x in line 9']\n",
      "Node 9: ['Use: x in line 5', 'Use: x in line 9', 'Use: x in line 6', 'Use: x in line 8', 'Use: y in line 12']\n",
      "Node 12: []\n"
     ]
    }
   ],
   "source": [
    "for node, defs in analysis.facts.items():\n",
    "    defstr = [str(x) for x in defs]\n",
    "    print(f\"Node {node}: {defstr}\")"
   ]
  },
  {
   "cell_type": "code",
   "execution_count": 71,
   "id": "c8bfd069",
   "metadata": {
    "scrolled": false,
    "slideshow": {
     "slide_type": "fragment"
    }
   },
   "outputs": [
    {
     "name": "stdout",
     "output_type": "stream",
     "text": [
      "  1 : \n",
      "  2 :   public int foo(int x) {\n",
      "  3 :     int y = 0;\n",
      "  4 : \n",
      "  5 :     while(x >= 0) {\n",
      "  6 :         int tmp = x;\n",
      "  7 :         if(tmp % 2 == 0)\n",
      "  8 :             y = x;\n",
      "  9 :         x--;\n",
      " 10 :     }\n",
      " 11 : \n",
      " 12 :     return y;\n",
      " 13 :   }\n",
      " 14 : \n"
     ]
    }
   ],
   "source": [
    "for i, line in enumerate(code.split('\\n')):\n",
    "    print(str(i + 1).rjust(3, ' '), ':', line)"
   ]
  },
  {
   "cell_type": "code",
   "execution_count": 72,
   "id": "84d3c1f9",
   "metadata": {
    "slideshow": {
     "slide_type": "slide"
    }
   },
   "outputs": [],
   "source": [
    "analysis2 = DataFlowAnalysis(cfg2, liveness, BackwardFlowDirection(), may)"
   ]
  },
  {
   "cell_type": "code",
   "execution_count": 73,
   "id": "3b95b230",
   "metadata": {
    "slideshow": {
     "slide_type": "fragment"
    }
   },
   "outputs": [],
   "source": [
    "analysis2.apply()"
   ]
  },
  {
   "cell_type": "code",
   "execution_count": 74,
   "id": "f85fd814",
   "metadata": {
    "slideshow": {
     "slide_type": "fragment"
    }
   },
   "outputs": [
    {
     "name": "stdout",
     "output_type": "stream",
     "text": [
      "Node Start: ['Use: x in line 4', 'Use: x in line 6']\n",
      "Node End: []\n",
      "Node 3: ['Use: y in line 9', 'Use: x in line 6', 'Use: x in line 4']\n",
      "Node 4: ['Use: y in line 9', 'Use: x in line 6']\n",
      "Node 5: ['Use: y in line 9']\n",
      "Node 6: ['Use: y in line 9']\n",
      "Node 7: ['Use: y in line 9']\n",
      "Node 9: []\n"
     ]
    }
   ],
   "source": [
    "for node, defs in analysis2.facts.items():\n",
    "    defstr = [str(x) for x in defs]\n",
    "    print(f\"Node {node}: {defstr}\")"
   ]
  },
  {
   "cell_type": "code",
   "execution_count": 75,
   "id": "7fd87663",
   "metadata": {
    "slideshow": {
     "slide_type": "fragment"
    }
   },
   "outputs": [
    {
     "name": "stdout",
     "output_type": "stream",
     "text": [
      "  1 : \n",
      "  2 : public String badCode(int x) {\n",
      "  3 :     String y = null;\n",
      "  4 :     if (x > 0) {\n",
      "  5 :         y = \"more\";\n",
      "  6 :     } else if (x < 0) {\n",
      "  7 :         y = \"less\";\n",
      "  8 :     }\n",
      "  9 :     return y.toUpperCase();\n",
      " 10 : }\n",
      " 11 : \n"
     ]
    }
   ],
   "source": [
    "for i, line in enumerate(code2.split('\\n')):\n",
    "    print(str(i + 1).rjust(3, ' '), ':', line)"
   ]
  },
  {
   "cell_type": "markdown",
   "id": "abc02a98",
   "metadata": {
    "slideshow": {
     "slide_type": "slide"
    }
   },
   "source": [
    "### Available Expressions"
   ]
  },
  {
   "cell_type": "markdown",
   "id": "46a57cef",
   "metadata": {
    "slideshow": {
     "slide_type": "skip"
    }
   },
   "source": [
    "To complete our set of example dataflow analyses, we also consider forward and backward _must_-analysis. We will use the classical examples from compiler construction for this, and the example for a forward-must analysis is the _available expressions_ analysis."
   ]
  },
  {
   "cell_type": "markdown",
   "id": "87a1b7ea",
   "metadata": {
    "slideshow": {
     "slide_type": "skip"
    }
   },
   "source": [
    "An expression $e$ is available at program point $p$ if $e$ is computed on every path to $p$, and the value of $e$ has not changed since the last time $e$ is computed on $p$. This is useful for example in compiler optimisation: If an expression is available, it does not need to be recomputed."
   ]
  },
  {
   "cell_type": "markdown",
   "id": "92fd9f39",
   "metadata": {
    "slideshow": {
     "slide_type": "skip"
    }
   },
   "source": [
    "We will only focus on binary operations as example expressions. So far, the dataflow facts of our analyses were definitions and uses, now we need to introduce a new type of dataflow fact -- expressions. We define a helper function that returns all children in an AST that are not statements (i.e., it is an iterator giving us statement trees)."
   ]
  },
  {
   "cell_type": "code",
   "execution_count": 76,
   "id": "9ef9a9ec",
   "metadata": {
    "slideshow": {
     "slide_type": "slide"
    }
   },
   "outputs": [],
   "source": [
    "def get_children(root):\n",
    "    children = None\n",
    "\n",
    "    if isinstance(root, javalang.tree.Node):\n",
    "        yield root\n",
    "        children = root.children\n",
    "    else:\n",
    "        children = root\n",
    "\n",
    "    for child in children:\n",
    "        if isinstance(child, javalang.tree.Statement):\n",
    "            continue\n",
    "    \n",
    "        if isinstance(child, (javalang.tree.Node, list, tuple)):\n",
    "            for node in get_children(child):\n",
    "                yield node"
   ]
  },
  {
   "cell_type": "markdown",
   "id": "a707825c",
   "metadata": {
    "slideshow": {
     "slide_type": "skip"
    }
   },
   "source": [
    "Using this function, we can extract expressions by retrieving all binary operators for each CFG node."
   ]
  },
  {
   "cell_type": "code",
   "execution_count": 77,
   "id": "37273ea5",
   "metadata": {
    "slideshow": {
     "slide_type": "fragment"
    }
   },
   "outputs": [
    {
     "name": "stdout",
     "output_type": "stream",
     "text": [
      "Expression of MemberReference(member=x, postfix_operators=[], prefix_operators=[], qualifier=, selectors=[]) >= Literal(postfix_operators=[], prefix_operators=[], qualifier=None, selectors=[], value=0) at line 6\n",
      "Expression of BinaryOperation(operandl=MemberReference(member=tmp, postfix_operators=[], prefix_operators=[], qualifier=, selectors=[]), operandr=Literal(postfix_operators=[], prefix_operators=[], qualifier=None, selectors=[], value=2), operator=%) == Literal(postfix_operators=[], prefix_operators=[], qualifier=None, selectors=[], value=0) at line 8\n",
      "Expression of MemberReference(member=tmp, postfix_operators=[], prefix_operators=[], qualifier=, selectors=[]) % Literal(postfix_operators=[], prefix_operators=[], qualifier=None, selectors=[], value=2) at line 8\n"
     ]
    }
   ],
   "source": [
    "for cfgnode in cfg.nodes():\n",
    "    if not isinstance(cfgnode.ast_node, str):\n",
    "        for node in get_children(cfgnode.ast_node):\n",
    "            if isinstance(node, javalang.tree.BinaryOperation):\n",
    "                print(f\"Expression of {node.operandl} {node.operator} {node.operandr} at line {cfgnode.ast_node.position.line}\")"
   ]
  },
  {
   "cell_type": "markdown",
   "id": "4962c734",
   "metadata": {
    "slideshow": {
     "slide_type": "skip"
    }
   },
   "source": [
    "The previous analyses used definitions and uses as dataflow facts, so now we require a helper class that captures what an expression is for our dataflow facts. An expression can refer to multiple variables, so determining this set is slightly more code than on definitions and uses."
   ]
  },
  {
   "cell_type": "code",
   "execution_count": 78,
   "id": "7f6cfff2",
   "metadata": {
    "slideshow": {
     "slide_type": "slide"
    }
   },
   "outputs": [],
   "source": [
    "@dataclass(frozen=True, eq=True)\n",
    "class Expression:\n",
    "    expression: javalang.tree.BinaryOperation\n",
    "    node: CFGNode\n",
    "\n",
    "    def variables(self):\n",
    "        variables = set()\n",
    "        if not self.expression or isinstance(self.expression, str):\n",
    "            return variables\n",
    "        \n",
    "        # Do not check children that contain other statements\n",
    "        root = self.expression\n",
    "        if isinstance(self.expression, javalang.tree.ForStatement):\n",
    "            root = self.expression.control\n",
    "        elif hasattr(self.expression, \"condition\"):\n",
    "            root = self.expression.condition\n",
    "        elif isinstance(self.expression, javalang.tree.StatementExpression):\n",
    "            # Assignment: lhs only if it is a +=, -=, etc\n",
    "            if isinstance(self.expression.expression, javalang.tree.Assignment):\n",
    "                if len(self.expression.expression.type) > 1:\n",
    "                    root = self.expression.expression\n",
    "                else:\n",
    "                    root = self.expression.expression.value\n",
    "            \n",
    "        for _, node in root.filter(javalang.tree.MemberReference):\n",
    "            variables.add(node.member)\n",
    "        return variables\n",
    "    \n",
    "    def __str__(self):\n",
    "        return f\"Expression: {self.expression} in line {self.node.ast_node.position.line - 1}\""
   ]
  },
  {
   "cell_type": "markdown",
   "id": "0819d040",
   "metadata": {
    "slideshow": {
     "slide_type": "skip"
    }
   },
   "source": [
    "Similar to how we extracted definitions and uses from nodes using the _nodes_ and _definitions_ methods (which would be the gen-sets in the literature), we also define a function that extracts expressions from nodes. "
   ]
  },
  {
   "cell_type": "code",
   "execution_count": 79,
   "id": "9d2134e7",
   "metadata": {
    "slideshow": {
     "slide_type": "slide"
    }
   },
   "outputs": [],
   "source": [
    "class CFGNode(CFGNode):\n",
    "    def expressions(self):\n",
    "        expressions = set()\n",
    "        if not self.ast_node or isinstance(self.ast_node, str):\n",
    "            return expressions\n",
    "        \n",
    "        for node in get_children(self.ast_node):\n",
    "            if isinstance(node, javalang.tree.BinaryOperation):\n",
    "                expressions.add(Expression(node, self))\n",
    "                \n",
    "        return expressions"
   ]
  },
  {
   "cell_type": "markdown",
   "id": "5d703454",
   "metadata": {
    "slideshow": {
     "slide_type": "skip"
    }
   },
   "source": [
    "Since we defined an extra class for the start node, we also need to override the method there."
   ]
  },
  {
   "cell_type": "code",
   "execution_count": 80,
   "id": "b12ab7a9",
   "metadata": {
    "slideshow": {
     "slide_type": "fragment"
    }
   },
   "outputs": [],
   "source": [
    "class StartNode(StartNode):\n",
    "    def expressions(self):\n",
    "        return set()"
   ]
  },
  {
   "cell_type": "markdown",
   "id": "1272d0c6",
   "metadata": {
    "slideshow": {
     "slide_type": "skip"
    }
   },
   "source": [
    "Given all these changes, we need to recreate the CFG."
   ]
  },
  {
   "cell_type": "code",
   "execution_count": 81,
   "id": "a9dd1e0b",
   "metadata": {
    "slideshow": {
     "slide_type": "slide"
    }
   },
   "outputs": [],
   "source": [
    "cfg = CFGBuilder(tree).create_graph()"
   ]
  },
  {
   "cell_type": "code",
   "execution_count": 82,
   "id": "1f686009",
   "metadata": {
    "slideshow": {
     "slide_type": "fragment"
    }
   },
   "outputs": [],
   "source": [
    "node7 = cfg.node_for_line(7)"
   ]
  },
  {
   "cell_type": "code",
   "execution_count": 83,
   "id": "18419349",
   "metadata": {
    "scrolled": true,
    "slideshow": {
     "slide_type": "fragment"
    }
   },
   "outputs": [
    {
     "data": {
      "text/plain": [
       "{Expression(expression=BinaryOperation(operandl=BinaryOperation(operandl=MemberReference(member=tmp, postfix_operators=[], prefix_operators=[], qualifier=, selectors=[]), operandr=Literal(postfix_operators=[], prefix_operators=[], qualifier=None, selectors=[], value=2), operator=%), operandr=Literal(postfix_operators=[], prefix_operators=[], qualifier=None, selectors=[], value=0), operator===), node=<__main__.CFGNode object at 0x10ceaaee0>),\n",
       " Expression(expression=BinaryOperation(operandl=MemberReference(member=tmp, postfix_operators=[], prefix_operators=[], qualifier=, selectors=[]), operandr=Literal(postfix_operators=[], prefix_operators=[], qualifier=None, selectors=[], value=2), operator=%), node=<__main__.CFGNode object at 0x10ceaaee0>)}"
      ]
     },
     "execution_count": 83,
     "metadata": {},
     "output_type": "execute_result"
    }
   ],
   "source": [
    "node7.expressions()"
   ]
  },
  {
   "cell_type": "markdown",
   "id": "9b488ff3",
   "metadata": {
    "slideshow": {
     "slide_type": "skip"
    }
   },
   "source": [
    "The transfer function is simple: Given the in-set, all expressions for which the variables are defined in a node are killed, and all expressions that are generated are added."
   ]
  },
  {
   "cell_type": "code",
   "execution_count": 84,
   "id": "42a859ef",
   "metadata": {
    "slideshow": {
     "slide_type": "slide"
    }
   },
   "outputs": [],
   "source": [
    "def available_expressions(node, in_facts):\n",
    "    # gen ∪ (inFacts \\ kill) \n",
    "    result = set(in_facts)\n",
    "    \n",
    "    # kill = remove all expressions for which a variable is defined here\n",
    "    # gen  = new_expressions\n",
    "    \n",
    "    # Remove all expressions of variables that are defined here\n",
    "    defined_vars = set([definition.name for definition in node.definitions()])\n",
    "    \n",
    "    result = { expression for expression in result if not defined_vars.symmetric_difference(set(expression.variables())) }\n",
    "    \n",
    "    # Add new expressions\n",
    "    result = result.union(set(node.expressions()))\n",
    "    \n",
    "    return result"
   ]
  },
  {
   "cell_type": "markdown",
   "id": "7bedf84c",
   "metadata": {
    "slideshow": {
     "slide_type": "skip"
    }
   },
   "source": [
    "We can thus create our forward-must dataflow analysis."
   ]
  },
  {
   "cell_type": "code",
   "execution_count": 85,
   "id": "f77e7b86",
   "metadata": {
    "slideshow": {
     "slide_type": "slide"
    }
   },
   "outputs": [],
   "source": [
    "analysis = DataFlowAnalysis(cfg, available_expressions, ForwardFlowDirection(), must)"
   ]
  },
  {
   "cell_type": "code",
   "execution_count": 86,
   "id": "7bf24736",
   "metadata": {
    "slideshow": {
     "slide_type": "fragment"
    }
   },
   "outputs": [],
   "source": [
    "analysis.apply()"
   ]
  },
  {
   "cell_type": "code",
   "execution_count": 87,
   "id": "2406f9aa",
   "metadata": {
    "slideshow": {
     "slide_type": "slide"
    }
   },
   "outputs": [
    {
     "name": "stdout",
     "output_type": "stream",
     "text": [
      "Node Start: []\n",
      "Node End: []\n",
      "Node 3: []\n",
      "Node 5: []\n",
      "Node 6: ['Expression: BinaryOperation(operandl=MemberReference(member=x, postfix_operators=[], prefix_operators=[], qualifier=, selectors=[]), operandr=Literal(postfix_operators=[], prefix_operators=[], qualifier=None, selectors=[], value=0), operator=>=) in line 5']\n",
      "Node 7: []\n",
      "Node 8: ['Expression: BinaryOperation(operandl=MemberReference(member=tmp, postfix_operators=[], prefix_operators=[], qualifier=, selectors=[]), operandr=Literal(postfix_operators=[], prefix_operators=[], qualifier=None, selectors=[], value=2), operator=%) in line 7', 'Expression: BinaryOperation(operandl=BinaryOperation(operandl=MemberReference(member=tmp, postfix_operators=[], prefix_operators=[], qualifier=, selectors=[]), operandr=Literal(postfix_operators=[], prefix_operators=[], qualifier=None, selectors=[], value=2), operator=%), operandr=Literal(postfix_operators=[], prefix_operators=[], qualifier=None, selectors=[], value=0), operator===) in line 7']\n",
      "Node 9: []\n",
      "Node 12: ['Expression: BinaryOperation(operandl=MemberReference(member=x, postfix_operators=[], prefix_operators=[], qualifier=, selectors=[]), operandr=Literal(postfix_operators=[], prefix_operators=[], qualifier=None, selectors=[], value=0), operator=>=) in line 5']\n"
     ]
    }
   ],
   "source": [
    "for node, defs in analysis.facts.items():\n",
    "    defstr = [str(x) for x in defs]\n",
    "    print(f\"Node {node}: {defstr}\")"
   ]
  },
  {
   "cell_type": "code",
   "execution_count": 88,
   "id": "972b81a1",
   "metadata": {
    "slideshow": {
     "slide_type": "fragment"
    }
   },
   "outputs": [
    {
     "name": "stdout",
     "output_type": "stream",
     "text": [
      "  1 : \n",
      "  2 :   public int foo(int x) {\n",
      "  3 :     int y = 0;\n",
      "  4 : \n",
      "  5 :     while(x >= 0) {\n",
      "  6 :         int tmp = x;\n",
      "  7 :         if(tmp % 2 == 0)\n",
      "  8 :             y = x;\n",
      "  9 :         x--;\n",
      " 10 :     }\n",
      " 11 : \n",
      " 12 :     return y;\n",
      " 13 :   }\n",
      " 14 : \n"
     ]
    }
   ],
   "source": [
    "for i, line in enumerate(code.split('\\n')):\n",
    "    print(str(i + 1).rjust(3, ' '), ':', line)"
   ]
  },
  {
   "cell_type": "markdown",
   "id": "7f889e5b",
   "metadata": {
    "slideshow": {
     "slide_type": "slide"
    }
   },
   "source": [
    "### Very Busy Expressions"
   ]
  },
  {
   "cell_type": "markdown",
   "id": "03581824",
   "metadata": {
    "slideshow": {
     "slide_type": "skip"
    }
   },
   "source": [
    "An expression $e$ is very busy at point $p$ if on every path from $p$, expression $e$ is evaluated before the value of $e$ is changed. This is, for example, useful for optimisations, since very busy expression computations can be hoisted. Very busy expressions is a backward-must analysis."
   ]
  },
  {
   "cell_type": "markdown",
   "id": "eb329a28",
   "metadata": {
    "slideshow": {
     "slide_type": "skip"
    }
   },
   "source": [
    "The dataflow facts for this analysis are expressions, so we only need to define the transfer function -- which is identical to live expressions."
   ]
  },
  {
   "cell_type": "code",
   "execution_count": 89,
   "id": "30c8c910",
   "metadata": {
    "slideshow": {
     "slide_type": "fragment"
    }
   },
   "outputs": [],
   "source": [
    "def very_busy_expressions(node, in_facts):\n",
    "    # An expression e is very busy at point p if\n",
    "    # On every path from p, expression e is evaluated before the value of e is changed\n",
    "        \n",
    "    # gen ∪ (inFacts \\ kill) \n",
    "    result = set(in_facts)\n",
    "    \n",
    "    # Remove all expressions of variables that are defined here\n",
    "    defined_vars = set([definition.name for definition in node.definitions()])    \n",
    "    result = { expression for expression in result if not defined_vars.symmetric_difference(set(expression.variables())) }\n",
    "    \n",
    "    # Add new expressions\n",
    "    result = result.union(set(node.expressions()))\n",
    "    \n",
    "    return result"
   ]
  },
  {
   "cell_type": "code",
   "execution_count": 90,
   "id": "193bfe1f",
   "metadata": {
    "slideshow": {
     "slide_type": "slide"
    }
   },
   "outputs": [],
   "source": [
    "analysis = DataFlowAnalysis(cfg, very_busy_expressions, BackwardFlowDirection(), must)"
   ]
  },
  {
   "cell_type": "code",
   "execution_count": 91,
   "id": "7407e9f4",
   "metadata": {
    "slideshow": {
     "slide_type": "fragment"
    }
   },
   "outputs": [],
   "source": [
    "analysis.apply()"
   ]
  },
  {
   "cell_type": "code",
   "execution_count": 92,
   "id": "734f5c3e",
   "metadata": {
    "scrolled": true,
    "slideshow": {
     "slide_type": "slide"
    }
   },
   "outputs": [
    {
     "name": "stdout",
     "output_type": "stream",
     "text": [
      "Node Start: []\n",
      "Node End: []\n",
      "Node 3: ['Expression: BinaryOperation(operandl=MemberReference(member=x, postfix_operators=[], prefix_operators=[], qualifier=, selectors=[]), operandr=Literal(postfix_operators=[], prefix_operators=[], qualifier=None, selectors=[], value=0), operator=>=) in line 5']\n",
      "Node 5: []\n",
      "Node 6: ['Expression: BinaryOperation(operandl=MemberReference(member=tmp, postfix_operators=[], prefix_operators=[], qualifier=, selectors=[]), operandr=Literal(postfix_operators=[], prefix_operators=[], qualifier=None, selectors=[], value=2), operator=%) in line 7', 'Expression: BinaryOperation(operandl=BinaryOperation(operandl=MemberReference(member=tmp, postfix_operators=[], prefix_operators=[], qualifier=, selectors=[]), operandr=Literal(postfix_operators=[], prefix_operators=[], qualifier=None, selectors=[], value=2), operator=%), operandr=Literal(postfix_operators=[], prefix_operators=[], qualifier=None, selectors=[], value=0), operator===) in line 7']\n",
      "Node 7: []\n",
      "Node 8: ['Expression: BinaryOperation(operandl=MemberReference(member=x, postfix_operators=[], prefix_operators=[], qualifier=, selectors=[]), operandr=Literal(postfix_operators=[], prefix_operators=[], qualifier=None, selectors=[], value=0), operator=>=) in line 5']\n",
      "Node 9: ['Expression: BinaryOperation(operandl=MemberReference(member=x, postfix_operators=[], prefix_operators=[], qualifier=, selectors=[]), operandr=Literal(postfix_operators=[], prefix_operators=[], qualifier=None, selectors=[], value=0), operator=>=) in line 5']\n",
      "Node 12: []\n"
     ]
    }
   ],
   "source": [
    "for node, defs in analysis.facts.items():\n",
    "    defstr = [str(x) for x in defs]\n",
    "    print(f\"Node {node}: {defstr}\")"
   ]
  },
  {
   "cell_type": "code",
   "execution_count": 93,
   "id": "bd2159e3",
   "metadata": {
    "slideshow": {
     "slide_type": "fragment"
    }
   },
   "outputs": [
    {
     "name": "stdout",
     "output_type": "stream",
     "text": [
      "  1 : \n",
      "  2 :   public int foo(int x) {\n",
      "  3 :     int y = 0;\n",
      "  4 : \n",
      "  5 :     while(x >= 0) {\n",
      "  6 :         int tmp = x;\n",
      "  7 :         if(tmp % 2 == 0)\n",
      "  8 :             y = x;\n",
      "  9 :         x--;\n",
      " 10 :     }\n",
      " 11 : \n",
      " 12 :     return y;\n",
      " 13 :   }\n",
      " 14 : \n"
     ]
    }
   ],
   "source": [
    "for i, line in enumerate(code.split('\\n')):\n",
    "    print(str(i + 1).rjust(3, ' '), ':', line)"
   ]
  },
  {
   "cell_type": "markdown",
   "id": "7f934eea",
   "metadata": {
    "slideshow": {
     "slide_type": "slide"
    }
   },
   "source": [
    "## Data Dependence Graph"
   ]
  },
  {
   "cell_type": "markdown",
   "id": "f955dc31",
   "metadata": {
    "slideshow": {
     "slide_type": "skip"
    }
   },
   "source": [
    "Now that we know how to determine dataflow information, we can finally look at how to create a data dependence graph (DDG): The DDG consists of the same nodes as the CFG, but contains edges for all definition-use pairs. To generate the DDG, we thus iterate over all nodes; for each use in a node, we iterate over all reaching definitions that match the same variable, and add an edge."
   ]
  },
  {
   "cell_type": "code",
   "execution_count": 94,
   "id": "aeb6a35b",
   "metadata": {
    "slideshow": {
     "slide_type": "fragment"
    }
   },
   "outputs": [],
   "source": [
    "def create_ddg(cfg):\n",
    "    analysis = DataFlowAnalysis(cfg, reaching_definitions, ForwardFlowDirection(), may)\n",
    "    analysis.apply()\n",
    "    \n",
    "    # Create unconnected graph\n",
    "    ddg = nx.DiGraph()\n",
    "    ddg.add_nodes_from(cfg.nodes())\n",
    "    \n",
    "    # Add dataflow edges\n",
    "    for node in cfg.nodes():\n",
    "        for use in node.uses():\n",
    "            for definition in analysis.facts[node]:\n",
    "                if use.name == definition.name:\n",
    "                    # add edge from the definition node to use node\n",
    "                    ddg.add_edge(definition.node, node, label=use.name)\n",
    "            \n",
    "    return ProgramGraph(ddg, cfg.start, cfg.end)"
   ]
  },
  {
   "cell_type": "code",
   "execution_count": 95,
   "id": "93bc9187",
   "metadata": {
    "slideshow": {
     "slide_type": "slide"
    }
   },
   "outputs": [
    {
     "name": "stdout",
     "output_type": "stream",
     "text": [
      "  1 : \n",
      "  2 :   public int foo(int x) {\n",
      "  3 :     int y = 0;\n",
      "  4 : \n",
      "  5 :     while(x >= 0) {\n",
      "  6 :         int tmp = x;\n",
      "  7 :         if(tmp % 2 == 0)\n",
      "  8 :             y = x;\n",
      "  9 :         x--;\n",
      " 10 :     }\n",
      " 11 : \n",
      " 12 :     return y;\n",
      " 13 :   }\n",
      " 14 : \n"
     ]
    }
   ],
   "source": [
    "for i, line in enumerate(code.split('\\n')):\n",
    "    print(str(i + 1).rjust(3, ' '), ':', line)"
   ]
  },
  {
   "cell_type": "code",
   "execution_count": 96,
   "id": "eeee0c20",
   "metadata": {
    "scrolled": true,
    "slideshow": {
     "slide_type": "fragment"
    }
   },
   "outputs": [
    {
     "data": {
      "image/png": "[encoded data removed]",
      "text/plain": [
       "<Figure size 432x288 with 1 Axes>"
      ]
     },
     "metadata": {},
     "output_type": "display_data"
    }
   ],
   "source": [
    "cfg.plot()"
   ]
  },
  {
   "cell_type": "code",
   "execution_count": 97,
   "id": "aa54dabb",
   "metadata": {
    "slideshow": {
     "slide_type": "slide"
    }
   },
   "outputs": [
    {
     "name": "stdout",
     "output_type": "stream",
     "text": [
      "  1 : \n",
      "  2 :   public int foo(int x) {\n",
      "  3 :     int y = 0;\n",
      "  4 : \n",
      "  5 :     while(x >= 0) {\n",
      "  6 :         int tmp = x;\n",
      "  7 :         if(tmp % 2 == 0)\n",
      "  8 :             y = x;\n",
      "  9 :         x--;\n",
      " 10 :     }\n",
      " 11 : \n",
      " 12 :     return y;\n",
      " 13 :   }\n",
      " 14 : \n"
     ]
    }
   ],
   "source": [
    "for i, line in enumerate(code.split('\\n')):\n",
    "    print(str(i + 1).rjust(3, ' '), ':', line)"
   ]
  },
  {
   "cell_type": "code",
   "execution_count": 98,
   "id": "96b66211",
   "metadata": {
    "scrolled": false,
    "slideshow": {
     "slide_type": "fragment"
    }
   },
   "outputs": [
    {
     "data": {
      "image/png": "[encoded data removed]",
      "text/plain": [
       "<Figure size 432x288 with 1 Axes>"
      ]
     },
     "metadata": {},
     "output_type": "display_data"
    }
   ],
   "source": [
    "dfg = create_ddg(cfg)\n",
    "dfg.plot()"
   ]
  },
  {
   "cell_type": "code",
   "execution_count": 99,
   "id": "0202e33d",
   "metadata": {
    "slideshow": {
     "slide_type": "slide"
    }
   },
   "outputs": [
    {
     "name": "stdout",
     "output_type": "stream",
     "text": [
      "  1 : \n",
      "  2 : public String badCode(int x) {\n",
      "  3 :     String y = null;\n",
      "  4 :     if (x > 0) {\n",
      "  5 :         y = \"more\";\n",
      "  6 :     } else if (x < 0) {\n",
      "  7 :         y = \"less\";\n",
      "  8 :     }\n",
      "  9 :     return y.toUpperCase();\n",
      " 10 : }\n",
      " 11 : \n"
     ]
    }
   ],
   "source": [
    "for i, line in enumerate(code2.split('\\n')):\n",
    "    print(str(i + 1).rjust(3, ' '), ':', line)"
   ]
  },
  {
   "cell_type": "code",
   "execution_count": 100,
   "id": "242ddef7",
   "metadata": {
    "scrolled": false,
    "slideshow": {
     "slide_type": "fragment"
    }
   },
   "outputs": [
    {
     "data": {
      "image/png": "[encoded data removed]",
      "text/plain": [
       "<Figure size 432x288 with 1 Axes>"
      ]
     },
     "metadata": {},
     "output_type": "display_data"
    }
   ],
   "source": [
    "cfg2.plot()"
   ]
  },
  {
   "cell_type": "code",
   "execution_count": 101,
   "id": "273cbbce",
   "metadata": {
    "slideshow": {
     "slide_type": "slide"
    }
   },
   "outputs": [
    {
     "name": "stdout",
     "output_type": "stream",
     "text": [
      "  1 : \n",
      "  2 : public String badCode(int x) {\n",
      "  3 :     String y = null;\n",
      "  4 :     if (x > 0) {\n",
      "  5 :         y = \"more\";\n",
      "  6 :     } else if (x < 0) {\n",
      "  7 :         y = \"less\";\n",
      "  8 :     }\n",
      "  9 :     return y.toUpperCase();\n",
      " 10 : }\n",
      " 11 : \n"
     ]
    }
   ],
   "source": [
    "for i, line in enumerate(code2.split('\\n')):\n",
    "    print(str(i + 1).rjust(3, ' '), ':', line)"
   ]
  },
  {
   "cell_type": "code",
   "execution_count": 102,
   "id": "c7b679e8",
   "metadata": {
    "slideshow": {
     "slide_type": "fragment"
    }
   },
   "outputs": [
    {
     "data": {
      "image/png": "[encoded data removed]",
      "text/plain": [
       "<Figure size 432x288 with 1 Axes>"
      ]
     },
     "metadata": {},
     "output_type": "display_data"
    }
   ],
   "source": [
    "dfg2 = create_ddg(cfg2)\n",
    "dfg2.plot()"
   ]
  }
 ],
 "metadata": {
  "celltoolbar": "Slideshow",
  "kernelspec": {
   "display_name": "Python 3 (ipykernel)",
   "language": "python",
   "name": "python3"
  },
  "language_info": {
   "codemirror_mode": {
    "name": "ipython",
    "version": 3
   },
   "file_extension": ".py",
   "mimetype": "text/x-python",
   "name": "python",
   "nbconvert_exporter": "python",
   "pygments_lexer": "ipython3",
   "version": "3.9.0"
  }
 },
 "nbformat": 4,
 "nbformat_minor": 5
}
