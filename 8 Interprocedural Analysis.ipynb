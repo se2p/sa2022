{
 "cells": [
  {
   "cell_type": "markdown",
   "id": "9c55f10a",
   "metadata": {
    "slideshow": {
     "slide_type": "slide"
    }
   },
   "source": [
    "# Interprocedural Analysis"
   ]
  },
  {
   "cell_type": "markdown",
   "id": "b58c88b8",
   "metadata": {
    "slideshow": {
     "slide_type": "slide"
    }
   },
   "source": [
    "## Control flow"
   ]
  },
  {
   "cell_type": "markdown",
   "id": "b65a866b",
   "metadata": {
    "slideshow": {
     "slide_type": "skip"
    }
   },
   "source": [
    "We first start by re-defining the already established aspects of our control flow graph. Since our aim is to combine multiple methods, we update our node labels to include the method name, and not just the line number."
   ]
  },
  {
   "cell_type": "code",
   "execution_count": 1,
   "id": "bd887bb4",
   "metadata": {
    "slideshow": {
     "slide_type": "fragment"
    }
   },
   "outputs": [],
   "source": [
    "import javalang"
   ]
  },
  {
   "cell_type": "code",
   "execution_count": 2,
   "id": "9ef5ce79",
   "metadata": {
    "slideshow": {
     "slide_type": "fragment"
    }
   },
   "outputs": [],
   "source": [
    "class CFGNode:\n",
    "    def __init__(self, graph, method_name, ast_node):\n",
    "        self.graph = graph\n",
    "        self.method_name = method_name\n",
    "        self.ast_node = ast_node\n",
    "        \n",
    "    def __str__(self):\n",
    "        if type(self.ast_node) == str:\n",
    "            return self.method_name + \"_\" + self.ast_node\n",
    "        else:\n",
    "            return self.method_name + \"_\" + str(self.ast_node.position.line - 1)"
   ]
  },
  {
   "cell_type": "code",
   "execution_count": 3,
   "id": "866f7b90",
   "metadata": {
    "slideshow": {
     "slide_type": "fragment"
    }
   },
   "outputs": [],
   "source": [
    "class StartNode:\n",
    "    \n",
    "    def __init__(self, graph, method_name, ast_node):\n",
    "        self.graph = graph\n",
    "        self.method_name = method_name\n",
    "        self.ast_node = ast_node\n",
    "    \n",
    "    def __str__(self):\n",
    "        return self.method_name + \"_Start\""
   ]
  },
  {
   "cell_type": "code",
   "execution_count": 4,
   "id": "cd75eda1",
   "metadata": {
    "slideshow": {
     "slide_type": "slide"
    }
   },
   "outputs": [],
   "source": [
    "class ProgramGraph:\n",
    "    def __init__(self, graph, start, end):\n",
    "        self.graph = graph\n",
    "        self.start = start\n",
    "        self.end   = end\n",
    "        \n",
    "    def nodes(self):\n",
    "        return self.graph.nodes()\n",
    "    \n",
    "    def edges(self):\n",
    "        return self.graph.edges()\n",
    "    \n",
    "    def successors(self, node):\n",
    "        return self.graph.successors(node)\n",
    "    \n",
    "    def predecessors(self, node):\n",
    "        return self.graph.predecessors(node)\n",
    "    \n",
    "    def reverse(self):\n",
    "        reverse_cfg = self.graph.reverse()\n",
    "        return ProgramGraph(reverse_cfg, self.end, self.start)    \n",
    "    \n",
    "    def plot(self):\n",
    "        pos = nx.nx_agraph.graphviz_layout(self.graph, prog=\"dot\")\n",
    "        nx.draw_networkx_nodes(self.graph, pos=pos, node_size=800, node_color='#FFFFFF', edgecolors='#000000')\n",
    "        nx.draw_networkx_edges(self.graph, pos=pos, connectionstyle=\"arc\", arrowsize=20)\n",
    "        nx.draw_networkx_labels(self.graph, pos=pos)\n",
    "        nx.draw_networkx_edge_labels(self.graph, pos=pos, edge_labels=nx.get_edge_attributes(self.graph,'label'))"
   ]
  },
  {
   "cell_type": "code",
   "execution_count": 5,
   "id": "917165c8",
   "metadata": {
    "slideshow": {
     "slide_type": "slide"
    }
   },
   "outputs": [],
   "source": [
    "import networkx as nx"
   ]
  },
  {
   "cell_type": "code",
   "execution_count": 6,
   "id": "ed2282f9",
   "metadata": {
    "slideshow": {
     "slide_type": "fragment"
    }
   },
   "outputs": [],
   "source": [
    "from functools import singledispatchmethod"
   ]
  },
  {
   "cell_type": "code",
   "execution_count": 7,
   "id": "9142a09e",
   "metadata": {
    "slideshow": {
     "slide_type": "fragment"
    }
   },
   "outputs": [],
   "source": [
    "class CFGBuilder:\n",
    "    def __init__(self, method_declaration):\n",
    "        # create graph\n",
    "        self.graph = nx.DiGraph()\n",
    "        self.method_name = method_declaration.name\n",
    "        \n",
    "        # create entry/end node\n",
    "        self.start = StartNode(self.graph, self.method_name, method_declaration)\n",
    "        self.end   = CFGNode(self.graph, self.method_name, \"End\")\n",
    "        self.graph.add_node(self.start)\n",
    "        self.graph.add_node(self.end)\n",
    "        \n",
    "        # set entry as current target\n",
    "        self.frontier = [ self.start ]\n",
    "        \n",
    "        for node in method_declaration.body:\n",
    "            self.add_node(node)\n",
    "            \n",
    "        # Add edges from last nodes to end node\n",
    "        for parent in self.frontier:\n",
    "            self.graph.add_edge(parent, self.end)\n",
    "\n",
    "    def create_graph(self):\n",
    "        return ProgramGraph(self.graph, self.start, self.end)\n",
    "    \n",
    "    @singledispatchmethod\n",
    "    def add_node(self, node):\n",
    "        pass\n",
    "    \n",
    "    @add_node.register        \n",
    "    def add_block_node(self, block_node: javalang.tree.BlockStatement):\n",
    "        for node in block_node.statements:\n",
    "            self.add_node(node)            \n",
    "    \n",
    "    @add_node.register\n",
    "    def add_statement_node(self, node: javalang.tree.StatementExpression):\n",
    "        cfg_node = CFGNode(self.graph, self.method_name, node)\n",
    "        self.graph.add_node(cfg_node)\n",
    "        for parent in self.frontier:\n",
    "            self.graph.add_edge(parent, cfg_node)\n",
    "        self.frontier = [ cfg_node ]\n",
    "        \n",
    "    @add_node.register\n",
    "    def add_declaration_node(self, node: javalang.tree.LocalVariableDeclaration):\n",
    "        self.add_statement_node(node)\n",
    "        \n",
    "    @add_node.register\n",
    "    def add_if_node(self, if_node: javalang.tree.IfStatement):\n",
    "        cfg_node = CFGNode(self.graph, self.method_name, if_node)\n",
    "        self.graph.add_node(cfg_node)\n",
    "\n",
    "        for parent in self.frontier:\n",
    "            self.graph.add_edge(parent, cfg_node)\n",
    "        self.frontier = [cfg_node]\n",
    "        self.add_node(if_node.then_statement)\n",
    "        \n",
    "        if if_node.else_statement:\n",
    "            current_frontier = self.frontier[:]\n",
    "            self.frontier = [cfg_node]\n",
    "            self.add_node(if_node.else_statement)\n",
    "            self.frontier.extend(current_frontier)\n",
    "        else:\n",
    "            self.frontier.append(cfg_node)\n",
    "            \n",
    "    @add_node.register\n",
    "    def add_while_node(self, while_node: javalang.tree.WhileStatement):\n",
    "        cfg_node = CFGNode(self.graph, self.method_name, while_node)\n",
    "        self.graph.add_node(cfg_node)\n",
    "        for parent in self.frontier:\n",
    "            self.graph.add_edge(parent, cfg_node)\n",
    "        self.frontier = [cfg_node]\n",
    "        self.add_node(while_node.body)\n",
    "        for parent in self.frontier:\n",
    "            self.graph.add_edge(parent, cfg_node)\n",
    "        self.frontier = [cfg_node]\n",
    "\n",
    "    @add_node.register\n",
    "    def add_return_node(self, return_node: javalang.tree.ReturnStatement):\n",
    "        cfg_node = CFGNode(self.graph, self.method_name, return_node)\n",
    "        self.graph.add_node(cfg_node)\n",
    "        for parent in self.frontier:\n",
    "            self.graph.add_edge(parent, cfg_node)\n",
    "        self.graph.add_edge(cfg_node, self.end)\n",
    "        self.frontier = [] "
   ]
  },
  {
   "cell_type": "markdown",
   "id": "1799d80b",
   "metadata": {
    "slideshow": {
     "slide_type": "skip"
    }
   },
   "source": [
    "This time we want to keep track of multiple methods, so we keep track of the known methods with a dictionary `methods`."
   ]
  },
  {
   "cell_type": "code",
   "execution_count": 8,
   "id": "7c35fb6d",
   "metadata": {
    "slideshow": {
     "slide_type": "slide"
    }
   },
   "outputs": [],
   "source": [
    "methods = {}"
   ]
  },
  {
   "cell_type": "code",
   "execution_count": 9,
   "id": "7214cdb5",
   "metadata": {
    "slideshow": {
     "slide_type": "fragment"
    }
   },
   "outputs": [],
   "source": [
    "def parse_method(code):\n",
    "    class_code = \"class Dummy {\\n\" + code + \"\\n}\";\n",
    "    tokens = javalang.tokenizer.tokenize(class_code)\n",
    "    parser = javalang.parser.Parser(tokens)\n",
    "    ast = parser.parse()\n",
    "    _, node = list(ast.filter(javalang.tree.MethodDeclaration))[0]\n",
    "    methods[node.name] = node\n",
    "    return node"
   ]
  },
  {
   "cell_type": "code",
   "execution_count": 10,
   "id": "5f566765",
   "metadata": {
    "slideshow": {
     "slide_type": "slide"
    }
   },
   "outputs": [],
   "source": [
    "code1 = \"\"\"\n",
    "  public int foo(int x) {\n",
    "    int y = 0;\n",
    "\n",
    "    while (!bar(y)) {\n",
    "        int tmp = x;\n",
    "        if(tmp % 2 == 0)\n",
    "            y = x;\n",
    "        x--;\n",
    "    }\n",
    "\n",
    "    return y;\n",
    "  }\n",
    "\"\"\""
   ]
  },
  {
   "cell_type": "code",
   "execution_count": 11,
   "id": "f56dce74",
   "metadata": {
    "slideshow": {
     "slide_type": "fragment"
    }
   },
   "outputs": [],
   "source": [
    "code2 = \"\"\"\n",
    "  public boolean bar(int x) {\n",
    "    if (x == 42) {\n",
    "      return true;\n",
    "    } else {\n",
    "      return false;\n",
    "    }\n",
    "  }\n",
    "\"\"\""
   ]
  },
  {
   "cell_type": "code",
   "execution_count": 12,
   "id": "e7ee5051",
   "metadata": {
    "slideshow": {
     "slide_type": "slide"
    }
   },
   "outputs": [],
   "source": [
    "tree1 = parse_method(code1)"
   ]
  },
  {
   "cell_type": "code",
   "execution_count": 13,
   "id": "4784c96c",
   "metadata": {
    "slideshow": {
     "slide_type": "fragment"
    }
   },
   "outputs": [],
   "source": [
    "tree2 = parse_method(code2)"
   ]
  },
  {
   "cell_type": "code",
   "execution_count": 14,
   "id": "d4727289",
   "metadata": {
    "slideshow": {
     "slide_type": "fragment"
    }
   },
   "outputs": [],
   "source": [
    "cfg1 = CFGBuilder(methods[\"foo\"]).create_graph()\n",
    "cfg2 = CFGBuilder(methods[\"bar\"]).create_graph()"
   ]
  },
  {
   "cell_type": "code",
   "execution_count": 15,
   "id": "bfd47d06",
   "metadata": {
    "scrolled": true,
    "slideshow": {
     "slide_type": "slide"
    }
   },
   "outputs": [
    {
     "data": {
      "image/png": "[encoded data removed]",
      "text/plain": [
       "<Figure size 432x288 with 1 Axes>"
      ]
     },
     "metadata": {},
     "output_type": "display_data"
    }
   ],
   "source": [
    "cfg1.plot()"
   ]
  },
  {
   "cell_type": "code",
   "execution_count": 16,
   "id": "12706ebe",
   "metadata": {
    "scrolled": true,
    "slideshow": {
     "slide_type": "fragment"
    }
   },
   "outputs": [
    {
     "data": {
      "image/png": "[encoded data removed]",
      "text/plain": [
       "<Figure size 432x288 with 1 Axes>"
      ]
     },
     "metadata": {},
     "output_type": "display_data"
    }
   ],
   "source": [
    "cfg2.plot()"
   ]
  },
  {
   "cell_type": "markdown",
   "id": "548772b8",
   "metadata": {
    "slideshow": {
     "slide_type": "slide"
    }
   },
   "source": [
    "## Super-CFG"
   ]
  },
  {
   "cell_type": "markdown",
   "id": "c8ff6c58",
   "metadata": {
    "slideshow": {
     "slide_type": "skip"
    }
   },
   "source": [
    "Now that we have multiple methods, we can combine them in a super-control flow graph. For this, we need to determine for a given node whether it calls another function."
   ]
  },
  {
   "cell_type": "code",
   "execution_count": 17,
   "id": "492e4e89",
   "metadata": {
    "slideshow": {
     "slide_type": "fragment"
    }
   },
   "outputs": [],
   "source": [
    "def get_children(root):\n",
    "    children = None\n",
    "\n",
    "    if isinstance(root, javalang.tree.Node):\n",
    "        yield root\n",
    "        children = root.children\n",
    "    else:\n",
    "        children = root\n",
    "\n",
    "    for child in children:\n",
    "        if isinstance(child, javalang.tree.Statement):\n",
    "            continue\n",
    "    \n",
    "        if isinstance(child, (javalang.tree.Node, list, tuple)):\n",
    "            for node in get_children(child):\n",
    "                yield node"
   ]
  },
  {
   "cell_type": "code",
   "execution_count": 18,
   "id": "c940829d",
   "metadata": {
    "slideshow": {
     "slide_type": "slide"
    }
   },
   "outputs": [],
   "source": [
    "class CFGNode(CFGNode):\n",
    "    def calls(self):\n",
    "        calls = set()\n",
    "        if not self.ast_node or isinstance(self.ast_node, str):\n",
    "            return calls\n",
    "        \n",
    "        for node in get_children(self.ast_node):\n",
    "            if isinstance(node, javalang.tree.MethodInvocation):\n",
    "                calls.add(node)\n",
    "                \n",
    "        return calls"
   ]
  },
  {
   "cell_type": "code",
   "execution_count": 19,
   "id": "3ebb0dd3",
   "metadata": {
    "slideshow": {
     "slide_type": "fragment"
    }
   },
   "outputs": [],
   "source": [
    "class StartNode(StartNode):\n",
    "    def calls(self):\n",
    "        return set()"
   ]
  },
  {
   "cell_type": "code",
   "execution_count": 20,
   "id": "8e2ef308",
   "metadata": {
    "slideshow": {
     "slide_type": "slide"
    }
   },
   "outputs": [],
   "source": [
    "cfg1 = CFGBuilder(tree1).create_graph()\n",
    "cfg2 = CFGBuilder(tree2).create_graph()"
   ]
  },
  {
   "cell_type": "code",
   "execution_count": 21,
   "id": "2c175a0d",
   "metadata": {
    "slideshow": {
     "slide_type": "fragment"
    }
   },
   "outputs": [
    {
     "name": "stdout",
     "output_type": "stream",
     "text": [
      "Node foo_5 calls bar\n"
     ]
    }
   ],
   "source": [
    "for node in cfg1.nodes():\n",
    "    for call in node.calls():\n",
    "        print(f\"Node {node} calls {call.member}\")"
   ]
  },
  {
   "cell_type": "markdown",
   "id": "5f52ded4",
   "metadata": {
    "slideshow": {
     "slide_type": "skip"
    }
   },
   "source": [
    "Now let's define a function that expands a given control flow graph with all the control flow implied by method calls."
   ]
  },
  {
   "cell_type": "code",
   "execution_count": 22,
   "id": "45664ffe",
   "metadata": {
    "slideshow": {
     "slide_type": "slide"
    }
   },
   "outputs": [],
   "source": [
    "def build_super_cfg(cfg):\n",
    "    \n",
    "    graph = nx.DiGraph()\n",
    "    \n",
    "    # Copy over original nodes\n",
    "    graph.add_nodes_from(cfg.graph.nodes())\n",
    "    graph.add_edges_from(cfg.graph.edges())        \n",
    "\n",
    "    # Find all method calls\n",
    "    for node in cfg.nodes():\n",
    "        for call in node.calls():\n",
    "            # Retrieve cfg of called method\n",
    "            cfg2 = CFGBuilder(methods[call.member]).create_graph()\n",
    "\n",
    "            # Add all nodes and edges of called method\n",
    "            graph.add_nodes_from(cfg2.graph.nodes())\n",
    "            graph.add_edges_from(cfg2.graph.edges())\n",
    "\n",
    "            # Connect calling node with start/end of new CFG\n",
    "            graph.add_edge(node, cfg2.start)\n",
    "            graph.add_edge(cfg2.end, node)\n",
    "\n",
    "    return ProgramGraph(graph, cfg.start, cfg.end)"
   ]
  },
  {
   "cell_type": "code",
   "execution_count": 23,
   "id": "9308e7b5",
   "metadata": {
    "slideshow": {
     "slide_type": "slide"
    }
   },
   "outputs": [],
   "source": [
    "scfg = build_super_cfg(cfg1)"
   ]
  },
  {
   "cell_type": "code",
   "execution_count": 24,
   "id": "2050b56a",
   "metadata": {
    "scrolled": true,
    "slideshow": {
     "slide_type": "fragment"
    }
   },
   "outputs": [
    {
     "data": {
      "image/png": "[encoded data removed]",
      "text/plain": [
       "<Figure size 432x288 with 1 Axes>"
      ]
     },
     "metadata": {},
     "output_type": "display_data"
    }
   ],
   "source": [
    "scfg.plot()"
   ]
  },
  {
   "cell_type": "markdown",
   "id": "bf669572",
   "metadata": {
    "slideshow": {
     "slide_type": "skip"
    }
   },
   "source": [
    "There is an issue with this direct integration: It creates possible loops in the method calls, which are not actually feasible. We therefore have to split method calls into call and return site."
   ]
  },
  {
   "cell_type": "code",
   "execution_count": 25,
   "id": "4fe138e3",
   "metadata": {
    "slideshow": {
     "slide_type": "slide"
    }
   },
   "outputs": [],
   "source": [
    "class CallNode(CFGNode):\n",
    "    def __init__(self, graph, method_name, ast_node, called_cfg):\n",
    "        self.graph = graph\n",
    "        self.method_name = method_name\n",
    "        self.ast_node    = ast_node\n",
    "        self.called_cfg  = called_cfg\n",
    "    \n",
    "    def __str__(self):\n",
    "        return self.method_name + \"_\" + str(self.ast_node.position.line - 1) + \" (Call)\""
   ]
  },
  {
   "cell_type": "code",
   "execution_count": 26,
   "id": "ae16c850",
   "metadata": {
    "slideshow": {
     "slide_type": "fragment"
    }
   },
   "outputs": [],
   "source": [
    "class ReturnNode(CFGNode):\n",
    "    \n",
    "    def __init__(self, graph, method_name, ast_node, return_node):\n",
    "        self.graph = graph\n",
    "        self.method_name = method_name\n",
    "        self.ast_node = ast_node\n",
    "        self.return_node = return_node\n",
    "\n",
    "    def __str__(self):\n",
    "        return self.method_name + \"_\" + str(self.ast_node.position.line - 1) + \" (Return)\""
   ]
  },
  {
   "cell_type": "code",
   "execution_count": 27,
   "id": "feec76bc",
   "metadata": {
    "slideshow": {
     "slide_type": "slide"
    }
   },
   "outputs": [],
   "source": [
    "def build_super_cfg(cfg):\n",
    "    graph = nx.DiGraph()\n",
    "    graph.add_edges_from(cfg.graph.edges())\n",
    "    graph.add_nodes_from(cfg.graph.nodes())\n",
    "\n",
    "    for node in cfg.nodes():\n",
    "        if node.calls():\n",
    "            for call in node.calls():\n",
    "                # Retrieve cfg2\n",
    "                cfg2 = CFGBuilder(methods[call.member]).create_graph()\n",
    "\n",
    "                # Add all nodes and edges\n",
    "                graph.add_nodes_from(cfg2.graph.nodes())\n",
    "                graph.add_edges_from(cfg2.graph.edges())\n",
    "\n",
    "                call_node   = CallNode(graph, node.method_name, node.ast_node, cfg2.start)\n",
    "                return_node = ReturnNode(graph, node.method_name, node.ast_node, cfg2.end)\n",
    "                for p in graph.predecessors(node):                    \n",
    "                    graph.add_edge(p, call_node)\n",
    "                for p in graph.successors(node):                    \n",
    "                    graph.add_edge(return_node, p)\n",
    "                graph.remove_node(node)\n",
    "                \n",
    "                graph.add_edge(call_node, cfg2.start)\n",
    "                graph.add_edge(cfg2.end, return_node)\n",
    "\n",
    "    return ProgramGraph(graph, cfg.start, cfg.end)"
   ]
  },
  {
   "cell_type": "code",
   "execution_count": 28,
   "id": "3bc260f0",
   "metadata": {
    "slideshow": {
     "slide_type": "slide"
    }
   },
   "outputs": [],
   "source": [
    "cfg1 = CFGBuilder(tree1).create_graph()\n",
    "cfg2 = CFGBuilder(tree2).create_graph()"
   ]
  },
  {
   "cell_type": "code",
   "execution_count": 29,
   "id": "6f8a1dd6",
   "metadata": {
    "slideshow": {
     "slide_type": "fragment"
    }
   },
   "outputs": [
    {
     "data": {
      "image/png": "[encoded data removed]",
      "text/plain": [
       "<Figure size 432x288 with 1 Axes>"
      ]
     },
     "metadata": {},
     "output_type": "display_data"
    }
   ],
   "source": [
    "cfg1.plot()"
   ]
  },
  {
   "cell_type": "code",
   "execution_count": 30,
   "id": "bc97db9f",
   "metadata": {
    "slideshow": {
     "slide_type": "fragment"
    }
   },
   "outputs": [
    {
     "data": {
      "image/png": "[encoded data removed]",
      "text/plain": [
       "<Figure size 432x288 with 1 Axes>"
      ]
     },
     "metadata": {},
     "output_type": "display_data"
    }
   ],
   "source": [
    "cfg2.plot()"
   ]
  },
  {
   "cell_type": "code",
   "execution_count": 31,
   "id": "132679bf",
   "metadata": {
    "slideshow": {
     "slide_type": "slide"
    }
   },
   "outputs": [],
   "source": [
    "scfg = build_super_cfg(cfg1)"
   ]
  },
  {
   "cell_type": "code",
   "execution_count": 32,
   "id": "0e976f10",
   "metadata": {
    "scrolled": false,
    "slideshow": {
     "slide_type": "fragment"
    }
   },
   "outputs": [
    {
     "data": {
      "image/png": "[encoded data removed]",
      "text/plain": [
       "<Figure size 432x288 with 1 Axes>"
      ]
     },
     "metadata": {},
     "output_type": "display_data"
    }
   ],
   "source": [
    "scfg.plot()"
   ]
  },
  {
   "cell_type": "markdown",
   "id": "e1f3e6f1",
   "metadata": {
    "slideshow": {
     "slide_type": "slide"
    }
   },
   "source": [
    "## Better Plotting"
   ]
  },
  {
   "cell_type": "markdown",
   "id": "15777e3b",
   "metadata": {
    "slideshow": {
     "slide_type": "skip"
    }
   },
   "source": [
    "This is a terrible plot. Unfortunately, networkx isn't great for creating a cleaner version, so let's define a version using GraphViz directly."
   ]
  },
  {
   "cell_type": "code",
   "execution_count": 33,
   "id": "f8e8f789",
   "metadata": {
    "slideshow": {
     "slide_type": "fragment"
    }
   },
   "outputs": [],
   "source": [
    "from graphviz import Digraph"
   ]
  },
  {
   "cell_type": "code",
   "execution_count": 34,
   "id": "9071d6d7",
   "metadata": {
    "slideshow": {
     "slide_type": "fragment"
    }
   },
   "outputs": [],
   "source": [
    "class ProgramGraph(ProgramGraph):\n",
    "    def dot(self):\n",
    "        graph = Digraph(graph_attr = {\"rankdir\" :  \"TB\" })\n",
    "        \n",
    "        methods = set([ node.method_name for node in self.nodes() ] )\n",
    "        clusters = {}\n",
    "        for method in methods:\n",
    "            clusters[method] = Digraph(name = f\"cluster_{method}\")\n",
    "        \n",
    "        clusters[self.start.method_name].node(str(self.start))\n",
    "        clusters[self.start.method_name].node(str(self.end))\n",
    "        \n",
    "        for node in self.nodes():\n",
    "            clusters[node.method_name].node(str(node))\n",
    "        \n",
    "        for subgraph in clusters.values():\n",
    "            graph.subgraph(subgraph)\n",
    "            \n",
    "        for (node1, node2) in self.edges():\n",
    "            graph.edge(str(node1), str(node2))\n",
    "        \n",
    "        return graph"
   ]
  },
  {
   "cell_type": "code",
   "execution_count": 35,
   "id": "4129f717",
   "metadata": {
    "slideshow": {
     "slide_type": "slide"
    }
   },
   "outputs": [],
   "source": [
    "scfg = build_super_cfg(cfg1)"
   ]
  },
  {
   "cell_type": "code",
   "execution_count": 36,
   "id": "a3f89ca1",
   "metadata": {
    "slideshow": {
     "slide_type": "fragment"
    }
   },
   "outputs": [
    {
     "data": {
      "image/svg+xml": [
       "<?xml version=\"1.0\" encoding=\"UTF-8\" standalone=\"no\"?>\n",
       "<!DOCTYPE svg PUBLIC \"-//W3C//DTD SVG 1.1//EN\"\n",
       " \"http://www.w3.org/Graphics/SVG/1.1/DTD/svg11.dtd\">\n",
       "<!-- Generated by graphviz version 3.0.0 (20220226.1711)\n",
       " -->\n",
       "<!-- Pages: 1 -->\n",
       "<svg width=\"240pt\" height=\"724pt\"\n",
       " viewBox=\"0.00 0.00 240.00 724.00\" xmlns=\"http://www.w3.org/2000/svg\" xmlns:xlink=\"http://www.w3.org/1999/xlink\">\n",
       "<g id=\"graph0\" class=\"graph\" transform=\"scale(1 1) rotate(0) translate(4 720)\">\n",
       "<polygon fill=\"white\" stroke=\"transparent\" points=\"-4,4 -4,-720 236,-720 236,4 -4,4\"/>\n",
       "<g id=\"clust1\" class=\"cluster\">\n",
       "<title>cluster_bar</title>\n",
       "<polygon fill=\"none\" stroke=\"black\" points=\"55,-8 55,-276 212,-276 212,-8 55,-8\"/>\n",
       "</g>\n",
       "<g id=\"clust2\" class=\"cluster\">\n",
       "<title>cluster_foo</title>\n",
       "<polygon fill=\"none\" stroke=\"black\" points=\"8,-296 8,-708 212,-708 212,-296 8,-296\"/>\n",
       "</g>\n",
       "<!-- bar_Start -->\n",
       "<g id=\"node1\" class=\"node\">\n",
       "<title>bar_Start</title>\n",
       "<ellipse fill=\"none\" stroke=\"black\" cx=\"128\" cy=\"-250\" rx=\"42.79\" ry=\"18\"/>\n",
       "<text text-anchor=\"middle\" x=\"128\" y=\"-246.3\" font-family=\"Times,serif\" font-size=\"14.00\">bar_Start</text>\n",
       "</g>\n",
       "<!-- bar_3 -->\n",
       "<g id=\"node3\" class=\"node\">\n",
       "<title>bar_3</title>\n",
       "<ellipse fill=\"none\" stroke=\"black\" cx=\"128\" cy=\"-178\" rx=\"30.59\" ry=\"18\"/>\n",
       "<text text-anchor=\"middle\" x=\"128\" y=\"-174.3\" font-family=\"Times,serif\" font-size=\"14.00\">bar_3</text>\n",
       "</g>\n",
       "<!-- bar_Start&#45;&gt;bar_3 -->\n",
       "<g id=\"edge9\" class=\"edge\">\n",
       "<title>bar_Start&#45;&gt;bar_3</title>\n",
       "<path fill=\"none\" stroke=\"black\" d=\"M128,-231.7C128,-223.98 128,-214.71 128,-206.11\"/>\n",
       "<polygon fill=\"black\" stroke=\"black\" points=\"131.5,-206.1 128,-196.1 124.5,-206.1 131.5,-206.1\"/>\n",
       "</g>\n",
       "<!-- bar_End -->\n",
       "<g id=\"node2\" class=\"node\">\n",
       "<title>bar_End</title>\n",
       "<ellipse fill=\"none\" stroke=\"black\" cx=\"164\" cy=\"-34\" rx=\"40.09\" ry=\"18\"/>\n",
       "<text text-anchor=\"middle\" x=\"164\" y=\"-30.3\" font-family=\"Times,serif\" font-size=\"14.00\">bar_End</text>\n",
       "</g>\n",
       "<!-- foo_5 (Return) -->\n",
       "<g id=\"node15\" class=\"node\">\n",
       "<title>foo_5 (Return)</title>\n",
       "<ellipse fill=\"none\" stroke=\"black\" cx=\"140\" cy=\"-682\" rx=\"63.89\" ry=\"18\"/>\n",
       "<text text-anchor=\"middle\" x=\"140\" y=\"-678.3\" font-family=\"Times,serif\" font-size=\"14.00\">foo_5 (Return)</text>\n",
       "</g>\n",
       "<!-- bar_End&#45;&gt;foo_5 (Return) -->\n",
       "<g id=\"edge10\" class=\"edge\">\n",
       "<title>bar_End&#45;&gt;foo_5 (Return)</title>\n",
       "<path fill=\"none\" stroke=\"black\" d=\"M182.48,-50.37C192.98,-60.1 205.5,-73.54 213,-88 231.62,-123.91 232,-136.55 232,-177 232,-539 232,-539 232,-539 232,-581.67 220.04,-592.75 196,-628 188.44,-639.08 178.22,-649.61 168.58,-658.32\"/>\n",
       "<polygon fill=\"black\" stroke=\"black\" points=\"166.27,-655.68 161.03,-664.89 170.87,-660.96 166.27,-655.68\"/>\n",
       "</g>\n",
       "<!-- bar_4 -->\n",
       "<g id=\"node4\" class=\"node\">\n",
       "<title>bar_4</title>\n",
       "<ellipse fill=\"none\" stroke=\"black\" cx=\"94\" cy=\"-106\" rx=\"30.59\" ry=\"18\"/>\n",
       "<text text-anchor=\"middle\" x=\"94\" y=\"-102.3\" font-family=\"Times,serif\" font-size=\"14.00\">bar_4</text>\n",
       "</g>\n",
       "<!-- bar_3&#45;&gt;bar_4 -->\n",
       "<g id=\"edge11\" class=\"edge\">\n",
       "<title>bar_3&#45;&gt;bar_4</title>\n",
       "<path fill=\"none\" stroke=\"black\" d=\"M119.94,-160.41C115.92,-152.13 110.96,-141.92 106.46,-132.66\"/>\n",
       "<polygon fill=\"black\" stroke=\"black\" points=\"109.52,-130.94 102,-123.47 103.22,-133.99 109.52,-130.94\"/>\n",
       "</g>\n",
       "<!-- bar_6 -->\n",
       "<g id=\"node5\" class=\"node\">\n",
       "<title>bar_6</title>\n",
       "<ellipse fill=\"none\" stroke=\"black\" cx=\"173\" cy=\"-106\" rx=\"30.59\" ry=\"18\"/>\n",
       "<text text-anchor=\"middle\" x=\"173\" y=\"-102.3\" font-family=\"Times,serif\" font-size=\"14.00\">bar_6</text>\n",
       "</g>\n",
       "<!-- bar_3&#45;&gt;bar_6 -->\n",
       "<g id=\"edge12\" class=\"edge\">\n",
       "<title>bar_3&#45;&gt;bar_6</title>\n",
       "<path fill=\"none\" stroke=\"black\" d=\"M138.44,-160.76C144,-152.11 150.97,-141.27 157.18,-131.6\"/>\n",
       "<polygon fill=\"black\" stroke=\"black\" points=\"160.16,-133.45 162.62,-123.15 154.27,-129.67 160.16,-133.45\"/>\n",
       "</g>\n",
       "<!-- bar_4&#45;&gt;bar_End -->\n",
       "<g id=\"edge13\" class=\"edge\">\n",
       "<title>bar_4&#45;&gt;bar_End</title>\n",
       "<path fill=\"none\" stroke=\"black\" d=\"M108.85,-90.15C118.15,-80.85 130.33,-68.67 140.88,-58.12\"/>\n",
       "<polygon fill=\"black\" stroke=\"black\" points=\"143.61,-60.34 148.2,-50.8 138.66,-55.39 143.61,-60.34\"/>\n",
       "</g>\n",
       "<!-- bar_6&#45;&gt;bar_End -->\n",
       "<g id=\"edge14\" class=\"edge\">\n",
       "<title>bar_6&#45;&gt;bar_End</title>\n",
       "<path fill=\"none\" stroke=\"black\" d=\"M170.78,-87.7C169.78,-79.98 168.59,-70.71 167.49,-62.11\"/>\n",
       "<polygon fill=\"black\" stroke=\"black\" points=\"170.95,-61.58 166.2,-52.1 164,-62.47 170.95,-61.58\"/>\n",
       "</g>\n",
       "<!-- foo_Start -->\n",
       "<g id=\"node6\" class=\"node\">\n",
       "<title>foo_Start</title>\n",
       "<ellipse fill=\"none\" stroke=\"black\" cx=\"160\" cy=\"-466\" rx=\"43.59\" ry=\"18\"/>\n",
       "<text text-anchor=\"middle\" x=\"160\" y=\"-462.3\" font-family=\"Times,serif\" font-size=\"14.00\">foo_Start</text>\n",
       "</g>\n",
       "<!-- foo_3 -->\n",
       "<g id=\"node8\" class=\"node\">\n",
       "<title>foo_3</title>\n",
       "<ellipse fill=\"none\" stroke=\"black\" cx=\"160\" cy=\"-394\" rx=\"31.4\" ry=\"18\"/>\n",
       "<text text-anchor=\"middle\" x=\"160\" y=\"-390.3\" font-family=\"Times,serif\" font-size=\"14.00\">foo_3</text>\n",
       "</g>\n",
       "<!-- foo_Start&#45;&gt;foo_3 -->\n",
       "<g id=\"edge1\" class=\"edge\">\n",
       "<title>foo_Start&#45;&gt;foo_3</title>\n",
       "<path fill=\"none\" stroke=\"black\" d=\"M160,-447.7C160,-439.98 160,-430.71 160,-422.11\"/>\n",
       "<polygon fill=\"black\" stroke=\"black\" points=\"163.5,-422.1 160,-412.1 156.5,-422.1 163.5,-422.1\"/>\n",
       "</g>\n",
       "<!-- foo_End -->\n",
       "<g id=\"node7\" class=\"node\">\n",
       "<title>foo_End</title>\n",
       "<ellipse fill=\"none\" stroke=\"black\" cx=\"153\" cy=\"-538\" rx=\"40.89\" ry=\"18\"/>\n",
       "<text text-anchor=\"middle\" x=\"153\" y=\"-534.3\" font-family=\"Times,serif\" font-size=\"14.00\">foo_End</text>\n",
       "</g>\n",
       "<!-- foo_5 (Call) -->\n",
       "<g id=\"node14\" class=\"node\">\n",
       "<title>foo_5 (Call)</title>\n",
       "<ellipse fill=\"none\" stroke=\"black\" cx=\"128\" cy=\"-322\" rx=\"53.89\" ry=\"18\"/>\n",
       "<text text-anchor=\"middle\" x=\"128\" y=\"-318.3\" font-family=\"Times,serif\" font-size=\"14.00\">foo_5 (Call)</text>\n",
       "</g>\n",
       "<!-- foo_3&#45;&gt;foo_5 (Call) -->\n",
       "<g id=\"edge2\" class=\"edge\">\n",
       "<title>foo_3&#45;&gt;foo_5 (Call)</title>\n",
       "<path fill=\"none\" stroke=\"black\" d=\"M152.42,-376.41C148.69,-368.25 144.1,-358.22 139.92,-349.07\"/>\n",
       "<polygon fill=\"black\" stroke=\"black\" points=\"143.09,-347.6 135.75,-339.96 136.73,-350.51 143.09,-347.6\"/>\n",
       "</g>\n",
       "<!-- foo_6 -->\n",
       "<g id=\"node9\" class=\"node\">\n",
       "<title>foo_6</title>\n",
       "<ellipse fill=\"none\" stroke=\"black\" cx=\"64\" cy=\"-610\" rx=\"31.4\" ry=\"18\"/>\n",
       "<text text-anchor=\"middle\" x=\"64\" y=\"-606.3\" font-family=\"Times,serif\" font-size=\"14.00\">foo_6</text>\n",
       "</g>\n",
       "<!-- foo_7 -->\n",
       "<g id=\"node11\" class=\"node\">\n",
       "<title>foo_7</title>\n",
       "<ellipse fill=\"none\" stroke=\"black\" cx=\"63\" cy=\"-538\" rx=\"31.4\" ry=\"18\"/>\n",
       "<text text-anchor=\"middle\" x=\"63\" y=\"-534.3\" font-family=\"Times,serif\" font-size=\"14.00\">foo_7</text>\n",
       "</g>\n",
       "<!-- foo_6&#45;&gt;foo_7 -->\n",
       "<g id=\"edge3\" class=\"edge\">\n",
       "<title>foo_6&#45;&gt;foo_7</title>\n",
       "<path fill=\"none\" stroke=\"black\" d=\"M63.75,-591.7C63.64,-583.98 63.51,-574.71 63.39,-566.11\"/>\n",
       "<polygon fill=\"black\" stroke=\"black\" points=\"66.89,-566.05 63.24,-556.1 59.89,-566.15 66.89,-566.05\"/>\n",
       "</g>\n",
       "<!-- foo_12 -->\n",
       "<g id=\"node10\" class=\"node\">\n",
       "<title>foo_12</title>\n",
       "<ellipse fill=\"none\" stroke=\"black\" cx=\"151\" cy=\"-610\" rx=\"36\" ry=\"18\"/>\n",
       "<text text-anchor=\"middle\" x=\"151\" y=\"-606.3\" font-family=\"Times,serif\" font-size=\"14.00\">foo_12</text>\n",
       "</g>\n",
       "<!-- foo_12&#45;&gt;foo_End -->\n",
       "<g id=\"edge4\" class=\"edge\">\n",
       "<title>foo_12&#45;&gt;foo_End</title>\n",
       "<path fill=\"none\" stroke=\"black\" d=\"M151.49,-591.7C151.71,-583.98 151.98,-574.71 152.23,-566.11\"/>\n",
       "<polygon fill=\"black\" stroke=\"black\" points=\"155.72,-566.2 152.51,-556.1 148.73,-566 155.72,-566.2\"/>\n",
       "</g>\n",
       "<!-- foo_8 -->\n",
       "<g id=\"node12\" class=\"node\">\n",
       "<title>foo_8</title>\n",
       "<ellipse fill=\"none\" stroke=\"black\" cx=\"47\" cy=\"-466\" rx=\"31.4\" ry=\"18\"/>\n",
       "<text text-anchor=\"middle\" x=\"47\" y=\"-462.3\" font-family=\"Times,serif\" font-size=\"14.00\">foo_8</text>\n",
       "</g>\n",
       "<!-- foo_7&#45;&gt;foo_8 -->\n",
       "<g id=\"edge5\" class=\"edge\">\n",
       "<title>foo_7&#45;&gt;foo_8</title>\n",
       "<path fill=\"none\" stroke=\"black\" d=\"M59.13,-520.05C57.35,-512.26 55.19,-502.82 53.19,-494.08\"/>\n",
       "<polygon fill=\"black\" stroke=\"black\" points=\"56.59,-493.24 50.95,-484.28 49.76,-494.8 56.59,-493.24\"/>\n",
       "</g>\n",
       "<!-- foo_9 -->\n",
       "<g id=\"node13\" class=\"node\">\n",
       "<title>foo_9</title>\n",
       "<ellipse fill=\"none\" stroke=\"black\" cx=\"80\" cy=\"-394\" rx=\"31.4\" ry=\"18\"/>\n",
       "<text text-anchor=\"middle\" x=\"80\" y=\"-390.3\" font-family=\"Times,serif\" font-size=\"14.00\">foo_9</text>\n",
       "</g>\n",
       "<!-- foo_7&#45;&gt;foo_9 -->\n",
       "<g id=\"edge6\" class=\"edge\">\n",
       "<title>foo_7&#45;&gt;foo_9</title>\n",
       "<path fill=\"none\" stroke=\"black\" d=\"M72.71,-520.45C78.08,-510.3 84.23,-496.84 87,-484 91.44,-463.45 89.21,-439.7 86.13,-421.9\"/>\n",
       "<polygon fill=\"black\" stroke=\"black\" points=\"89.54,-421.08 84.21,-411.93 82.66,-422.41 89.54,-421.08\"/>\n",
       "</g>\n",
       "<!-- foo_8&#45;&gt;foo_9 -->\n",
       "<g id=\"edge7\" class=\"edge\">\n",
       "<title>foo_8&#45;&gt;foo_9</title>\n",
       "<path fill=\"none\" stroke=\"black\" d=\"M54.82,-448.41C58.72,-440.13 63.54,-429.92 67.9,-420.66\"/>\n",
       "<polygon fill=\"black\" stroke=\"black\" points=\"71.14,-422.01 72.24,-411.47 64.81,-419.02 71.14,-422.01\"/>\n",
       "</g>\n",
       "<!-- foo_9&#45;&gt;foo_5 (Call) -->\n",
       "<g id=\"edge8\" class=\"edge\">\n",
       "<title>foo_9&#45;&gt;foo_5 (Call)</title>\n",
       "<path fill=\"none\" stroke=\"black\" d=\"M90.89,-377.12C96.74,-368.59 104.08,-357.89 110.68,-348.25\"/>\n",
       "<polygon fill=\"black\" stroke=\"black\" points=\"113.71,-350.02 116.48,-339.8 107.94,-346.07 113.71,-350.02\"/>\n",
       "</g>\n",
       "<!-- foo_5 (Call)&#45;&gt;bar_Start -->\n",
       "<g id=\"edge15\" class=\"edge\">\n",
       "<title>foo_5 (Call)&#45;&gt;bar_Start</title>\n",
       "<path fill=\"none\" stroke=\"black\" d=\"M128,-303.7C128,-295.98 128,-286.71 128,-278.11\"/>\n",
       "<polygon fill=\"black\" stroke=\"black\" points=\"131.5,-278.1 128,-268.1 124.5,-278.1 131.5,-278.1\"/>\n",
       "</g>\n",
       "<!-- foo_5 (Return)&#45;&gt;foo_6 -->\n",
       "<g id=\"edge16\" class=\"edge\">\n",
       "<title>foo_5 (Return)&#45;&gt;foo_6</title>\n",
       "<path fill=\"none\" stroke=\"black\" d=\"M121.99,-664.41C111.57,-654.82 98.36,-642.65 87.18,-632.35\"/>\n",
       "<polygon fill=\"black\" stroke=\"black\" points=\"89.55,-629.77 79.82,-625.57 84.8,-634.92 89.55,-629.77\"/>\n",
       "</g>\n",
       "<!-- foo_5 (Return)&#45;&gt;foo_12 -->\n",
       "<g id=\"edge17\" class=\"edge\">\n",
       "<title>foo_5 (Return)&#45;&gt;foo_12</title>\n",
       "<path fill=\"none\" stroke=\"black\" d=\"M142.72,-663.7C143.93,-655.98 145.39,-646.71 146.74,-638.11\"/>\n",
       "<polygon fill=\"black\" stroke=\"black\" points=\"150.22,-638.53 148.31,-628.1 143.3,-637.44 150.22,-638.53\"/>\n",
       "</g>\n",
       "</g>\n",
       "</svg>\n"
      ],
      "text/plain": [
       "<graphviz.graphs.Digraph at 0x10a3102b0>"
      ]
     },
     "execution_count": 36,
     "metadata": {},
     "output_type": "execute_result"
    }
   ],
   "source": [
    "scfg.dot()"
   ]
  },
  {
   "cell_type": "markdown",
   "id": "9a4dbe0c",
   "metadata": {
    "slideshow": {
     "slide_type": "slide"
    }
   },
   "source": [
    "## Dataflow Analysis"
   ]
  },
  {
   "cell_type": "markdown",
   "id": "5ce42e77",
   "metadata": {
    "slideshow": {
     "slide_type": "skip"
    }
   },
   "source": [
    "Let's assume our objective is to apply our zero-analysis to the following code."
   ]
  },
  {
   "cell_type": "code",
   "execution_count": 37,
   "id": "fb8981bf",
   "metadata": {
    "slideshow": {
     "slide_type": "fragment"
    }
   },
   "outputs": [],
   "source": [
    "code1 = \"\"\"\n",
    "  public int foo() {\n",
    "\n",
    "    int x = 5;\n",
    "    int y = bar(x);\n",
    "    int z = x/y;\n",
    "\n",
    "    return z;\n",
    "  }\n",
    "\"\"\""
   ]
  },
  {
   "cell_type": "code",
   "execution_count": 38,
   "id": "ce91de4e",
   "metadata": {
    "slideshow": {
     "slide_type": "fragment"
    }
   },
   "outputs": [],
   "source": [
    "code2 = \"\"\"\n",
    "  public int bar(int a) {\n",
    "    return a;\n",
    "  }\n",
    "\"\"\""
   ]
  },
  {
   "cell_type": "code",
   "execution_count": 39,
   "id": "9edc2ccd",
   "metadata": {
    "slideshow": {
     "slide_type": "slide"
    }
   },
   "outputs": [],
   "source": [
    "tree1 = parse_method(code1)\n",
    "tree2 = parse_method(code2)"
   ]
  },
  {
   "cell_type": "code",
   "execution_count": 40,
   "id": "2bb850ee",
   "metadata": {
    "slideshow": {
     "slide_type": "fragment"
    }
   },
   "outputs": [],
   "source": [
    "cfg1 = CFGBuilder(tree1).create_graph()\n",
    "cfg2 = CFGBuilder(tree2).create_graph()"
   ]
  },
  {
   "cell_type": "code",
   "execution_count": 41,
   "id": "3e976b14",
   "metadata": {
    "slideshow": {
     "slide_type": "fragment"
    }
   },
   "outputs": [],
   "source": [
    "scfg = build_super_cfg(cfg1)"
   ]
  },
  {
   "cell_type": "code",
   "execution_count": 42,
   "id": "b067f180",
   "metadata": {
    "scrolled": true,
    "slideshow": {
     "slide_type": "fragment"
    }
   },
   "outputs": [
    {
     "data": {
      "image/svg+xml": [
       "<?xml version=\"1.0\" encoding=\"UTF-8\" standalone=\"no\"?>\n",
       "<!DOCTYPE svg PUBLIC \"-//W3C//DTD SVG 1.1//EN\"\n",
       " \"http://www.w3.org/Graphics/SVG/1.1/DTD/svg11.dtd\">\n",
       "<!-- Generated by graphviz version 3.0.0 (20220226.1711)\n",
       " -->\n",
       "<!-- Pages: 1 -->\n",
       "<svg width=\"285pt\" height=\"508pt\"\n",
       " viewBox=\"0.00 0.00 285.00 508.00\" xmlns=\"http://www.w3.org/2000/svg\" xmlns:xlink=\"http://www.w3.org/1999/xlink\">\n",
       "<g id=\"graph0\" class=\"graph\" transform=\"scale(1 1) rotate(0) translate(4 504)\">\n",
       "<polygon fill=\"white\" stroke=\"transparent\" points=\"-4,4 -4,-504 281,-504 281,4 -4,4\"/>\n",
       "<g id=\"clust1\" class=\"cluster\">\n",
       "<title>cluster_bar</title>\n",
       "<polygon fill=\"none\" stroke=\"black\" points=\"93,-296 93,-492 195,-492 195,-296 93,-296\"/>\n",
       "</g>\n",
       "<g id=\"clust2\" class=\"cluster\">\n",
       "<title>cluster_foo</title>\n",
       "<polygon fill=\"none\" stroke=\"black\" points=\"8,-8 8,-276 257,-276 257,-8 8,-8\"/>\n",
       "</g>\n",
       "<!-- bar_Start -->\n",
       "<g id=\"node1\" class=\"node\">\n",
       "<title>bar_Start</title>\n",
       "<ellipse fill=\"none\" stroke=\"black\" cx=\"144\" cy=\"-466\" rx=\"42.79\" ry=\"18\"/>\n",
       "<text text-anchor=\"middle\" x=\"144\" y=\"-462.3\" font-family=\"Times,serif\" font-size=\"14.00\">bar_Start</text>\n",
       "</g>\n",
       "<!-- bar_3 -->\n",
       "<g id=\"node3\" class=\"node\">\n",
       "<title>bar_3</title>\n",
       "<ellipse fill=\"none\" stroke=\"black\" cx=\"143\" cy=\"-394\" rx=\"30.59\" ry=\"18\"/>\n",
       "<text text-anchor=\"middle\" x=\"143\" y=\"-390.3\" font-family=\"Times,serif\" font-size=\"14.00\">bar_3</text>\n",
       "</g>\n",
       "<!-- bar_Start&#45;&gt;bar_3 -->\n",
       "<g id=\"edge5\" class=\"edge\">\n",
       "<title>bar_Start&#45;&gt;bar_3</title>\n",
       "<path fill=\"none\" stroke=\"black\" d=\"M143.75,-447.7C143.64,-439.98 143.51,-430.71 143.39,-422.11\"/>\n",
       "<polygon fill=\"black\" stroke=\"black\" points=\"146.89,-422.05 143.24,-412.1 139.89,-422.15 146.89,-422.05\"/>\n",
       "</g>\n",
       "<!-- bar_End -->\n",
       "<g id=\"node2\" class=\"node\">\n",
       "<title>bar_End</title>\n",
       "<ellipse fill=\"none\" stroke=\"black\" cx=\"142\" cy=\"-322\" rx=\"40.09\" ry=\"18\"/>\n",
       "<text text-anchor=\"middle\" x=\"142\" y=\"-318.3\" font-family=\"Times,serif\" font-size=\"14.00\">bar_End</text>\n",
       "</g>\n",
       "<!-- foo_5 (Return) -->\n",
       "<g id=\"node10\" class=\"node\">\n",
       "<title>foo_5 (Return)</title>\n",
       "<ellipse fill=\"none\" stroke=\"black\" cx=\"80\" cy=\"-250\" rx=\"63.89\" ry=\"18\"/>\n",
       "<text text-anchor=\"middle\" x=\"80\" y=\"-246.3\" font-family=\"Times,serif\" font-size=\"14.00\">foo_5 (Return)</text>\n",
       "</g>\n",
       "<!-- bar_End&#45;&gt;foo_5 (Return) -->\n",
       "<g id=\"edge6\" class=\"edge\">\n",
       "<title>bar_End&#45;&gt;foo_5 (Return)</title>\n",
       "<path fill=\"none\" stroke=\"black\" d=\"M127.93,-305.12C120.15,-296.33 110.32,-285.23 101.58,-275.37\"/>\n",
       "<polygon fill=\"black\" stroke=\"black\" points=\"104.13,-272.96 94.88,-267.8 98.89,-277.6 104.13,-272.96\"/>\n",
       "</g>\n",
       "<!-- bar_3&#45;&gt;bar_End -->\n",
       "<g id=\"edge7\" class=\"edge\">\n",
       "<title>bar_3&#45;&gt;bar_End</title>\n",
       "<path fill=\"none\" stroke=\"black\" d=\"M142.75,-375.7C142.64,-367.98 142.51,-358.71 142.39,-350.11\"/>\n",
       "<polygon fill=\"black\" stroke=\"black\" points=\"145.89,-350.05 142.24,-340.1 138.89,-350.15 145.89,-350.05\"/>\n",
       "</g>\n",
       "<!-- foo_Start -->\n",
       "<g id=\"node4\" class=\"node\">\n",
       "<title>foo_Start</title>\n",
       "<ellipse fill=\"none\" stroke=\"black\" cx=\"205\" cy=\"-250\" rx=\"43.59\" ry=\"18\"/>\n",
       "<text text-anchor=\"middle\" x=\"205\" y=\"-246.3\" font-family=\"Times,serif\" font-size=\"14.00\">foo_Start</text>\n",
       "</g>\n",
       "<!-- foo_4 -->\n",
       "<g id=\"node6\" class=\"node\">\n",
       "<title>foo_4</title>\n",
       "<ellipse fill=\"none\" stroke=\"black\" cx=\"200\" cy=\"-178\" rx=\"31.4\" ry=\"18\"/>\n",
       "<text text-anchor=\"middle\" x=\"200\" y=\"-174.3\" font-family=\"Times,serif\" font-size=\"14.00\">foo_4</text>\n",
       "</g>\n",
       "<!-- foo_Start&#45;&gt;foo_4 -->\n",
       "<g id=\"edge1\" class=\"edge\">\n",
       "<title>foo_Start&#45;&gt;foo_4</title>\n",
       "<path fill=\"none\" stroke=\"black\" d=\"M203.76,-231.7C203.21,-223.98 202.55,-214.71 201.94,-206.11\"/>\n",
       "<polygon fill=\"black\" stroke=\"black\" points=\"205.43,-205.83 201.22,-196.1 198.44,-206.33 205.43,-205.83\"/>\n",
       "</g>\n",
       "<!-- foo_End -->\n",
       "<g id=\"node5\" class=\"node\">\n",
       "<title>foo_End</title>\n",
       "<ellipse fill=\"none\" stroke=\"black\" cx=\"80\" cy=\"-34\" rx=\"40.89\" ry=\"18\"/>\n",
       "<text text-anchor=\"middle\" x=\"80\" y=\"-30.3\" font-family=\"Times,serif\" font-size=\"14.00\">foo_End</text>\n",
       "</g>\n",
       "<!-- foo_5 (Call) -->\n",
       "<g id=\"node9\" class=\"node\">\n",
       "<title>foo_5 (Call)</title>\n",
       "<ellipse fill=\"none\" stroke=\"black\" cx=\"195\" cy=\"-106\" rx=\"53.89\" ry=\"18\"/>\n",
       "<text text-anchor=\"middle\" x=\"195\" y=\"-102.3\" font-family=\"Times,serif\" font-size=\"14.00\">foo_5 (Call)</text>\n",
       "</g>\n",
       "<!-- foo_4&#45;&gt;foo_5 (Call) -->\n",
       "<g id=\"edge2\" class=\"edge\">\n",
       "<title>foo_4&#45;&gt;foo_5 (Call)</title>\n",
       "<path fill=\"none\" stroke=\"black\" d=\"M198.76,-159.7C198.21,-151.98 197.55,-142.71 196.94,-134.11\"/>\n",
       "<polygon fill=\"black\" stroke=\"black\" points=\"200.43,-133.83 196.22,-124.1 193.44,-134.33 200.43,-133.83\"/>\n",
       "</g>\n",
       "<!-- foo_6 -->\n",
       "<g id=\"node7\" class=\"node\">\n",
       "<title>foo_6</title>\n",
       "<ellipse fill=\"none\" stroke=\"black\" cx=\"80\" cy=\"-178\" rx=\"31.4\" ry=\"18\"/>\n",
       "<text text-anchor=\"middle\" x=\"80\" y=\"-174.3\" font-family=\"Times,serif\" font-size=\"14.00\">foo_6</text>\n",
       "</g>\n",
       "<!-- foo_8 -->\n",
       "<g id=\"node8\" class=\"node\">\n",
       "<title>foo_8</title>\n",
       "<ellipse fill=\"none\" stroke=\"black\" cx=\"80\" cy=\"-106\" rx=\"31.4\" ry=\"18\"/>\n",
       "<text text-anchor=\"middle\" x=\"80\" y=\"-102.3\" font-family=\"Times,serif\" font-size=\"14.00\">foo_8</text>\n",
       "</g>\n",
       "<!-- foo_6&#45;&gt;foo_8 -->\n",
       "<g id=\"edge3\" class=\"edge\">\n",
       "<title>foo_6&#45;&gt;foo_8</title>\n",
       "<path fill=\"none\" stroke=\"black\" d=\"M80,-159.7C80,-151.98 80,-142.71 80,-134.11\"/>\n",
       "<polygon fill=\"black\" stroke=\"black\" points=\"83.5,-134.1 80,-124.1 76.5,-134.1 83.5,-134.1\"/>\n",
       "</g>\n",
       "<!-- foo_8&#45;&gt;foo_End -->\n",
       "<g id=\"edge4\" class=\"edge\">\n",
       "<title>foo_8&#45;&gt;foo_End</title>\n",
       "<path fill=\"none\" stroke=\"black\" d=\"M80,-87.7C80,-79.98 80,-70.71 80,-62.11\"/>\n",
       "<polygon fill=\"black\" stroke=\"black\" points=\"83.5,-62.1 80,-52.1 76.5,-62.1 83.5,-62.1\"/>\n",
       "</g>\n",
       "<!-- foo_5 (Call)&#45;&gt;bar_Start -->\n",
       "<g id=\"edge8\" class=\"edge\">\n",
       "<title>foo_5 (Call)&#45;&gt;bar_Start</title>\n",
       "<path fill=\"none\" stroke=\"black\" d=\"M211.99,-123.15C236.01,-147.82 277,-197.47 277,-249 277,-323 277,-323 277,-323 277,-380.07 219.07,-423.66 179.67,-446.71\"/>\n",
       "<polygon fill=\"black\" stroke=\"black\" points=\"177.57,-443.88 170.59,-451.85 181.02,-449.97 177.57,-443.88\"/>\n",
       "</g>\n",
       "<!-- foo_5 (Return)&#45;&gt;foo_6 -->\n",
       "<g id=\"edge9\" class=\"edge\">\n",
       "<title>foo_5 (Return)&#45;&gt;foo_6</title>\n",
       "<path fill=\"none\" stroke=\"black\" d=\"M80,-231.7C80,-223.98 80,-214.71 80,-206.11\"/>\n",
       "<polygon fill=\"black\" stroke=\"black\" points=\"83.5,-206.1 80,-196.1 76.5,-206.1 83.5,-206.1\"/>\n",
       "</g>\n",
       "</g>\n",
       "</svg>\n"
      ],
      "text/plain": [
       "<graphviz.graphs.Digraph at 0x10a31f910>"
      ]
     },
     "execution_count": 42,
     "metadata": {},
     "output_type": "execute_result"
    }
   ],
   "source": [
    "scfg.dot()"
   ]
  },
  {
   "cell_type": "markdown",
   "id": "b7059377",
   "metadata": {
    "slideshow": {
     "slide_type": "slide"
    }
   },
   "source": [
    "### Analysis code"
   ]
  },
  {
   "cell_type": "markdown",
   "id": "a1af57fe",
   "metadata": {
    "slideshow": {
     "slide_type": "skip"
    }
   },
   "source": [
    "We'll need to re-introduce all the analysis code."
   ]
  },
  {
   "cell_type": "code",
   "execution_count": 43,
   "id": "d55085eb",
   "metadata": {
    "slideshow": {
     "slide_type": "fragment"
    }
   },
   "outputs": [],
   "source": [
    "class ProgramLattice(object):\n",
    "    def __init__(self, variables, lattice):\n",
    "        self.variables = variables\n",
    "        self.lattice   = lattice\n",
    "        self.values    = {}\n",
    "        for var in variables:\n",
    "            self.values[var] = lattice.bottom\n",
    "\n",
    "    @property\n",
    "    def bottom(self):\n",
    "        new_lattice = ProgramLattice(self.variables, self.lattice)\n",
    "        for var in self.variables:\n",
    "            new_lattice.values[var] = self.lattice.bottom\n",
    "        return new_lattice\n",
    "    \n",
    "    def join(self, other):\n",
    "        new_lattice = ProgramLattice(self.variables, self.lattice)\n",
    "        for var in self.variables:\n",
    "            new_lattice.values[var] = self.lattice.join(self.values[var], other.values[var])\n",
    "        return new_lattice\n",
    "    \n",
    "    def copy(self):\n",
    "        new_lattice = ProgramLattice(self.variables, self.lattice)\n",
    "        new_lattice.values = self.values.copy()\n",
    "        return new_lattice \n",
    "    \n",
    "    def __le__(self, other):\n",
    "        for var in self.variables:\n",
    "            if not (self.values[var] <= other.values[var]):\n",
    "                return False\n",
    "\n",
    "        return True\n",
    "\n",
    "    def __str__(self):\n",
    "        result = \"\"\n",
    "        for var, value in self.values.items():\n",
    "            result += f\"{var}: {value}\\n\"\n",
    "        return result"
   ]
  },
  {
   "cell_type": "code",
   "execution_count": 44,
   "id": "3ba0cf26",
   "metadata": {
    "slideshow": {
     "slide_type": "slide"
    }
   },
   "outputs": [],
   "source": [
    "class DataFlowAnalysis:\n",
    "    def __init__(self, cfg, program_lattice, transfer_function, is_backward):\n",
    "        self.cfg = cfg\n",
    "        if is_backward:\n",
    "            self.cfg = cfg.reverse()\n",
    "            \n",
    "        self.transfer_function = transfer_function\n",
    "        self.lattice = program_lattice\n",
    "        \n",
    "        self.facts = {}\n",
    "        \n",
    "        for node in cfg.nodes():\n",
    "            self.facts[node] = program_lattice.bottom    "
   ]
  },
  {
   "cell_type": "code",
   "execution_count": 45,
   "id": "e6373792",
   "metadata": {
    "slideshow": {
     "slide_type": "fragment"
    }
   },
   "outputs": [],
   "source": [
    "class DataFlowAnalysis(DataFlowAnalysis):\n",
    "    def apply(self):\n",
    "            \n",
    "        worklist = [(edge[0], edge[1]) for edge in self.cfg.edges()]\n",
    "        while worklist:\n",
    "            node1, node2 = worklist.pop()\n",
    "            result = self.transfer_function(node1, node2, self.facts[node1])\n",
    "            self.facts[node1] = result\n",
    "            if not (result <= self.facts[node2]):\n",
    "                self.facts[node2] = self.facts[node2].join(result)\n",
    "                for successor in self.cfg.successors(node2):\n",
    "                    worklist.append((node2, successor))"
   ]
  },
  {
   "cell_type": "code",
   "execution_count": 46,
   "id": "97732289",
   "metadata": {
    "slideshow": {
     "slide_type": "slide"
    }
   },
   "outputs": [],
   "source": [
    "def variables(cfg):\n",
    "    # Assumes parameters are used\n",
    "    variables = set()\n",
    "    for node in cfg.nodes():\n",
    "        for child in get_children(node.ast_node):\n",
    "            if isinstance(child, javalang.tree.MemberReference):\n",
    "                variables.add(child.member)\n",
    "    \n",
    "    return variables"
   ]
  },
  {
   "cell_type": "code",
   "execution_count": 47,
   "id": "9c090b28",
   "metadata": {
    "slideshow": {
     "slide_type": "fragment"
    }
   },
   "outputs": [
    {
     "data": {
      "text/plain": [
       "{'a', 'x', 'y', 'z'}"
      ]
     },
     "execution_count": 47,
     "metadata": {},
     "output_type": "execute_result"
    }
   ],
   "source": [
    "variables(scfg)"
   ]
  },
  {
   "cell_type": "markdown",
   "id": "dd9d14c1",
   "metadata": {
    "slideshow": {
     "slide_type": "slide"
    }
   },
   "source": [
    "### Zero-Abstraction"
   ]
  },
  {
   "cell_type": "code",
   "execution_count": 48,
   "id": "b3ac367c",
   "metadata": {
    "slideshow": {
     "slide_type": "fragment"
    }
   },
   "outputs": [],
   "source": [
    "from enum import Enum\n",
    "class IntegerValue(Enum):\n",
    "    ZERO = 1\n",
    "    NONZERO = 2\n",
    "    \n",
    "    def __repr__(self):\n",
    "        return self.name"
   ]
  },
  {
   "cell_type": "code",
   "execution_count": 49,
   "id": "86fcceb4",
   "metadata": {
    "slideshow": {
     "slide_type": "slide"
    }
   },
   "outputs": [],
   "source": [
    "class Lattice(object):\n",
    "    def __init__(self, elements, join_func, meet_func):\n",
    "        self.elements = elements\n",
    "        self.join = join_func\n",
    "        self.meet = meet_func\n",
    "\n",
    "    def wrap(self, object):\n",
    "        return LatticeElement(self, object)\n",
    "\n",
    "    def element_by_index(self, index):\n",
    "        return LatticeElement(self, self.elements[index])\n",
    "\n",
    "    @property\n",
    "    def top(self):\n",
    "        top = self.wrap(self.elements[0])\n",
    "        for element in self.elements[1:]:\n",
    "            top |= self.wrap(element)\n",
    "        return top\n",
    "\n",
    "    @property\n",
    "    def bottom(self):\n",
    "        bottom = self.wrap(self.elements[0])\n",
    "        for element in self.elements[1:]:\n",
    "            bottom &= self.wrap(element)\n",
    "        return bottom"
   ]
  },
  {
   "cell_type": "code",
   "execution_count": 50,
   "id": "41e49fab",
   "metadata": {
    "slideshow": {
     "slide_type": "slide"
    }
   },
   "outputs": [],
   "source": [
    "class LatticeElement():\n",
    "    def __init__(self, lattice, element):\n",
    "        if element not in lattice.elements: raise ValueError('The given value is not a lattice element')\n",
    "        self.lattice = lattice\n",
    "        self.index = lattice.elements.index(element)\n",
    "\n",
    "    @property\n",
    "    def unwrap(self):\n",
    "        return self.lattice.elements[self.index]\n",
    "\n",
    "    def __and__(self, b):\n",
    "        # a.__and__(b) <=> a & b <=> meet(a,b)\n",
    "        return LatticeElement(self.lattice, self.lattice.meet(self.unwrap, b.unwrap))\n",
    "\n",
    "    def __or__(self, b):\n",
    "        # a.__or__(b) <=> a | b <=> join(a,b)\n",
    "        return LatticeElement(self.lattice, self.lattice.join(self.unwrap, b.unwrap))\n",
    "\n",
    "    def __eq__(self, b):\n",
    "        # a.__eq__(b) <=> a = b <=> join(a,b)\n",
    "        return self.unwrap == b.unwrap\n",
    "\n",
    "    def __le__(self, b):\n",
    "        # a <= b if and only if a = a & b,\n",
    "        # or\n",
    "        # a <= b if and only if b = a | b,\n",
    "        a = self\n",
    "        return ( a == a & b ) or ( b == a | b )\n",
    "\n",
    "    def __str__(self):\n",
    "        return str(self.unwrap)"
   ]
  },
  {
   "cell_type": "code",
   "execution_count": 51,
   "id": "bcdacf77",
   "metadata": {
    "slideshow": {
     "slide_type": "slide"
    }
   },
   "outputs": [],
   "source": [
    "powerset = [set(), {IntegerValue.ZERO}, {IntegerValue.NONZERO}, {IntegerValue.ZERO, IntegerValue.NONZERO}]"
   ]
  },
  {
   "cell_type": "code",
   "execution_count": 52,
   "id": "66b7d541",
   "metadata": {
    "slideshow": {
     "slide_type": "fragment"
    }
   },
   "outputs": [],
   "source": [
    "def intersection(a, b):\n",
    "    return a & b \n",
    "\n",
    "def union(a, b):\n",
    "    return a | b "
   ]
  },
  {
   "cell_type": "code",
   "execution_count": 53,
   "id": "b7b6b757",
   "metadata": {
    "slideshow": {
     "slide_type": "fragment"
    }
   },
   "outputs": [],
   "source": [
    "join = union\n",
    "meet = intersection\n",
    "\n",
    "zero_lattice = Lattice(powerset, join, meet)"
   ]
  },
  {
   "cell_type": "code",
   "execution_count": 54,
   "id": "40b64b4e",
   "metadata": {
    "slideshow": {
     "slide_type": "fragment"
    }
   },
   "outputs": [],
   "source": [
    "zero = zero_lattice.wrap({ IntegerValue.ZERO })\n",
    "nonzero =  zero_lattice.wrap({ IntegerValue.NONZERO })\n",
    "maybezero = zero_lattice.wrap({ IntegerValue.ZERO, IntegerValue.NONZERO })"
   ]
  },
  {
   "cell_type": "code",
   "execution_count": 55,
   "id": "27cefedf",
   "metadata": {
    "slideshow": {
     "slide_type": "slide"
    }
   },
   "outputs": [],
   "source": [
    "from functools import singledispatch"
   ]
  },
  {
   "cell_type": "code",
   "execution_count": 56,
   "id": "13c6067b",
   "metadata": {
    "slideshow": {
     "slide_type": "fragment"
    }
   },
   "outputs": [],
   "source": [
    "@singledispatch\n",
    "def alpha(arg):\n",
    "    raise NotImplementedError(f\"Cannot abstract {arg}\") "
   ]
  },
  {
   "cell_type": "code",
   "execution_count": 57,
   "id": "dd634bdb",
   "metadata": {
    "slideshow": {
     "slide_type": "fragment"
    }
   },
   "outputs": [],
   "source": [
    "@alpha.register(int)\n",
    "def alpha_number(number):\n",
    "    if number == 0:\n",
    "        return zero\n",
    "    else:\n",
    "        return nonzero"
   ]
  },
  {
   "cell_type": "code",
   "execution_count": 58,
   "id": "98014995",
   "metadata": {
    "slideshow": {
     "slide_type": "fragment"
    }
   },
   "outputs": [],
   "source": [
    "def abstract_addition(op1, op2):\n",
    "    if op1 == zero_lattice.bottom or op2 == zero_lattice.bottom:\n",
    "        return zero_lattice.bottom\n",
    "    elif op1 == zero:\n",
    "        if  op2 == zero:\n",
    "            return zero\n",
    "        elif op2 == nonzero:\n",
    "            return nonzero\n",
    "    elif op2 == zero and op1 == nonzero:\n",
    "            return nonzero\n",
    "    else:\n",
    "        return maybezero"
   ]
  },
  {
   "cell_type": "code",
   "execution_count": 59,
   "id": "a8a07503",
   "metadata": {
    "slideshow": {
     "slide_type": "slide"
    }
   },
   "outputs": [],
   "source": [
    "abstract_subtraction = abstract_addition"
   ]
  },
  {
   "cell_type": "code",
   "execution_count": 60,
   "id": "01c4493a",
   "metadata": {
    "slideshow": {
     "slide_type": "fragment"
    }
   },
   "outputs": [],
   "source": [
    "def abstract_multiplication(op1, op2):\n",
    "    if op1 == zero or op2 == zero:\n",
    "        return zero\n",
    "    elif op1 == nonzero and op2 == nonzero:\n",
    "        return nonzero\n",
    "    elif op1 == maybezero and op2 == maybezero:\n",
    "            return maybezero\n",
    "    else:\n",
    "        return zero_lattice.bottom"
   ]
  },
  {
   "cell_type": "code",
   "execution_count": 61,
   "id": "65b6ecc6",
   "metadata": {
    "slideshow": {
     "slide_type": "fragment"
    }
   },
   "outputs": [],
   "source": [
    "def abstract_division(op1, op2):\n",
    "    if op2 == zero:\n",
    "        return zero_lattice.bottom\n",
    "    elif op1 == zero_lattice.bottom:\n",
    "        return zero_lattice.bottom\n",
    "    elif op1 == zero:\n",
    "        return zero\n",
    "    elif op1 == nonzero and op2 == nonzero:\n",
    "        return nonzero\n",
    "    elif op1 == nonzero and op2 == maybezero:\n",
    "        return nonzero\n",
    "    elif op1 == zero_lattice.bottom:\n",
    "        return zero_lattice.bottom\n",
    "    else:\n",
    "        return maybezero"
   ]
  },
  {
   "cell_type": "markdown",
   "id": "c958675c",
   "metadata": {
    "slideshow": {
     "slide_type": "slide"
    }
   },
   "source": [
    "### Abstract interpretation"
   ]
  },
  {
   "cell_type": "markdown",
   "id": "24340d8f",
   "metadata": {
    "slideshow": {
     "slide_type": "skip"
    }
   },
   "source": [
    "As a first change to the last chapter, we need to add code to handle method calls. Let's re-introduce our transfer function for the zero analysis. This is identical code to last time, but in preparation for the coming changes we include the CFG node a statement originates from (though we don't make use of this for now)."
   ]
  },
  {
   "cell_type": "code",
   "execution_count": 62,
   "id": "6bb471d2",
   "metadata": {
    "slideshow": {
     "slide_type": "fragment"
    }
   },
   "outputs": [],
   "source": [
    "@singledispatch\n",
    "def alpha(arg, cfg_node, values):\n",
    "    raise NotImplementedError(f\"Cannot abstract {arg}\") "
   ]
  },
  {
   "cell_type": "code",
   "execution_count": 63,
   "id": "16e76392",
   "metadata": {
    "slideshow": {
     "slide_type": "fragment"
    }
   },
   "outputs": [],
   "source": [
    "@alpha.register(int)\n",
    "def alpha_number(number, cfg_node, values = {}):\n",
    "    if number == 0:\n",
    "        return zero\n",
    "    else:\n",
    "        return nonzero"
   ]
  },
  {
   "cell_type": "code",
   "execution_count": 64,
   "id": "b84b472d",
   "metadata": {
    "slideshow": {
     "slide_type": "fragment"
    }
   },
   "outputs": [],
   "source": [
    "@alpha.register(javalang.tree.Literal)\n",
    "def alpha_literal(lit, cfg_node, values):\n",
    "    return alpha(lit.value, cfg_node, values)"
   ]
  },
  {
   "cell_type": "code",
   "execution_count": 65,
   "id": "c93361cd",
   "metadata": {
    "slideshow": {
     "slide_type": "fragment"
    }
   },
   "outputs": [],
   "source": [
    "@alpha.register(javalang.tree.MemberReference)\n",
    "def alpha_member(member, cfg_node, values):\n",
    "    if member.member in values:\n",
    "        return values[member.member]\n",
    "    else:\n",
    "        return zero_lattice.bottom"
   ]
  },
  {
   "cell_type": "code",
   "execution_count": 66,
   "id": "60294426",
   "metadata": {
    "slideshow": {
     "slide_type": "fragment"
    }
   },
   "outputs": [],
   "source": [
    "@alpha.register(str)\n",
    "def alpha_string(string, context, values):\n",
    "    return alpha_number((int(string)), context, values)"
   ]
  },
  {
   "cell_type": "code",
   "execution_count": 67,
   "id": "73c80bcf",
   "metadata": {
    "slideshow": {
     "slide_type": "slide"
    }
   },
   "outputs": [],
   "source": [
    "@alpha.register(javalang.tree.Assignment)\n",
    "def alpha_assignment(assignment, cfg_node, values):\n",
    "    if not isinstance(assignment.expressionl, javalang.tree.MemberReference):\n",
    "        raise NotImplementError(f\"Assignment not implemented for {assignment.expressionl}\")\n",
    "\n",
    "    var = assignment.expressionl.member\n",
    "    values[var] = alpha(assignment.value, cfg_node, values)    "
   ]
  },
  {
   "cell_type": "code",
   "execution_count": 68,
   "id": "a251f30c",
   "metadata": {
    "slideshow": {
     "slide_type": "fragment"
    }
   },
   "outputs": [],
   "source": [
    "@alpha.register(javalang.tree.BinaryOperation)\n",
    "def alpha_operation(operation, cfg_node, values):\n",
    "    lhs = alpha(operation.operandl, cfg_node, values)\n",
    "    rhs = alpha(operation.operandr, cfg_node, values)\n",
    "    op  = operation.operator\n",
    "    if op == \"+\":\n",
    "        return abstract_addition(lhs, rhs)\n",
    "    elif op == \"-\":\n",
    "        return abstract_subtraction(lhs, rhs)\n",
    "    elif op == \"*\":\n",
    "        return abstract_multiplication(lhs, rhs)\n",
    "    elif op == \"/\":\n",
    "        return abstract_division(lhs, rhs)\n",
    "    else:\n",
    "        raise NotImplementedError(f\"Operator not implemented: {op}\") "
   ]
  },
  {
   "cell_type": "code",
   "execution_count": 69,
   "id": "c5aefc93",
   "metadata": {
    "slideshow": {
     "slide_type": "slide"
    }
   },
   "outputs": [],
   "source": [
    "@alpha.register(javalang.tree.LocalVariableDeclaration)\n",
    "def alpha_declaration(declaration, cfg_node, values):\n",
    "    var = declaration.declarators[0].name\n",
    "    value = alpha(declaration.declarators[0].initializer, cfg_node, values)\n",
    "    values[var] = value"
   ]
  },
  {
   "cell_type": "code",
   "execution_count": 70,
   "id": "e96db95c",
   "metadata": {
    "slideshow": {
     "slide_type": "fragment"
    }
   },
   "outputs": [],
   "source": [
    "@alpha.register(javalang.tree.StatementExpression)\n",
    "def alpha_statement(statement, cfg_node, values):\n",
    "    alpha(statement.expression, cfg_node, values)"
   ]
  },
  {
   "cell_type": "code",
   "execution_count": 71,
   "id": "4fe956f8",
   "metadata": {
    "slideshow": {
     "slide_type": "slide"
    }
   },
   "outputs": [],
   "source": [
    "@alpha.register(javalang.tree.WhileStatement)\n",
    "def alpha_while(whilestatement, cfg_node, values):\n",
    "    pass"
   ]
  },
  {
   "cell_type": "code",
   "execution_count": 72,
   "id": "fa98325b",
   "metadata": {
    "slideshow": {
     "slide_type": "fragment"
    }
   },
   "outputs": [],
   "source": [
    "@alpha.register(javalang.tree.ReturnStatement)\n",
    "def alpha_return(statement, cfg_node, values):\n",
    "    pass"
   ]
  },
  {
   "cell_type": "code",
   "execution_count": 73,
   "id": "2ae62d86",
   "metadata": {
    "slideshow": {
     "slide_type": "fragment"
    }
   },
   "outputs": [],
   "source": [
    "@alpha.register(javalang.tree.IfStatement)\n",
    "def alpha_if(statement, cfg_node, values):\n",
    "    pass"
   ]
  },
  {
   "cell_type": "code",
   "execution_count": 74,
   "id": "d31da051",
   "metadata": {
    "slideshow": {
     "slide_type": "fragment"
    }
   },
   "outputs": [],
   "source": [
    "@alpha.register(javalang.tree.MethodDeclaration)\n",
    "def alpha_method(statement, cfg_node, values):\n",
    "    pass"
   ]
  },
  {
   "cell_type": "markdown",
   "id": "5fbfd639",
   "metadata": {
    "slideshow": {
     "slide_type": "skip"
    }
   },
   "source": [
    "Last time we did not support method calls. For starters, we can just assume that anything can happen with a method call."
   ]
  },
  {
   "cell_type": "code",
   "execution_count": 75,
   "id": "d19a65b9",
   "metadata": {
    "slideshow": {
     "slide_type": "slide"
    }
   },
   "outputs": [],
   "source": [
    "@alpha.register(javalang.tree.MethodInvocation)\n",
    "def alpha_methodcall(statement, cfg_node, values):\n",
    "    \n",
    "    # Conservative: Can be anything\n",
    "    return maybezero"
   ]
  },
  {
   "cell_type": "code",
   "execution_count": 76,
   "id": "8a226899",
   "metadata": {
    "slideshow": {
     "slide_type": "fragment"
    }
   },
   "outputs": [],
   "source": [
    "def alpha_trans(node, node2, in_facts):\n",
    "    result = in_facts.copy()\n",
    "    alpha(node.ast_node, node, result.values)\n",
    "\n",
    "    return result"
   ]
  },
  {
   "cell_type": "markdown",
   "id": "ca80108a",
   "metadata": {
    "slideshow": {
     "slide_type": "skip"
    }
   },
   "source": [
    "First, let's apply the analysis directly to the method `foo`."
   ]
  },
  {
   "cell_type": "code",
   "execution_count": 77,
   "id": "f513aba1",
   "metadata": {
    "slideshow": {
     "slide_type": "slide"
    }
   },
   "outputs": [],
   "source": [
    "P = ProgramLattice(variables(cfg1), zero_lattice)"
   ]
  },
  {
   "cell_type": "code",
   "execution_count": 78,
   "id": "34b56497",
   "metadata": {
    "slideshow": {
     "slide_type": "fragment"
    }
   },
   "outputs": [],
   "source": [
    "analysis = DataFlowAnalysis(cfg1, P, alpha_trans, False)"
   ]
  },
  {
   "cell_type": "code",
   "execution_count": 79,
   "id": "2dcd8b54",
   "metadata": {
    "scrolled": true,
    "slideshow": {
     "slide_type": "fragment"
    }
   },
   "outputs": [],
   "source": [
    "analysis.apply()"
   ]
  },
  {
   "cell_type": "code",
   "execution_count": 80,
   "id": "07547713",
   "metadata": {
    "slideshow": {
     "slide_type": "slide"
    }
   },
   "outputs": [
    {
     "name": "stdout",
     "output_type": "stream",
     "text": [
      "foo_Start: y: set()\n",
      "x: set()\n",
      "z: set()\n",
      "\n",
      "foo_End: y: {NONZERO, ZERO}\n",
      "x: {NONZERO}\n",
      "z: {NONZERO}\n",
      "\n",
      "foo_4: y: set()\n",
      "x: {NONZERO}\n",
      "z: set()\n",
      "\n",
      "foo_5: y: {NONZERO, ZERO}\n",
      "x: {NONZERO}\n",
      "z: set()\n",
      "\n",
      "foo_6: y: {NONZERO, ZERO}\n",
      "x: {NONZERO}\n",
      "z: {NONZERO}\n",
      "\n",
      "foo_8: y: {NONZERO, ZERO}\n",
      "x: {NONZERO}\n",
      "z: {NONZERO}\n",
      "\n"
     ]
    }
   ],
   "source": [
    "for node, facts in analysis.facts.items():\n",
    "    print(f\"{node}: {facts}\")"
   ]
  },
  {
   "cell_type": "code",
   "execution_count": 81,
   "id": "249e3f88",
   "metadata": {
    "slideshow": {
     "slide_type": "fragment"
    }
   },
   "outputs": [
    {
     "name": "stdout",
     "output_type": "stream",
     "text": [
      "  1 : \n",
      "  2 :   public int foo() {\n",
      "  3 : \n",
      "  4 :     int x = 5;\n",
      "  5 :     int y = bar(x);\n",
      "  6 :     int z = x/y;\n",
      "  7 : \n",
      "  8 :     return z;\n",
      "  9 :   }\n",
      " 10 : \n"
     ]
    }
   ],
   "source": [
    "for i, line in enumerate(code1.split('\\n')):\n",
    "    print(str(i + 1).rjust(3, ' '), ':', line)"
   ]
  },
  {
   "cell_type": "code",
   "execution_count": 82,
   "id": "d78f15e0",
   "metadata": {
    "slideshow": {
     "slide_type": "slide"
    }
   },
   "outputs": [],
   "source": [
    "def check_divisionbyzero(cfg):\n",
    "    for node in cfg.nodes():\n",
    "        for ast_node in get_children(node.ast_node):\n",
    "            if isinstance(ast_node, javalang.tree.BinaryOperation):\n",
    "                if ast_node.operator == \"/\" and isinstance(ast_node.operandr, javalang.tree.MemberReference):\n",
    "                    if zero == analysis.facts[node].values[ast_node.operandr.member]:\n",
    "                        print(f\"Division by zero in line {node.ast_node.position.line - 1}\")\n",
    "                    elif zero <= analysis.facts[node].values[ast_node.operandr.member]:\n",
    "                        print(f\"Potential division by zero in line {node.ast_node.position.line - 1}\")"
   ]
  },
  {
   "cell_type": "code",
   "execution_count": 83,
   "id": "1d115f89",
   "metadata": {
    "slideshow": {
     "slide_type": "fragment"
    }
   },
   "outputs": [
    {
     "name": "stdout",
     "output_type": "stream",
     "text": [
      "Potential division by zero in line 6\n"
     ]
    }
   ],
   "source": [
    "check_divisionbyzero(cfg1)"
   ]
  },
  {
   "cell_type": "markdown",
   "id": "daa7ae9f",
   "metadata": {
    "slideshow": {
     "slide_type": "skip"
    }
   },
   "source": [
    "This analysis assumes that there can be a division by zero exception in our division, since we did not consider what the call to `bar` actually returns and just assumed it can be anything. However, we know this cannot be the case since we pass in a non-zero argument to `bar`, and it just returns its input again."
   ]
  },
  {
   "cell_type": "markdown",
   "id": "b8900200",
   "metadata": {
    "slideshow": {
     "slide_type": "slide"
    }
   },
   "source": [
    "### Interprocedural analysis"
   ]
  },
  {
   "cell_type": "markdown",
   "id": "d7557716",
   "metadata": {
    "slideshow": {
     "slide_type": "skip"
    }
   },
   "source": [
    "To generalise this to an interprocedural analysis, we need to relax our assumption that methods return anything, and instead descend into the super-cfg during our analysis."
   ]
  },
  {
   "cell_type": "markdown",
   "id": "3b8f0811",
   "metadata": {
    "slideshow": {
     "slide_type": "skip"
    }
   },
   "source": [
    "We need some way to pass values through method parameters and return values. For now, we'll just use a dedicated variable to represent the return value of the function; therefore, we need to make sure this is included in our set of variables."
   ]
  },
  {
   "cell_type": "code",
   "execution_count": 84,
   "id": "5f1dc60d",
   "metadata": {
    "slideshow": {
     "slide_type": "fragment"
    }
   },
   "outputs": [],
   "source": [
    "def variables(cfg):\n",
    "    variables = set()\n",
    "    methods = set()\n",
    "    \n",
    "    for node in cfg.nodes():\n",
    "        methods.add(node.method_name)\n",
    "        for child in get_children(node.ast_node):\n",
    "            if isinstance(child, javalang.tree.MemberReference):\n",
    "                variables.add(child.member)\n",
    "\n",
    "    for method in methods:\n",
    "        variables.add(\"return_\"+method)\n",
    "    \n",
    "    return variables"
   ]
  },
  {
   "cell_type": "markdown",
   "id": "c6f006bd",
   "metadata": {
    "slideshow": {
     "slide_type": "skip"
    }
   },
   "source": [
    "This variable is set in return statements."
   ]
  },
  {
   "cell_type": "code",
   "execution_count": 85,
   "id": "6e5f425d",
   "metadata": {
    "slideshow": {
     "slide_type": "slide"
    }
   },
   "outputs": [],
   "source": [
    "@alpha.register(javalang.tree.ReturnStatement)\n",
    "def alpha_return(statement, cfg_node, values):\n",
    "    values[\"return_\"+cfg_node.method_name] = alpha(statement.expression, cfg_node, values)\n",
    "    return values[\"return_\"+cfg_node.method_name]"
   ]
  },
  {
   "cell_type": "markdown",
   "id": "0d1e55b2",
   "metadata": {
    "slideshow": {
     "slide_type": "skip"
    }
   },
   "source": [
    "Method calls are used in variable declarations and assignments, we if we encounter a method call we let our abstraction return the return value stored for this call."
   ]
  },
  {
   "cell_type": "code",
   "execution_count": 86,
   "id": "b6d66bf0",
   "metadata": {
    "slideshow": {
     "slide_type": "slide"
    }
   },
   "outputs": [],
   "source": [
    "@alpha.register(javalang.tree.MethodInvocation)\n",
    "def alpha_methodcall(statement, cfg_node, values):\n",
    "\n",
    "    ctx = f\"return_{statement.member}\"\n",
    "    if ctx in values:\n",
    "        return values[ctx]\n",
    "    else:\n",
    "        return zero_lattice.bottom"
   ]
  },
  {
   "cell_type": "markdown",
   "id": "c173db05",
   "metadata": {
    "slideshow": {
     "slide_type": "skip"
    }
   },
   "source": [
    "Our transfer function needs to handle passing the parameters into functions in the call nodes. We just assign the values used to the variables that represent the arguments in the called method."
   ]
  },
  {
   "cell_type": "code",
   "execution_count": 87,
   "id": "41099ac0",
   "metadata": {
    "slideshow": {
     "slide_type": "slide"
    }
   },
   "outputs": [],
   "source": [
    "def alpha_trans(node, target_node, in_facts):\n",
    "    result = in_facts.copy()\n",
    "    \n",
    "    if isinstance(node, CallNode):\n",
    "        for _, call in node.ast_node.filter(javalang.tree.MethodInvocation):\n",
    "            called_method = methods[call.member]\n",
    "            num_argument = 0\n",
    "            for argument in call.arguments:\n",
    "                var = called_method.parameters[num_argument].name\n",
    "                result.values[var] |= alpha(argument, target_node, result.values)\n",
    "                num_argument += 1\n",
    "    elif node.ast_node == \"End\":\n",
    "        pass\n",
    "    else:    \n",
    "        alpha(node.ast_node, node, result.values)\n",
    "\n",
    "    return result"
   ]
  },
  {
   "cell_type": "markdown",
   "id": "388763b1",
   "metadata": {
    "slideshow": {
     "slide_type": "skip"
    }
   },
   "source": [
    "The analysis now has to be applied to the super-CFG:"
   ]
  },
  {
   "cell_type": "code",
   "execution_count": 88,
   "id": "ea4c474e",
   "metadata": {
    "slideshow": {
     "slide_type": "slide"
    }
   },
   "outputs": [],
   "source": [
    "P = ProgramLattice(variables(scfg), zero_lattice)"
   ]
  },
  {
   "cell_type": "code",
   "execution_count": 89,
   "id": "079481b5",
   "metadata": {
    "slideshow": {
     "slide_type": "fragment"
    }
   },
   "outputs": [],
   "source": [
    "analysis = DataFlowAnalysis(scfg, P, alpha_trans, False)"
   ]
  },
  {
   "cell_type": "code",
   "execution_count": 90,
   "id": "1e704a22",
   "metadata": {
    "scrolled": true,
    "slideshow": {
     "slide_type": "fragment"
    }
   },
   "outputs": [],
   "source": [
    "analysis.apply()"
   ]
  },
  {
   "cell_type": "code",
   "execution_count": 91,
   "id": "84b47808",
   "metadata": {
    "slideshow": {
     "slide_type": "fragment"
    }
   },
   "outputs": [],
   "source": [
    "check_divisionbyzero(scfg)"
   ]
  },
  {
   "cell_type": "markdown",
   "id": "3beb4d97",
   "metadata": {
    "slideshow": {
     "slide_type": "skip"
    }
   },
   "source": [
    "No false positive is reported!"
   ]
  },
  {
   "cell_type": "markdown",
   "id": "66f0222e",
   "metadata": {
    "slideshow": {
     "slide_type": "skip"
    }
   },
   "source": [
    "What if there is an actual division by zero?"
   ]
  },
  {
   "cell_type": "code",
   "execution_count": 92,
   "id": "821fa779",
   "metadata": {
    "slideshow": {
     "slide_type": "slide"
    }
   },
   "outputs": [],
   "source": [
    "code1 = \"\"\"\n",
    "  public int foo() {\n",
    "\n",
    "    int x = 0;\n",
    "    int y = bar(x);\n",
    "    int z = x/y;\n",
    "\n",
    "    return z;\n",
    "  }\n",
    "\"\"\""
   ]
  },
  {
   "cell_type": "code",
   "execution_count": 93,
   "id": "b3a92d1f",
   "metadata": {
    "slideshow": {
     "slide_type": "fragment"
    }
   },
   "outputs": [],
   "source": [
    "tree1 = parse_method(code1)\n",
    "tree2 = parse_method(code2)"
   ]
  },
  {
   "cell_type": "code",
   "execution_count": 94,
   "id": "2cef11a5",
   "metadata": {
    "slideshow": {
     "slide_type": "fragment"
    }
   },
   "outputs": [],
   "source": [
    "cfg1 = CFGBuilder(tree1).create_graph()\n",
    "cfg2 = CFGBuilder(tree2).create_graph()"
   ]
  },
  {
   "cell_type": "code",
   "execution_count": 95,
   "id": "d243e6f2",
   "metadata": {
    "slideshow": {
     "slide_type": "fragment"
    }
   },
   "outputs": [],
   "source": [
    "scfg = build_super_cfg(cfg1)"
   ]
  },
  {
   "cell_type": "code",
   "execution_count": 96,
   "id": "67ab660d",
   "metadata": {
    "slideshow": {
     "slide_type": "fragment"
    }
   },
   "outputs": [],
   "source": [
    "analysis = DataFlowAnalysis(scfg, P, alpha_trans, False)"
   ]
  },
  {
   "cell_type": "code",
   "execution_count": 97,
   "id": "2ab37baf",
   "metadata": {
    "slideshow": {
     "slide_type": "fragment"
    }
   },
   "outputs": [],
   "source": [
    "analysis.apply()"
   ]
  },
  {
   "cell_type": "code",
   "execution_count": 98,
   "id": "9e0ff062",
   "metadata": {
    "slideshow": {
     "slide_type": "fragment"
    }
   },
   "outputs": [
    {
     "name": "stdout",
     "output_type": "stream",
     "text": [
      "Division by zero in line 6\n"
     ]
    }
   ],
   "source": [
    "check_divisionbyzero(scfg)"
   ]
  },
  {
   "cell_type": "markdown",
   "id": "1c13cab0",
   "metadata": {
    "slideshow": {
     "slide_type": "slide"
    }
   },
   "source": [
    "## Imprecision of interprocedural analysis"
   ]
  },
  {
   "cell_type": "markdown",
   "id": "359153ef",
   "metadata": {
    "slideshow": {
     "slide_type": "skip"
    }
   },
   "source": [
    "Let's now consider a case where we call the same function twice."
   ]
  },
  {
   "cell_type": "code",
   "execution_count": 99,
   "id": "133859dd",
   "metadata": {
    "slideshow": {
     "slide_type": "fragment"
    }
   },
   "outputs": [],
   "source": [
    "code1 = \"\"\"\n",
    "  public int foo() {\n",
    "\n",
    "    int x = bar(0);\n",
    "    int y = bar(5);\n",
    "    \n",
    "    z = 5/x;\n",
    "    z = 5/y;\n",
    "\n",
    "    return z;\n",
    "  }\n",
    "\"\"\""
   ]
  },
  {
   "cell_type": "code",
   "execution_count": 100,
   "id": "2b52dfa1",
   "metadata": {
    "slideshow": {
     "slide_type": "fragment"
    }
   },
   "outputs": [],
   "source": [
    "code2 = \"\"\"\n",
    "  public int bar(int a) {\n",
    "    return a;\n",
    "  }\n",
    "\"\"\""
   ]
  },
  {
   "cell_type": "code",
   "execution_count": 101,
   "id": "ee401e25",
   "metadata": {
    "slideshow": {
     "slide_type": "fragment"
    }
   },
   "outputs": [],
   "source": [
    "tree1 = parse_method(code1)\n",
    "tree2 = parse_method(code2)\n",
    "\n",
    "cfg1 = CFGBuilder(tree1).create_graph()\n",
    "cfg2 = CFGBuilder(tree2).create_graph()\n",
    "\n",
    "scfg = scfg = build_super_cfg(cfg1)"
   ]
  },
  {
   "cell_type": "code",
   "execution_count": 102,
   "id": "c85f91a7",
   "metadata": {
    "scrolled": true,
    "slideshow": {
     "slide_type": "slide"
    }
   },
   "outputs": [
    {
     "data": {
      "image/svg+xml": [
       "<?xml version=\"1.0\" encoding=\"UTF-8\" standalone=\"no\"?>\n",
       "<!DOCTYPE svg PUBLIC \"-//W3C//DTD SVG 1.1//EN\"\n",
       " \"http://www.w3.org/Graphics/SVG/1.1/DTD/svg11.dtd\">\n",
       "<!-- Generated by graphviz version 3.0.0 (20220226.1711)\n",
       " -->\n",
       "<!-- Pages: 1 -->\n",
       "<svg width=\"475pt\" height=\"580pt\"\n",
       " viewBox=\"0.00 0.00 474.62 580.00\" xmlns=\"http://www.w3.org/2000/svg\" xmlns:xlink=\"http://www.w3.org/1999/xlink\">\n",
       "<g id=\"graph0\" class=\"graph\" transform=\"scale(1 1) rotate(0) translate(4 576)\">\n",
       "<polygon fill=\"white\" stroke=\"transparent\" points=\"-4,4 -4,-576 470.62,-576 470.62,4 -4,4\"/>\n",
       "<g id=\"clust1\" class=\"cluster\">\n",
       "<title>cluster_bar</title>\n",
       "<polygon fill=\"none\" stroke=\"black\" points=\"290,-368 290,-564 392,-564 392,-368 290,-368\"/>\n",
       "</g>\n",
       "<g id=\"clust2\" class=\"cluster\">\n",
       "<title>cluster_foo</title>\n",
       "<polygon fill=\"none\" stroke=\"black\" points=\"8,-8 8,-348 402,-348 402,-8 8,-8\"/>\n",
       "</g>\n",
       "<!-- bar_Start -->\n",
       "<g id=\"node1\" class=\"node\">\n",
       "<title>bar_Start</title>\n",
       "<ellipse fill=\"none\" stroke=\"black\" cx=\"341\" cy=\"-538\" rx=\"42.79\" ry=\"18\"/>\n",
       "<text text-anchor=\"middle\" x=\"341\" y=\"-534.3\" font-family=\"Times,serif\" font-size=\"14.00\">bar_Start</text>\n",
       "</g>\n",
       "<!-- bar_3 -->\n",
       "<g id=\"node3\" class=\"node\">\n",
       "<title>bar_3</title>\n",
       "<ellipse fill=\"none\" stroke=\"black\" cx=\"340\" cy=\"-466\" rx=\"30.59\" ry=\"18\"/>\n",
       "<text text-anchor=\"middle\" x=\"340\" y=\"-462.3\" font-family=\"Times,serif\" font-size=\"14.00\">bar_3</text>\n",
       "</g>\n",
       "<!-- bar_Start&#45;&gt;bar_3 -->\n",
       "<g id=\"edge5\" class=\"edge\">\n",
       "<title>bar_Start&#45;&gt;bar_3</title>\n",
       "<path fill=\"none\" stroke=\"black\" d=\"M334.88,-520.05C333.94,-512.23 333.56,-502.75 333.8,-493.98\"/>\n",
       "<polygon fill=\"black\" stroke=\"black\" points=\"337.3,-493.97 334.38,-483.79 330.31,-493.57 337.3,-493.97\"/>\n",
       "</g>\n",
       "<!-- bar_Start&#45;&gt;bar_3 -->\n",
       "<g id=\"edge10\" class=\"edge\">\n",
       "<title>bar_Start&#45;&gt;bar_3</title>\n",
       "<path fill=\"none\" stroke=\"black\" d=\"M346.64,-520.05C347.35,-512.23 347.46,-502.75 346.98,-493.98\"/>\n",
       "<polygon fill=\"black\" stroke=\"black\" points=\"350.44,-493.45 346.1,-483.79 343.47,-494.05 350.44,-493.45\"/>\n",
       "</g>\n",
       "<!-- bar_End -->\n",
       "<g id=\"node2\" class=\"node\">\n",
       "<title>bar_End</title>\n",
       "<ellipse fill=\"none\" stroke=\"black\" cx=\"339\" cy=\"-394\" rx=\"40.09\" ry=\"18\"/>\n",
       "<text text-anchor=\"middle\" x=\"339\" y=\"-390.3\" font-family=\"Times,serif\" font-size=\"14.00\">bar_End</text>\n",
       "</g>\n",
       "<!-- foo_4 (Return) -->\n",
       "<g id=\"node10\" class=\"node\">\n",
       "<title>foo_4 (Return)</title>\n",
       "<ellipse fill=\"none\" stroke=\"black\" cx=\"330\" cy=\"-322\" rx=\"63.89\" ry=\"18\"/>\n",
       "<text text-anchor=\"middle\" x=\"330\" y=\"-318.3\" font-family=\"Times,serif\" font-size=\"14.00\">foo_4 (Return)</text>\n",
       "</g>\n",
       "<!-- bar_End&#45;&gt;foo_4 (Return) -->\n",
       "<g id=\"edge6\" class=\"edge\">\n",
       "<title>bar_End&#45;&gt;foo_4 (Return)</title>\n",
       "<path fill=\"none\" stroke=\"black\" d=\"M336.78,-375.7C335.78,-367.98 334.59,-358.71 333.49,-350.11\"/>\n",
       "<polygon fill=\"black\" stroke=\"black\" points=\"336.95,-349.58 332.2,-340.1 330,-350.47 336.95,-349.58\"/>\n",
       "</g>\n",
       "<!-- foo_5 (Return) -->\n",
       "<g id=\"node12\" class=\"node\">\n",
       "<title>foo_5 (Return)</title>\n",
       "<ellipse fill=\"none\" stroke=\"black\" cx=\"80\" cy=\"-322\" rx=\"63.89\" ry=\"18\"/>\n",
       "<text text-anchor=\"middle\" x=\"80\" y=\"-318.3\" font-family=\"Times,serif\" font-size=\"14.00\">foo_5 (Return)</text>\n",
       "</g>\n",
       "<!-- bar_End&#45;&gt;foo_5 (Return) -->\n",
       "<g id=\"edge11\" class=\"edge\">\n",
       "<title>bar_End&#45;&gt;foo_5 (Return)</title>\n",
       "<path fill=\"none\" stroke=\"black\" d=\"M303.22,-385.49C265.38,-377.28 204.07,-363.27 152,-348 143.79,-345.59 135.13,-342.8 126.77,-339.98\"/>\n",
       "<polygon fill=\"black\" stroke=\"black\" points=\"127.74,-336.62 117.14,-336.68 125.47,-343.24 127.74,-336.62\"/>\n",
       "</g>\n",
       "<!-- bar_3&#45;&gt;bar_End -->\n",
       "<g id=\"edge7\" class=\"edge\">\n",
       "<title>bar_3&#45;&gt;bar_End</title>\n",
       "<path fill=\"none\" stroke=\"black\" d=\"M333.88,-448.05C332.95,-440.35 332.58,-431.03 332.79,-422.36\"/>\n",
       "<polygon fill=\"black\" stroke=\"black\" points=\"336.29,-422.45 333.33,-412.28 329.3,-422.07 336.29,-422.45\"/>\n",
       "</g>\n",
       "<!-- bar_3&#45;&gt;bar_End -->\n",
       "<g id=\"edge12\" class=\"edge\">\n",
       "<title>bar_3&#45;&gt;bar_End</title>\n",
       "<path fill=\"none\" stroke=\"black\" d=\"M345.64,-448.05C346.34,-440.35 346.45,-431.03 346,-422.36\"/>\n",
       "<polygon fill=\"black\" stroke=\"black\" points=\"349.47,-421.95 345.16,-412.28 342.5,-422.53 349.47,-421.95\"/>\n",
       "</g>\n",
       "<!-- foo_Start -->\n",
       "<g id=\"node4\" class=\"node\">\n",
       "<title>foo_Start</title>\n",
       "<ellipse fill=\"none\" stroke=\"black\" cx=\"205\" cy=\"-322\" rx=\"43.59\" ry=\"18\"/>\n",
       "<text text-anchor=\"middle\" x=\"205\" y=\"-318.3\" font-family=\"Times,serif\" font-size=\"14.00\">foo_Start</text>\n",
       "</g>\n",
       "<!-- foo_4 (Call) -->\n",
       "<g id=\"node9\" class=\"node\">\n",
       "<title>foo_4 (Call)</title>\n",
       "<ellipse fill=\"none\" stroke=\"black\" cx=\"207\" cy=\"-250\" rx=\"53.89\" ry=\"18\"/>\n",
       "<text text-anchor=\"middle\" x=\"207\" y=\"-246.3\" font-family=\"Times,serif\" font-size=\"14.00\">foo_4 (Call)</text>\n",
       "</g>\n",
       "<!-- foo_Start&#45;&gt;foo_4 (Call) -->\n",
       "<g id=\"edge1\" class=\"edge\">\n",
       "<title>foo_Start&#45;&gt;foo_4 (Call)</title>\n",
       "<path fill=\"none\" stroke=\"black\" d=\"M205.49,-303.7C205.71,-295.98 205.98,-286.71 206.23,-278.11\"/>\n",
       "<polygon fill=\"black\" stroke=\"black\" points=\"209.72,-278.2 206.51,-268.1 202.73,-278 209.72,-278.2\"/>\n",
       "</g>\n",
       "<!-- foo_End -->\n",
       "<g id=\"node5\" class=\"node\">\n",
       "<title>foo_End</title>\n",
       "<ellipse fill=\"none\" stroke=\"black\" cx=\"80\" cy=\"-34\" rx=\"40.89\" ry=\"18\"/>\n",
       "<text text-anchor=\"middle\" x=\"80\" y=\"-30.3\" font-family=\"Times,serif\" font-size=\"14.00\">foo_End</text>\n",
       "</g>\n",
       "<!-- foo_7 -->\n",
       "<g id=\"node6\" class=\"node\">\n",
       "<title>foo_7</title>\n",
       "<ellipse fill=\"none\" stroke=\"black\" cx=\"80\" cy=\"-250\" rx=\"31.4\" ry=\"18\"/>\n",
       "<text text-anchor=\"middle\" x=\"80\" y=\"-246.3\" font-family=\"Times,serif\" font-size=\"14.00\">foo_7</text>\n",
       "</g>\n",
       "<!-- foo_8 -->\n",
       "<g id=\"node7\" class=\"node\">\n",
       "<title>foo_8</title>\n",
       "<ellipse fill=\"none\" stroke=\"black\" cx=\"80\" cy=\"-178\" rx=\"31.4\" ry=\"18\"/>\n",
       "<text text-anchor=\"middle\" x=\"80\" y=\"-174.3\" font-family=\"Times,serif\" font-size=\"14.00\">foo_8</text>\n",
       "</g>\n",
       "<!-- foo_7&#45;&gt;foo_8 -->\n",
       "<g id=\"edge2\" class=\"edge\">\n",
       "<title>foo_7&#45;&gt;foo_8</title>\n",
       "<path fill=\"none\" stroke=\"black\" d=\"M80,-231.7C80,-223.98 80,-214.71 80,-206.11\"/>\n",
       "<polygon fill=\"black\" stroke=\"black\" points=\"83.5,-206.1 80,-196.1 76.5,-206.1 83.5,-206.1\"/>\n",
       "</g>\n",
       "<!-- foo_10 -->\n",
       "<g id=\"node8\" class=\"node\">\n",
       "<title>foo_10</title>\n",
       "<ellipse fill=\"none\" stroke=\"black\" cx=\"80\" cy=\"-106\" rx=\"36\" ry=\"18\"/>\n",
       "<text text-anchor=\"middle\" x=\"80\" y=\"-102.3\" font-family=\"Times,serif\" font-size=\"14.00\">foo_10</text>\n",
       "</g>\n",
       "<!-- foo_8&#45;&gt;foo_10 -->\n",
       "<g id=\"edge3\" class=\"edge\">\n",
       "<title>foo_8&#45;&gt;foo_10</title>\n",
       "<path fill=\"none\" stroke=\"black\" d=\"M80,-159.7C80,-151.98 80,-142.71 80,-134.11\"/>\n",
       "<polygon fill=\"black\" stroke=\"black\" points=\"83.5,-134.1 80,-124.1 76.5,-134.1 83.5,-134.1\"/>\n",
       "</g>\n",
       "<!-- foo_10&#45;&gt;foo_End -->\n",
       "<g id=\"edge4\" class=\"edge\">\n",
       "<title>foo_10&#45;&gt;foo_End</title>\n",
       "<path fill=\"none\" stroke=\"black\" d=\"M80,-87.7C80,-79.98 80,-70.71 80,-62.11\"/>\n",
       "<polygon fill=\"black\" stroke=\"black\" points=\"83.5,-62.1 80,-52.1 76.5,-62.1 83.5,-62.1\"/>\n",
       "</g>\n",
       "<!-- foo_4 (Call)&#45;&gt;bar_Start -->\n",
       "<g id=\"edge8\" class=\"edge\">\n",
       "<title>foo_4 (Call)&#45;&gt;bar_Start</title>\n",
       "<path fill=\"none\" stroke=\"black\" d=\"M248.88,-261.65C305.73,-276.2 400.6,-300.87 403,-304 452.02,-368.04 411.48,-409.75 380,-484 375.61,-494.36 368.82,-504.6 362.13,-513.27\"/>\n",
       "<polygon fill=\"black\" stroke=\"black\" points=\"359.4,-511.08 355.83,-521.06 364.84,-515.49 359.4,-511.08\"/>\n",
       "</g>\n",
       "<!-- foo_5 (Call) -->\n",
       "<g id=\"node11\" class=\"node\">\n",
       "<title>foo_5 (Call)</title>\n",
       "<ellipse fill=\"none\" stroke=\"black\" cx=\"337\" cy=\"-250\" rx=\"53.89\" ry=\"18\"/>\n",
       "<text text-anchor=\"middle\" x=\"337\" y=\"-246.3\" font-family=\"Times,serif\" font-size=\"14.00\">foo_5 (Call)</text>\n",
       "</g>\n",
       "<!-- foo_4 (Return)&#45;&gt;foo_5 (Call) -->\n",
       "<g id=\"edge9\" class=\"edge\">\n",
       "<title>foo_4 (Return)&#45;&gt;foo_5 (Call)</title>\n",
       "<path fill=\"none\" stroke=\"black\" d=\"M331.73,-303.7C332.5,-295.98 333.43,-286.71 334.29,-278.11\"/>\n",
       "<polygon fill=\"black\" stroke=\"black\" points=\"337.78,-278.4 335.29,-268.1 330.81,-277.71 337.78,-278.4\"/>\n",
       "</g>\n",
       "<!-- foo_5 (Call)&#45;&gt;bar_Start -->\n",
       "<g id=\"edge13\" class=\"edge\">\n",
       "<title>foo_5 (Call)&#45;&gt;bar_Start</title>\n",
       "<path fill=\"none\" stroke=\"black\" d=\"M377.9,-261.82C399.2,-269.76 423.38,-282.93 436,-304 477.11,-372.63 476.51,-415.01 436,-484 424.96,-502.81 404.54,-515.43 385.46,-523.63\"/>\n",
       "<polygon fill=\"black\" stroke=\"black\" points=\"383.95,-520.46 375.95,-527.41 386.54,-526.96 383.95,-520.46\"/>\n",
       "</g>\n",
       "<!-- foo_5 (Return)&#45;&gt;foo_7 -->\n",
       "<g id=\"edge14\" class=\"edge\">\n",
       "<title>foo_5 (Return)&#45;&gt;foo_7</title>\n",
       "<path fill=\"none\" stroke=\"black\" d=\"M80,-303.7C80,-295.98 80,-286.71 80,-278.11\"/>\n",
       "<polygon fill=\"black\" stroke=\"black\" points=\"83.5,-278.1 80,-268.1 76.5,-278.1 83.5,-278.1\"/>\n",
       "</g>\n",
       "</g>\n",
       "</svg>\n"
      ],
      "text/plain": [
       "<graphviz.graphs.Digraph at 0x10a36d5b0>"
      ]
     },
     "execution_count": 102,
     "metadata": {},
     "output_type": "execute_result"
    }
   ],
   "source": [
    "scfg.dot()"
   ]
  },
  {
   "cell_type": "markdown",
   "id": "d76c15b8",
   "metadata": {
    "slideshow": {
     "slide_type": "skip"
    }
   },
   "source": [
    "Line 7 does not contain a division by zero exception, while line 8 does. What does our analysis say?"
   ]
  },
  {
   "cell_type": "code",
   "execution_count": 103,
   "id": "9dfd3bbd",
   "metadata": {
    "slideshow": {
     "slide_type": "slide"
    }
   },
   "outputs": [],
   "source": [
    "P = ProgramLattice(variables(scfg), zero_lattice)"
   ]
  },
  {
   "cell_type": "code",
   "execution_count": 104,
   "id": "9d663b7d",
   "metadata": {
    "slideshow": {
     "slide_type": "fragment"
    }
   },
   "outputs": [],
   "source": [
    "analysis = DataFlowAnalysis(scfg, P, alpha_trans, False)"
   ]
  },
  {
   "cell_type": "code",
   "execution_count": 105,
   "id": "53ac7198",
   "metadata": {
    "slideshow": {
     "slide_type": "fragment"
    }
   },
   "outputs": [],
   "source": [
    "analysis.apply()"
   ]
  },
  {
   "cell_type": "code",
   "execution_count": 106,
   "id": "c7bd706a",
   "metadata": {
    "slideshow": {
     "slide_type": "fragment"
    }
   },
   "outputs": [
    {
     "name": "stdout",
     "output_type": "stream",
     "text": [
      "Division by zero in line 7\n",
      "Potential division by zero in line 8\n"
     ]
    }
   ],
   "source": [
    "check_divisionbyzero(scfg)"
   ]
  },
  {
   "cell_type": "markdown",
   "id": "22beb9c1",
   "metadata": {
    "slideshow": {
     "slide_type": "skip"
    }
   },
   "source": [
    "There indeed is a division by zero in line 7, but line 8 is a false positive."
   ]
  },
  {
   "cell_type": "markdown",
   "id": "f33f30d8",
   "metadata": {
    "slideshow": {
     "slide_type": "slide"
    }
   },
   "source": [
    "## Cloning"
   ]
  },
  {
   "cell_type": "markdown",
   "id": "2f800776",
   "metadata": {
    "slideshow": {
     "slide_type": "skip"
    }
   },
   "source": [
    "There are multiple different strategies to create context-sensitive analyses. One easy approach is to simply clone the called methods."
   ]
  },
  {
   "cell_type": "code",
   "execution_count": 107,
   "id": "849039cf",
   "metadata": {
    "slideshow": {
     "slide_type": "slide"
    }
   },
   "outputs": [],
   "source": [
    "def build_super_cfg_clones(cfg):\n",
    "    graph = nx.DiGraph()\n",
    "    graph.add_edges_from(cfg.graph.edges())    \n",
    "    graph.add_nodes_from(cfg.graph.nodes())    \n",
    "    clones = {}  # To count how many clones there are of each method \n",
    "\n",
    "    for node in cfg.nodes():\n",
    "        calls = node.calls()\n",
    "        if node.calls():\n",
    "            for call in node.calls():\n",
    "                # Retrieve cfg2\n",
    "                cfg2 = CFGBuilder(methods[call.member]).create_graph()\n",
    "\n",
    "                num = 1\n",
    "                if call.member in clones:\n",
    "                    num = clones[call.member] + 1\n",
    "                clones[call.member]  = num\n",
    "\n",
    "                # Add all nodes and edges\n",
    "                for nod in cfg2.graph.nodes():\n",
    "                    nod.method_name += f\"_{num}\"\n",
    "                    nod.graph = graph\n",
    "                    graph.add_node(nod)\n",
    "                graph.add_edges_from(cfg2.graph.edges())\n",
    "\n",
    "                call_node = CallNode(graph, node.method_name, node.ast_node, cfg2.start)\n",
    "                return_node = ReturnNode(graph, node.method_name, node.ast_node, cfg2.end)\n",
    "                for p in graph.predecessors(node):                    \n",
    "                    graph.add_edge(p, call_node)\n",
    "                for p in graph.successors(node):\n",
    "                    graph.add_edge(return_node, p)\n",
    "                graph.remove_node(node)\n",
    "\n",
    "                graph.add_edge(call_node, cfg2.start)\n",
    "                graph.add_edge(cfg2.end, return_node)\n",
    "\n",
    "    return ProgramGraph(graph, cfg.start, cfg.end)\n"
   ]
  },
  {
   "cell_type": "code",
   "execution_count": 108,
   "id": "8f7b2f08",
   "metadata": {
    "scrolled": true,
    "slideshow": {
     "slide_type": "slide"
    }
   },
   "outputs": [],
   "source": [
    "scfg_clones = build_super_cfg_clones(cfg1)"
   ]
  },
  {
   "cell_type": "code",
   "execution_count": 109,
   "id": "49fa6147",
   "metadata": {
    "scrolled": true,
    "slideshow": {
     "slide_type": "fragment"
    }
   },
   "outputs": [
    {
     "data": {
      "image/svg+xml": [
       "<?xml version=\"1.0\" encoding=\"UTF-8\" standalone=\"no\"?>\n",
       "<!DOCTYPE svg PUBLIC \"-//W3C//DTD SVG 1.1//EN\"\n",
       " \"http://www.w3.org/Graphics/SVG/1.1/DTD/svg11.dtd\">\n",
       "<!-- Generated by graphviz version 3.0.0 (20220226.1711)\n",
       " -->\n",
       "<!-- Pages: 1 -->\n",
       "<svg width=\"436pt\" height=\"580pt\"\n",
       " viewBox=\"0.00 0.00 435.74 580.00\" xmlns=\"http://www.w3.org/2000/svg\" xmlns:xlink=\"http://www.w3.org/1999/xlink\">\n",
       "<g id=\"graph0\" class=\"graph\" transform=\"scale(1 1) rotate(0) translate(4 576)\">\n",
       "<polygon fill=\"white\" stroke=\"transparent\" points=\"-4,4 -4,-576 431.74,-576 431.74,4 -4,4\"/>\n",
       "<g id=\"clust1\" class=\"cluster\">\n",
       "<title>cluster_foo</title>\n",
       "<polygon fill=\"none\" stroke=\"black\" points=\"8,-8 8,-348 402,-348 402,-8 8,-8\"/>\n",
       "</g>\n",
       "<g id=\"clust2\" class=\"cluster\">\n",
       "<title>cluster_bar_2</title>\n",
       "<polygon fill=\"none\" stroke=\"black\" points=\"277,-368 277,-564 397,-564 397,-368 277,-368\"/>\n",
       "</g>\n",
       "<g id=\"clust3\" class=\"cluster\">\n",
       "<title>cluster_bar_1</title>\n",
       "<polygon fill=\"none\" stroke=\"black\" points=\"64,-368 64,-564 184,-564 184,-368 64,-368\"/>\n",
       "</g>\n",
       "<!-- foo_Start -->\n",
       "<g id=\"node1\" class=\"node\">\n",
       "<title>foo_Start</title>\n",
       "<ellipse fill=\"none\" stroke=\"black\" cx=\"60\" cy=\"-322\" rx=\"43.59\" ry=\"18\"/>\n",
       "<text text-anchor=\"middle\" x=\"60\" y=\"-318.3\" font-family=\"Times,serif\" font-size=\"14.00\">foo_Start</text>\n",
       "</g>\n",
       "<!-- foo_4 (Call) -->\n",
       "<g id=\"node6\" class=\"node\">\n",
       "<title>foo_4 (Call)</title>\n",
       "<ellipse fill=\"none\" stroke=\"black\" cx=\"70\" cy=\"-250\" rx=\"53.89\" ry=\"18\"/>\n",
       "<text text-anchor=\"middle\" x=\"70\" y=\"-246.3\" font-family=\"Times,serif\" font-size=\"14.00\">foo_4 (Call)</text>\n",
       "</g>\n",
       "<!-- foo_Start&#45;&gt;foo_4 (Call) -->\n",
       "<g id=\"edge1\" class=\"edge\">\n",
       "<title>foo_Start&#45;&gt;foo_4 (Call)</title>\n",
       "<path fill=\"none\" stroke=\"black\" d=\"M62.47,-303.7C63.57,-295.98 64.9,-286.71 66.13,-278.11\"/>\n",
       "<polygon fill=\"black\" stroke=\"black\" points=\"69.61,-278.5 67.56,-268.1 62.68,-277.51 69.61,-278.5\"/>\n",
       "</g>\n",
       "<!-- foo_End -->\n",
       "<g id=\"node2\" class=\"node\">\n",
       "<title>foo_End</title>\n",
       "<ellipse fill=\"none\" stroke=\"black\" cx=\"330\" cy=\"-34\" rx=\"40.89\" ry=\"18\"/>\n",
       "<text text-anchor=\"middle\" x=\"330\" y=\"-30.3\" font-family=\"Times,serif\" font-size=\"14.00\">foo_End</text>\n",
       "</g>\n",
       "<!-- foo_7 -->\n",
       "<g id=\"node3\" class=\"node\">\n",
       "<title>foo_7</title>\n",
       "<ellipse fill=\"none\" stroke=\"black\" cx=\"330\" cy=\"-250\" rx=\"31.4\" ry=\"18\"/>\n",
       "<text text-anchor=\"middle\" x=\"330\" y=\"-246.3\" font-family=\"Times,serif\" font-size=\"14.00\">foo_7</text>\n",
       "</g>\n",
       "<!-- foo_8 -->\n",
       "<g id=\"node4\" class=\"node\">\n",
       "<title>foo_8</title>\n",
       "<ellipse fill=\"none\" stroke=\"black\" cx=\"330\" cy=\"-178\" rx=\"31.4\" ry=\"18\"/>\n",
       "<text text-anchor=\"middle\" x=\"330\" y=\"-174.3\" font-family=\"Times,serif\" font-size=\"14.00\">foo_8</text>\n",
       "</g>\n",
       "<!-- foo_7&#45;&gt;foo_8 -->\n",
       "<g id=\"edge2\" class=\"edge\">\n",
       "<title>foo_7&#45;&gt;foo_8</title>\n",
       "<path fill=\"none\" stroke=\"black\" d=\"M330,-231.7C330,-223.98 330,-214.71 330,-206.11\"/>\n",
       "<polygon fill=\"black\" stroke=\"black\" points=\"333.5,-206.1 330,-196.1 326.5,-206.1 333.5,-206.1\"/>\n",
       "</g>\n",
       "<!-- foo_10 -->\n",
       "<g id=\"node5\" class=\"node\">\n",
       "<title>foo_10</title>\n",
       "<ellipse fill=\"none\" stroke=\"black\" cx=\"330\" cy=\"-106\" rx=\"36\" ry=\"18\"/>\n",
       "<text text-anchor=\"middle\" x=\"330\" y=\"-102.3\" font-family=\"Times,serif\" font-size=\"14.00\">foo_10</text>\n",
       "</g>\n",
       "<!-- foo_8&#45;&gt;foo_10 -->\n",
       "<g id=\"edge3\" class=\"edge\">\n",
       "<title>foo_8&#45;&gt;foo_10</title>\n",
       "<path fill=\"none\" stroke=\"black\" d=\"M330,-159.7C330,-151.98 330,-142.71 330,-134.11\"/>\n",
       "<polygon fill=\"black\" stroke=\"black\" points=\"333.5,-134.1 330,-124.1 326.5,-134.1 333.5,-134.1\"/>\n",
       "</g>\n",
       "<!-- foo_10&#45;&gt;foo_End -->\n",
       "<g id=\"edge4\" class=\"edge\">\n",
       "<title>foo_10&#45;&gt;foo_End</title>\n",
       "<path fill=\"none\" stroke=\"black\" d=\"M330,-87.7C330,-79.98 330,-70.71 330,-62.11\"/>\n",
       "<polygon fill=\"black\" stroke=\"black\" points=\"333.5,-62.1 330,-52.1 326.5,-62.1 333.5,-62.1\"/>\n",
       "</g>\n",
       "<!-- bar_1_Start -->\n",
       "<g id=\"node13\" class=\"node\">\n",
       "<title>bar_1_Start</title>\n",
       "<ellipse fill=\"none\" stroke=\"black\" cx=\"124\" cy=\"-538\" rx=\"51.99\" ry=\"18\"/>\n",
       "<text text-anchor=\"middle\" x=\"124\" y=\"-534.3\" font-family=\"Times,serif\" font-size=\"14.00\">bar_1_Start</text>\n",
       "</g>\n",
       "<!-- foo_4 (Call)&#45;&gt;bar_1_Start -->\n",
       "<g id=\"edge8\" class=\"edge\">\n",
       "<title>foo_4 (Call)&#45;&gt;bar_1_Start</title>\n",
       "<path fill=\"none\" stroke=\"black\" d=\"M43.32,-265.71C29.74,-274.79 14.54,-287.8 7,-304 -1.25,-321.73 2.45,-328.98 7,-348 22.77,-413.92 37.58,-428.16 76,-484 83.08,-494.28 92,-504.66 100.22,-513.48\"/>\n",
       "<polygon fill=\"black\" stroke=\"black\" points=\"97.77,-515.98 107.21,-520.78 102.83,-511.14 97.77,-515.98\"/>\n",
       "</g>\n",
       "<!-- foo_4 (Return) -->\n",
       "<g id=\"node7\" class=\"node\">\n",
       "<title>foo_4 (Return)</title>\n",
       "<ellipse fill=\"none\" stroke=\"black\" cx=\"185\" cy=\"-322\" rx=\"63.89\" ry=\"18\"/>\n",
       "<text text-anchor=\"middle\" x=\"185\" y=\"-318.3\" font-family=\"Times,serif\" font-size=\"14.00\">foo_4 (Return)</text>\n",
       "</g>\n",
       "<!-- foo_5 (Call) -->\n",
       "<g id=\"node8\" class=\"node\">\n",
       "<title>foo_5 (Call)</title>\n",
       "<ellipse fill=\"none\" stroke=\"black\" cx=\"212\" cy=\"-250\" rx=\"53.89\" ry=\"18\"/>\n",
       "<text text-anchor=\"middle\" x=\"212\" y=\"-246.3\" font-family=\"Times,serif\" font-size=\"14.00\">foo_5 (Call)</text>\n",
       "</g>\n",
       "<!-- foo_4 (Return)&#45;&gt;foo_5 (Call) -->\n",
       "<g id=\"edge9\" class=\"edge\">\n",
       "<title>foo_4 (Return)&#45;&gt;foo_5 (Call)</title>\n",
       "<path fill=\"none\" stroke=\"black\" d=\"M191.54,-304.05C194.57,-296.18 198.26,-286.62 201.67,-277.79\"/>\n",
       "<polygon fill=\"black\" stroke=\"black\" points=\"205,-278.86 205.34,-268.28 198.47,-276.35 205,-278.86\"/>\n",
       "</g>\n",
       "<!-- bar_2_Start -->\n",
       "<g id=\"node10\" class=\"node\">\n",
       "<title>bar_2_Start</title>\n",
       "<ellipse fill=\"none\" stroke=\"black\" cx=\"337\" cy=\"-538\" rx=\"51.99\" ry=\"18\"/>\n",
       "<text text-anchor=\"middle\" x=\"337\" y=\"-534.3\" font-family=\"Times,serif\" font-size=\"14.00\">bar_2_Start</text>\n",
       "</g>\n",
       "<!-- foo_5 (Call)&#45;&gt;bar_2_Start -->\n",
       "<g id=\"edge13\" class=\"edge\">\n",
       "<title>foo_5 (Call)&#45;&gt;bar_2_Start</title>\n",
       "<path fill=\"none\" stroke=\"black\" d=\"M254.02,-261.29C308.85,-274.92 398.39,-297.94 403,-304 451.66,-368 418.79,-411.05 385,-484 379.97,-494.87 371.91,-505.07 363.82,-513.57\"/>\n",
       "<polygon fill=\"black\" stroke=\"black\" points=\"361.11,-511.33 356.48,-520.86 366.04,-516.3 361.11,-511.33\"/>\n",
       "</g>\n",
       "<!-- foo_5 (Return) -->\n",
       "<g id=\"node9\" class=\"node\">\n",
       "<title>foo_5 (Return)</title>\n",
       "<ellipse fill=\"none\" stroke=\"black\" cx=\"330\" cy=\"-322\" rx=\"63.89\" ry=\"18\"/>\n",
       "<text text-anchor=\"middle\" x=\"330\" y=\"-318.3\" font-family=\"Times,serif\" font-size=\"14.00\">foo_5 (Return)</text>\n",
       "</g>\n",
       "<!-- foo_5 (Return)&#45;&gt;foo_7 -->\n",
       "<g id=\"edge14\" class=\"edge\">\n",
       "<title>foo_5 (Return)&#45;&gt;foo_7</title>\n",
       "<path fill=\"none\" stroke=\"black\" d=\"M330,-303.7C330,-295.98 330,-286.71 330,-278.11\"/>\n",
       "<polygon fill=\"black\" stroke=\"black\" points=\"333.5,-278.1 330,-268.1 326.5,-278.1 333.5,-278.1\"/>\n",
       "</g>\n",
       "<!-- bar_2_3 -->\n",
       "<g id=\"node12\" class=\"node\">\n",
       "<title>bar_2_3</title>\n",
       "<ellipse fill=\"none\" stroke=\"black\" cx=\"336\" cy=\"-466\" rx=\"39.79\" ry=\"18\"/>\n",
       "<text text-anchor=\"middle\" x=\"336\" y=\"-462.3\" font-family=\"Times,serif\" font-size=\"14.00\">bar_2_3</text>\n",
       "</g>\n",
       "<!-- bar_2_Start&#45;&gt;bar_2_3 -->\n",
       "<g id=\"edge10\" class=\"edge\">\n",
       "<title>bar_2_Start&#45;&gt;bar_2_3</title>\n",
       "<path fill=\"none\" stroke=\"black\" d=\"M336.75,-519.7C336.64,-511.98 336.51,-502.71 336.39,-494.11\"/>\n",
       "<polygon fill=\"black\" stroke=\"black\" points=\"339.89,-494.05 336.24,-484.1 332.89,-494.15 339.89,-494.05\"/>\n",
       "</g>\n",
       "<!-- bar_2_End -->\n",
       "<g id=\"node11\" class=\"node\">\n",
       "<title>bar_2_End</title>\n",
       "<ellipse fill=\"none\" stroke=\"black\" cx=\"335\" cy=\"-394\" rx=\"49.29\" ry=\"18\"/>\n",
       "<text text-anchor=\"middle\" x=\"335\" y=\"-390.3\" font-family=\"Times,serif\" font-size=\"14.00\">bar_2_End</text>\n",
       "</g>\n",
       "<!-- bar_2_End&#45;&gt;foo_5 (Return) -->\n",
       "<g id=\"edge11\" class=\"edge\">\n",
       "<title>bar_2_End&#45;&gt;foo_5 (Return)</title>\n",
       "<path fill=\"none\" stroke=\"black\" d=\"M333.76,-375.7C333.21,-367.98 332.55,-358.71 331.94,-350.11\"/>\n",
       "<polygon fill=\"black\" stroke=\"black\" points=\"335.43,-349.83 331.22,-340.1 328.44,-350.33 335.43,-349.83\"/>\n",
       "</g>\n",
       "<!-- bar_2_3&#45;&gt;bar_2_End -->\n",
       "<g id=\"edge12\" class=\"edge\">\n",
       "<title>bar_2_3&#45;&gt;bar_2_End</title>\n",
       "<path fill=\"none\" stroke=\"black\" d=\"M335.75,-447.7C335.64,-439.98 335.51,-430.71 335.39,-422.11\"/>\n",
       "<polygon fill=\"black\" stroke=\"black\" points=\"338.89,-422.05 335.24,-412.1 331.89,-422.15 338.89,-422.05\"/>\n",
       "</g>\n",
       "<!-- bar_1_3 -->\n",
       "<g id=\"node15\" class=\"node\">\n",
       "<title>bar_1_3</title>\n",
       "<ellipse fill=\"none\" stroke=\"black\" cx=\"125\" cy=\"-466\" rx=\"39.79\" ry=\"18\"/>\n",
       "<text text-anchor=\"middle\" x=\"125\" y=\"-462.3\" font-family=\"Times,serif\" font-size=\"14.00\">bar_1_3</text>\n",
       "</g>\n",
       "<!-- bar_1_Start&#45;&gt;bar_1_3 -->\n",
       "<g id=\"edge5\" class=\"edge\">\n",
       "<title>bar_1_Start&#45;&gt;bar_1_3</title>\n",
       "<path fill=\"none\" stroke=\"black\" d=\"M124.25,-519.7C124.36,-511.98 124.49,-502.71 124.61,-494.11\"/>\n",
       "<polygon fill=\"black\" stroke=\"black\" points=\"128.11,-494.15 124.76,-484.1 121.11,-494.05 128.11,-494.15\"/>\n",
       "</g>\n",
       "<!-- bar_1_End -->\n",
       "<g id=\"node14\" class=\"node\">\n",
       "<title>bar_1_End</title>\n",
       "<ellipse fill=\"none\" stroke=\"black\" cx=\"126\" cy=\"-394\" rx=\"49.29\" ry=\"18\"/>\n",
       "<text text-anchor=\"middle\" x=\"126\" y=\"-390.3\" font-family=\"Times,serif\" font-size=\"14.00\">bar_1_End</text>\n",
       "</g>\n",
       "<!-- bar_1_End&#45;&gt;foo_4 (Return) -->\n",
       "<g id=\"edge6\" class=\"edge\">\n",
       "<title>bar_1_End&#45;&gt;foo_4 (Return)</title>\n",
       "<path fill=\"none\" stroke=\"black\" d=\"M139.98,-376.41C147.22,-367.82 156.21,-357.16 164.24,-347.63\"/>\n",
       "<polygon fill=\"black\" stroke=\"black\" points=\"166.94,-349.86 170.71,-339.96 161.59,-345.35 166.94,-349.86\"/>\n",
       "</g>\n",
       "<!-- bar_1_3&#45;&gt;bar_1_End -->\n",
       "<g id=\"edge7\" class=\"edge\">\n",
       "<title>bar_1_3&#45;&gt;bar_1_End</title>\n",
       "<path fill=\"none\" stroke=\"black\" d=\"M125.25,-447.7C125.36,-439.98 125.49,-430.71 125.61,-422.11\"/>\n",
       "<polygon fill=\"black\" stroke=\"black\" points=\"129.11,-422.15 125.76,-412.1 122.11,-422.05 129.11,-422.15\"/>\n",
       "</g>\n",
       "</g>\n",
       "</svg>\n"
      ],
      "text/plain": [
       "<graphviz.graphs.Digraph at 0x10a382670>"
      ]
     },
     "execution_count": 109,
     "metadata": {},
     "output_type": "execute_result"
    }
   ],
   "source": [
    "scfg_clones.dot()"
   ]
  },
  {
   "cell_type": "code",
   "execution_count": 110,
   "id": "8902047c",
   "metadata": {},
   "outputs": [],
   "source": [
    "@alpha.register(javalang.tree.MethodInvocation)\n",
    "def alpha_methodcall(statement, cfg_node, values):\n",
    "\n",
    "    for s in cfg_node.graph.predecessors(cfg_node):\n",
    "        if str(s).endswith(\"End\"):\n",
    "            ctx = f\"return_{s.method_name}\"\n",
    "            if ctx in values:\n",
    "                return values[ctx]\n",
    "    return zero_lattice.bottom"
   ]
  },
  {
   "cell_type": "code",
   "execution_count": 111,
   "id": "22097704",
   "metadata": {
    "slideshow": {
     "slide_type": "slide"
    }
   },
   "outputs": [],
   "source": [
    "def alpha_trans(node, target_node, in_facts):\n",
    "    result = in_facts.copy()\n",
    "    \n",
    "    if isinstance(node, CallNode):   \n",
    "        for _, call in node.ast_node.filter(javalang.tree.MethodInvocation):\n",
    "            called_method = methods[call.member]\n",
    "            num_argument = 0\n",
    "            for argument in call.arguments:\n",
    "                var = called_method.parameters[num_argument].name\n",
    "                # Assign rather than join\n",
    "                result.values[var] = alpha(argument, target_node, result.values)\n",
    "                num_argument += 1\n",
    "    elif node.ast_node == \"End\":\n",
    "        pass\n",
    "    else:    \n",
    "        alpha(node.ast_node, node, result.values)\n",
    "\n",
    "    return result"
   ]
  },
  {
   "cell_type": "code",
   "execution_count": 112,
   "id": "3baf1e6e",
   "metadata": {
    "slideshow": {
     "slide_type": "fragment"
    }
   },
   "outputs": [
    {
     "data": {
      "text/plain": [
       "{'a', 'return_bar_1', 'return_bar_2', 'return_foo', 'x', 'y', 'z'}"
      ]
     },
     "execution_count": 112,
     "metadata": {},
     "output_type": "execute_result"
    }
   ],
   "source": [
    "variables(scfg_clones)"
   ]
  },
  {
   "cell_type": "code",
   "execution_count": 113,
   "id": "3ea3f9cc",
   "metadata": {
    "slideshow": {
     "slide_type": "slide"
    }
   },
   "outputs": [],
   "source": [
    "P = ProgramLattice(variables(scfg_clones), zero_lattice)"
   ]
  },
  {
   "cell_type": "code",
   "execution_count": 114,
   "id": "7c0f5a1d",
   "metadata": {
    "slideshow": {
     "slide_type": "fragment"
    }
   },
   "outputs": [],
   "source": [
    "analysis = DataFlowAnalysis(scfg_clones, P, alpha_trans, False)"
   ]
  },
  {
   "cell_type": "code",
   "execution_count": 115,
   "id": "27550b58",
   "metadata": {
    "slideshow": {
     "slide_type": "fragment"
    }
   },
   "outputs": [],
   "source": [
    "analysis.apply()"
   ]
  },
  {
   "cell_type": "code",
   "execution_count": 116,
   "id": "a343d439",
   "metadata": {
    "slideshow": {
     "slide_type": "fragment"
    }
   },
   "outputs": [
    {
     "name": "stdout",
     "output_type": "stream",
     "text": [
      "Division by zero in line 7\n"
     ]
    }
   ],
   "source": [
    "check_divisionbyzero(scfg_clones)"
   ]
  },
  {
   "cell_type": "markdown",
   "id": "918edfec",
   "metadata": {
    "slideshow": {
     "slide_type": "skip"
    }
   },
   "source": [
    "Cloning is just one example of how to create a context-sensitive analysis, and as discussed in the lecture there are some limitations to think of (e.g. recursion). For the assignment, other alternatives (e.g. call strings) may be easier?"
   ]
  }
 ],
 "metadata": {
  "celltoolbar": "Slideshow",
  "kernelspec": {
   "display_name": "Python 3 (ipykernel)",
   "language": "python",
   "name": "python3"
  },
  "language_info": {
   "codemirror_mode": {
    "name": "ipython",
    "version": 3
   },
   "file_extension": ".py",
   "mimetype": "text/x-python",
   "name": "python",
   "nbconvert_exporter": "python",
   "pygments_lexer": "ipython3",
   "version": "3.9.0"
  }
 },
 "nbformat": 4,
 "nbformat_minor": 5
}
